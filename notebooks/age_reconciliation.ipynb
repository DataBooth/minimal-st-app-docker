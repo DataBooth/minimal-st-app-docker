{
 "cells": [
  {
   "cell_type": "code",
   "execution_count": 60,
   "metadata": {},
   "outputs": [],
   "source": [
    "import pandas as pd\n",
    "import numpy as np\n",
    "\n",
    "from pprint import pprint"
   ]
  },
  {
   "cell_type": "code",
   "execution_count": 65,
   "metadata": {},
   "outputs": [],
   "source": [
    "from parent_in_path import add_parent_to_path"
   ]
  },
  {
   "cell_type": "code",
   "execution_count": 3,
   "metadata": {},
   "outputs": [],
   "source": [
    "path = add_parent_to_path()"
   ]
  },
  {
   "cell_type": "code",
   "execution_count": 61,
   "metadata": {},
   "outputs": [
    {
     "name": "stdout",
     "output_type": "stream",
     "text": [
      "['/Users/mjboothaus/code/github/mjboothaus/titanic/notebooks',\n",
      " '/Users/mjboothaus/.vscode/extensions/ms-toolsai.jupyter-2022.7.1102252217/pythonFiles',\n",
      " '/Users/mjboothaus/.vscode/extensions/ms-toolsai.jupyter-2022.7.1102252217/pythonFiles/lib/python',\n",
      " '/Users/mjboothaus/.pyenv/versions/3.9.12/lib/python39.zip',\n",
      " '/Users/mjboothaus/.pyenv/versions/3.9.12/lib/python3.9',\n",
      " '/Users/mjboothaus/.pyenv/versions/3.9.12/lib/python3.9/lib-dynload',\n",
      " '',\n",
      " '/Users/mjboothaus/code/github/mjboothaus/titanic/.venv_dev_titanic-streamlit-app/lib/python3.9/site-packages',\n",
      " '/Users/mjboothaus/code/github/mjboothaus/titanic']\n"
     ]
    }
   ],
   "source": [
    "pprint(path)"
   ]
  },
  {
   "cell_type": "code",
   "execution_count": 5,
   "metadata": {},
   "outputs": [
    {
     "name": "stderr",
     "output_type": "stream",
     "text": [
      "2022-09-07 15:59:08.202 INFO    visions.backends: Pandas backend loaded 1.4.3\n",
      "2022-09-07 15:59:08.205 INFO    visions.backends: Numpy backend loaded 1.23.2\n",
      "2022-09-07 15:59:08.205 INFO    visions.backends: Pyspark backend NOT loaded\n",
      "2022-09-07 15:59:08.206 INFO    visions.backends: Python backend loaded\n"
     ]
    }
   ],
   "source": [
    "from app.src.datasource import load_data"
   ]
  },
  {
   "cell_type": "code",
   "execution_count": 6,
   "metadata": {},
   "outputs": [],
   "source": [
    "train_df, test_df = load_data()"
   ]
  },
  {
   "cell_type": "code",
   "execution_count": 7,
   "metadata": {},
   "outputs": [
    {
     "name": "stdout",
     "output_type": "stream",
     "text": [
      "<class 'pandas.core.frame.DataFrame'>\n",
      "RangeIndex: 891 entries, 0 to 890\n",
      "Data columns (total 12 columns):\n",
      " #   Column       Non-Null Count  Dtype  \n",
      "---  ------       --------------  -----  \n",
      " 0   PassengerId  891 non-null    int64  \n",
      " 1   Survived     891 non-null    int64  \n",
      " 2   Pclass       891 non-null    int64  \n",
      " 3   Name         891 non-null    object \n",
      " 4   Sex          891 non-null    object \n",
      " 5   Age          714 non-null    float64\n",
      " 6   SibSp        891 non-null    int64  \n",
      " 7   Parch        891 non-null    int64  \n",
      " 8   Ticket       891 non-null    object \n",
      " 9   Fare         891 non-null    float64\n",
      " 10  Cabin        204 non-null    object \n",
      " 11  Embarked     889 non-null    object \n",
      "dtypes: float64(2), int64(5), object(5)\n",
      "memory usage: 83.7+ KB\n"
     ]
    }
   ],
   "source": [
    "train_df.info()"
   ]
  },
  {
   "cell_type": "code",
   "execution_count": 8,
   "metadata": {},
   "outputs": [
    {
     "name": "stdout",
     "output_type": "stream",
     "text": [
      "<class 'pandas.core.frame.DataFrame'>\n",
      "RangeIndex: 418 entries, 0 to 417\n",
      "Data columns (total 11 columns):\n",
      " #   Column       Non-Null Count  Dtype  \n",
      "---  ------       --------------  -----  \n",
      " 0   PassengerId  418 non-null    int64  \n",
      " 1   Pclass       418 non-null    int64  \n",
      " 2   Name         418 non-null    object \n",
      " 3   Sex          418 non-null    object \n",
      " 4   Age          332 non-null    float64\n",
      " 5   SibSp        418 non-null    int64  \n",
      " 6   Parch        418 non-null    int64  \n",
      " 7   Ticket       418 non-null    object \n",
      " 8   Fare         417 non-null    float64\n",
      " 9   Cabin        91 non-null     object \n",
      " 10  Embarked     418 non-null    object \n",
      "dtypes: float64(2), int64(4), object(5)\n",
      "memory usage: 36.0+ KB\n"
     ]
    }
   ],
   "source": [
    "test_df.info()"
   ]
  },
  {
   "cell_type": "code",
   "execution_count": 9,
   "metadata": {},
   "outputs": [],
   "source": [
    "train_df.drop(columns=[\"Survived\"], inplace=True)"
   ]
  },
  {
   "cell_type": "code",
   "execution_count": 10,
   "metadata": {},
   "outputs": [
    {
     "data": {
      "text/html": [
       "<div>\n",
       "<style scoped>\n",
       "    .dataframe tbody tr th:only-of-type {\n",
       "        vertical-align: middle;\n",
       "    }\n",
       "\n",
       "    .dataframe tbody tr th {\n",
       "        vertical-align: top;\n",
       "    }\n",
       "\n",
       "    .dataframe thead th {\n",
       "        text-align: right;\n",
       "    }\n",
       "</style>\n",
       "<table border=\"1\" class=\"dataframe\">\n",
       "  <thead>\n",
       "    <tr style=\"text-align: right;\">\n",
       "      <th></th>\n",
       "      <th>PassengerId</th>\n",
       "      <th>Pclass</th>\n",
       "      <th>Name</th>\n",
       "      <th>Sex</th>\n",
       "      <th>Age</th>\n",
       "      <th>SibSp</th>\n",
       "      <th>Parch</th>\n",
       "      <th>Ticket</th>\n",
       "      <th>Fare</th>\n",
       "      <th>Cabin</th>\n",
       "      <th>Embarked</th>\n",
       "    </tr>\n",
       "  </thead>\n",
       "  <tbody>\n",
       "    <tr>\n",
       "      <th>886</th>\n",
       "      <td>887</td>\n",
       "      <td>2</td>\n",
       "      <td>Montvila, Rev. Juozas</td>\n",
       "      <td>male</td>\n",
       "      <td>27.0</td>\n",
       "      <td>0</td>\n",
       "      <td>0</td>\n",
       "      <td>211536</td>\n",
       "      <td>13.00</td>\n",
       "      <td>NaN</td>\n",
       "      <td>S</td>\n",
       "    </tr>\n",
       "    <tr>\n",
       "      <th>887</th>\n",
       "      <td>888</td>\n",
       "      <td>1</td>\n",
       "      <td>Graham, Miss. Margaret Edith</td>\n",
       "      <td>female</td>\n",
       "      <td>19.0</td>\n",
       "      <td>0</td>\n",
       "      <td>0</td>\n",
       "      <td>112053</td>\n",
       "      <td>30.00</td>\n",
       "      <td>B42</td>\n",
       "      <td>S</td>\n",
       "    </tr>\n",
       "    <tr>\n",
       "      <th>888</th>\n",
       "      <td>889</td>\n",
       "      <td>3</td>\n",
       "      <td>Johnston, Miss. Catherine Helen \"Carrie\"</td>\n",
       "      <td>female</td>\n",
       "      <td>NaN</td>\n",
       "      <td>1</td>\n",
       "      <td>2</td>\n",
       "      <td>W./C. 6607</td>\n",
       "      <td>23.45</td>\n",
       "      <td>NaN</td>\n",
       "      <td>S</td>\n",
       "    </tr>\n",
       "    <tr>\n",
       "      <th>889</th>\n",
       "      <td>890</td>\n",
       "      <td>1</td>\n",
       "      <td>Behr, Mr. Karl Howell</td>\n",
       "      <td>male</td>\n",
       "      <td>26.0</td>\n",
       "      <td>0</td>\n",
       "      <td>0</td>\n",
       "      <td>111369</td>\n",
       "      <td>30.00</td>\n",
       "      <td>C148</td>\n",
       "      <td>C</td>\n",
       "    </tr>\n",
       "    <tr>\n",
       "      <th>890</th>\n",
       "      <td>891</td>\n",
       "      <td>3</td>\n",
       "      <td>Dooley, Mr. Patrick</td>\n",
       "      <td>male</td>\n",
       "      <td>32.0</td>\n",
       "      <td>0</td>\n",
       "      <td>0</td>\n",
       "      <td>370376</td>\n",
       "      <td>7.75</td>\n",
       "      <td>NaN</td>\n",
       "      <td>Q</td>\n",
       "    </tr>\n",
       "  </tbody>\n",
       "</table>\n",
       "</div>"
      ],
      "text/plain": [
       "     PassengerId  Pclass                                      Name     Sex  \\\n",
       "886          887       2                     Montvila, Rev. Juozas    male   \n",
       "887          888       1              Graham, Miss. Margaret Edith  female   \n",
       "888          889       3  Johnston, Miss. Catherine Helen \"Carrie\"  female   \n",
       "889          890       1                     Behr, Mr. Karl Howell    male   \n",
       "890          891       3                       Dooley, Mr. Patrick    male   \n",
       "\n",
       "      Age  SibSp  Parch      Ticket   Fare Cabin Embarked  \n",
       "886  27.0      0      0      211536  13.00   NaN        S  \n",
       "887  19.0      0      0      112053  30.00   B42        S  \n",
       "888   NaN      1      2  W./C. 6607  23.45   NaN        S  \n",
       "889  26.0      0      0      111369  30.00  C148        C  \n",
       "890  32.0      0      0      370376   7.75   NaN        Q  "
      ]
     },
     "execution_count": 10,
     "metadata": {},
     "output_type": "execute_result"
    }
   ],
   "source": [
    "train_df.tail()"
   ]
  },
  {
   "cell_type": "code",
   "execution_count": 11,
   "metadata": {},
   "outputs": [
    {
     "data": {
      "text/html": [
       "<div>\n",
       "<style scoped>\n",
       "    .dataframe tbody tr th:only-of-type {\n",
       "        vertical-align: middle;\n",
       "    }\n",
       "\n",
       "    .dataframe tbody tr th {\n",
       "        vertical-align: top;\n",
       "    }\n",
       "\n",
       "    .dataframe thead th {\n",
       "        text-align: right;\n",
       "    }\n",
       "</style>\n",
       "<table border=\"1\" class=\"dataframe\">\n",
       "  <thead>\n",
       "    <tr style=\"text-align: right;\">\n",
       "      <th></th>\n",
       "      <th>PassengerId</th>\n",
       "      <th>Pclass</th>\n",
       "      <th>Name</th>\n",
       "      <th>Sex</th>\n",
       "      <th>Age</th>\n",
       "      <th>SibSp</th>\n",
       "      <th>Parch</th>\n",
       "      <th>Ticket</th>\n",
       "      <th>Fare</th>\n",
       "      <th>Cabin</th>\n",
       "      <th>Embarked</th>\n",
       "    </tr>\n",
       "  </thead>\n",
       "  <tbody>\n",
       "    <tr>\n",
       "      <th>0</th>\n",
       "      <td>892</td>\n",
       "      <td>3</td>\n",
       "      <td>Kelly, Mr. James</td>\n",
       "      <td>male</td>\n",
       "      <td>34.5</td>\n",
       "      <td>0</td>\n",
       "      <td>0</td>\n",
       "      <td>330911</td>\n",
       "      <td>7.8292</td>\n",
       "      <td>NaN</td>\n",
       "      <td>Q</td>\n",
       "    </tr>\n",
       "    <tr>\n",
       "      <th>1</th>\n",
       "      <td>893</td>\n",
       "      <td>3</td>\n",
       "      <td>Wilkes, Mrs. James (Ellen Needs)</td>\n",
       "      <td>female</td>\n",
       "      <td>47.0</td>\n",
       "      <td>1</td>\n",
       "      <td>0</td>\n",
       "      <td>363272</td>\n",
       "      <td>7.0000</td>\n",
       "      <td>NaN</td>\n",
       "      <td>S</td>\n",
       "    </tr>\n",
       "    <tr>\n",
       "      <th>2</th>\n",
       "      <td>894</td>\n",
       "      <td>2</td>\n",
       "      <td>Myles, Mr. Thomas Francis</td>\n",
       "      <td>male</td>\n",
       "      <td>62.0</td>\n",
       "      <td>0</td>\n",
       "      <td>0</td>\n",
       "      <td>240276</td>\n",
       "      <td>9.6875</td>\n",
       "      <td>NaN</td>\n",
       "      <td>Q</td>\n",
       "    </tr>\n",
       "    <tr>\n",
       "      <th>3</th>\n",
       "      <td>895</td>\n",
       "      <td>3</td>\n",
       "      <td>Wirz, Mr. Albert</td>\n",
       "      <td>male</td>\n",
       "      <td>27.0</td>\n",
       "      <td>0</td>\n",
       "      <td>0</td>\n",
       "      <td>315154</td>\n",
       "      <td>8.6625</td>\n",
       "      <td>NaN</td>\n",
       "      <td>S</td>\n",
       "    </tr>\n",
       "    <tr>\n",
       "      <th>4</th>\n",
       "      <td>896</td>\n",
       "      <td>3</td>\n",
       "      <td>Hirvonen, Mrs. Alexander (Helga E Lindqvist)</td>\n",
       "      <td>female</td>\n",
       "      <td>22.0</td>\n",
       "      <td>1</td>\n",
       "      <td>1</td>\n",
       "      <td>3101298</td>\n",
       "      <td>12.2875</td>\n",
       "      <td>NaN</td>\n",
       "      <td>S</td>\n",
       "    </tr>\n",
       "  </tbody>\n",
       "</table>\n",
       "</div>"
      ],
      "text/plain": [
       "   PassengerId  Pclass                                          Name     Sex  \\\n",
       "0          892       3                              Kelly, Mr. James    male   \n",
       "1          893       3              Wilkes, Mrs. James (Ellen Needs)  female   \n",
       "2          894       2                     Myles, Mr. Thomas Francis    male   \n",
       "3          895       3                              Wirz, Mr. Albert    male   \n",
       "4          896       3  Hirvonen, Mrs. Alexander (Helga E Lindqvist)  female   \n",
       "\n",
       "    Age  SibSp  Parch   Ticket     Fare Cabin Embarked  \n",
       "0  34.5      0      0   330911   7.8292   NaN        Q  \n",
       "1  47.0      1      0   363272   7.0000   NaN        S  \n",
       "2  62.0      0      0   240276   9.6875   NaN        Q  \n",
       "3  27.0      0      0   315154   8.6625   NaN        S  \n",
       "4  22.0      1      1  3101298  12.2875   NaN        S  "
      ]
     },
     "execution_count": 11,
     "metadata": {},
     "output_type": "execute_result"
    }
   ],
   "source": [
    "test_df.head()"
   ]
  },
  {
   "cell_type": "code",
   "execution_count": 12,
   "metadata": {},
   "outputs": [],
   "source": [
    "all_df = pd.concat([train_df, test_df])"
   ]
  },
  {
   "cell_type": "code",
   "execution_count": 13,
   "metadata": {},
   "outputs": [
    {
     "name": "stdout",
     "output_type": "stream",
     "text": [
      "<class 'pandas.core.frame.DataFrame'>\n",
      "Int64Index: 1309 entries, 0 to 417\n",
      "Data columns (total 11 columns):\n",
      " #   Column       Non-Null Count  Dtype  \n",
      "---  ------       --------------  -----  \n",
      " 0   PassengerId  1309 non-null   int64  \n",
      " 1   Pclass       1309 non-null   int64  \n",
      " 2   Name         1309 non-null   object \n",
      " 3   Sex          1309 non-null   object \n",
      " 4   Age          1046 non-null   float64\n",
      " 5   SibSp        1309 non-null   int64  \n",
      " 6   Parch        1309 non-null   int64  \n",
      " 7   Ticket       1309 non-null   object \n",
      " 8   Fare         1308 non-null   float64\n",
      " 9   Cabin        295 non-null    object \n",
      " 10  Embarked     1307 non-null   object \n",
      "dtypes: float64(2), int64(4), object(5)\n",
      "memory usage: 122.7+ KB\n"
     ]
    }
   ],
   "source": [
    "all_df.info()"
   ]
  },
  {
   "cell_type": "code",
   "execution_count": 14,
   "metadata": {},
   "outputs": [
    {
     "data": {
      "text/html": [
       "<div>\n",
       "<style scoped>\n",
       "    .dataframe tbody tr th:only-of-type {\n",
       "        vertical-align: middle;\n",
       "    }\n",
       "\n",
       "    .dataframe tbody tr th {\n",
       "        vertical-align: top;\n",
       "    }\n",
       "\n",
       "    .dataframe thead th {\n",
       "        text-align: right;\n",
       "    }\n",
       "</style>\n",
       "<table border=\"1\" class=\"dataframe\">\n",
       "  <thead>\n",
       "    <tr style=\"text-align: right;\">\n",
       "      <th></th>\n",
       "      <th>PassengerId</th>\n",
       "      <th>Pclass</th>\n",
       "      <th>Name</th>\n",
       "      <th>Sex</th>\n",
       "      <th>Age</th>\n",
       "      <th>SibSp</th>\n",
       "      <th>Parch</th>\n",
       "      <th>Ticket</th>\n",
       "      <th>Fare</th>\n",
       "      <th>Cabin</th>\n",
       "      <th>Embarked</th>\n",
       "    </tr>\n",
       "  </thead>\n",
       "  <tbody>\n",
       "    <tr>\n",
       "      <th>0</th>\n",
       "      <td>1</td>\n",
       "      <td>3</td>\n",
       "      <td>Braund, Mr. Owen Harris</td>\n",
       "      <td>male</td>\n",
       "      <td>22.0</td>\n",
       "      <td>1</td>\n",
       "      <td>0</td>\n",
       "      <td>A/5 21171</td>\n",
       "      <td>7.2500</td>\n",
       "      <td>NaN</td>\n",
       "      <td>S</td>\n",
       "    </tr>\n",
       "    <tr>\n",
       "      <th>1</th>\n",
       "      <td>2</td>\n",
       "      <td>1</td>\n",
       "      <td>Cumings, Mrs. John Bradley (Florence Briggs Th...</td>\n",
       "      <td>female</td>\n",
       "      <td>38.0</td>\n",
       "      <td>1</td>\n",
       "      <td>0</td>\n",
       "      <td>PC 17599</td>\n",
       "      <td>71.2833</td>\n",
       "      <td>C85</td>\n",
       "      <td>C</td>\n",
       "    </tr>\n",
       "    <tr>\n",
       "      <th>2</th>\n",
       "      <td>3</td>\n",
       "      <td>3</td>\n",
       "      <td>Heikkinen, Miss. Laina</td>\n",
       "      <td>female</td>\n",
       "      <td>26.0</td>\n",
       "      <td>0</td>\n",
       "      <td>0</td>\n",
       "      <td>STON/O2. 3101282</td>\n",
       "      <td>7.9250</td>\n",
       "      <td>NaN</td>\n",
       "      <td>S</td>\n",
       "    </tr>\n",
       "    <tr>\n",
       "      <th>3</th>\n",
       "      <td>4</td>\n",
       "      <td>1</td>\n",
       "      <td>Futrelle, Mrs. Jacques Heath (Lily May Peel)</td>\n",
       "      <td>female</td>\n",
       "      <td>35.0</td>\n",
       "      <td>1</td>\n",
       "      <td>0</td>\n",
       "      <td>113803</td>\n",
       "      <td>53.1000</td>\n",
       "      <td>C123</td>\n",
       "      <td>S</td>\n",
       "    </tr>\n",
       "    <tr>\n",
       "      <th>4</th>\n",
       "      <td>5</td>\n",
       "      <td>3</td>\n",
       "      <td>Allen, Mr. William Henry</td>\n",
       "      <td>male</td>\n",
       "      <td>35.0</td>\n",
       "      <td>0</td>\n",
       "      <td>0</td>\n",
       "      <td>373450</td>\n",
       "      <td>8.0500</td>\n",
       "      <td>NaN</td>\n",
       "      <td>S</td>\n",
       "    </tr>\n",
       "  </tbody>\n",
       "</table>\n",
       "</div>"
      ],
      "text/plain": [
       "   PassengerId  Pclass                                               Name  \\\n",
       "0            1       3                            Braund, Mr. Owen Harris   \n",
       "1            2       1  Cumings, Mrs. John Bradley (Florence Briggs Th...   \n",
       "2            3       3                             Heikkinen, Miss. Laina   \n",
       "3            4       1       Futrelle, Mrs. Jacques Heath (Lily May Peel)   \n",
       "4            5       3                           Allen, Mr. William Henry   \n",
       "\n",
       "      Sex   Age  SibSp  Parch            Ticket     Fare Cabin Embarked  \n",
       "0    male  22.0      1      0         A/5 21171   7.2500   NaN        S  \n",
       "1  female  38.0      1      0          PC 17599  71.2833   C85        C  \n",
       "2  female  26.0      0      0  STON/O2. 3101282   7.9250   NaN        S  \n",
       "3  female  35.0      1      0            113803  53.1000  C123        S  \n",
       "4    male  35.0      0      0            373450   8.0500   NaN        S  "
      ]
     },
     "execution_count": 14,
     "metadata": {},
     "output_type": "execute_result"
    }
   ],
   "source": [
    "all_df.head()"
   ]
  },
  {
   "cell_type": "code",
   "execution_count": 15,
   "metadata": {},
   "outputs": [
    {
     "data": {
      "text/html": [
       "<div>\n",
       "<style scoped>\n",
       "    .dataframe tbody tr th:only-of-type {\n",
       "        vertical-align: middle;\n",
       "    }\n",
       "\n",
       "    .dataframe tbody tr th {\n",
       "        vertical-align: top;\n",
       "    }\n",
       "\n",
       "    .dataframe thead th {\n",
       "        text-align: right;\n",
       "    }\n",
       "</style>\n",
       "<table border=\"1\" class=\"dataframe\">\n",
       "  <thead>\n",
       "    <tr style=\"text-align: right;\">\n",
       "      <th></th>\n",
       "      <th>PassengerId</th>\n",
       "      <th>Pclass</th>\n",
       "      <th>Name</th>\n",
       "      <th>Sex</th>\n",
       "      <th>Age</th>\n",
       "      <th>SibSp</th>\n",
       "      <th>Parch</th>\n",
       "      <th>Ticket</th>\n",
       "      <th>Fare</th>\n",
       "      <th>Cabin</th>\n",
       "      <th>Embarked</th>\n",
       "    </tr>\n",
       "  </thead>\n",
       "  <tbody>\n",
       "    <tr>\n",
       "      <th>413</th>\n",
       "      <td>1305</td>\n",
       "      <td>3</td>\n",
       "      <td>Spector, Mr. Woolf</td>\n",
       "      <td>male</td>\n",
       "      <td>NaN</td>\n",
       "      <td>0</td>\n",
       "      <td>0</td>\n",
       "      <td>A.5. 3236</td>\n",
       "      <td>8.0500</td>\n",
       "      <td>NaN</td>\n",
       "      <td>S</td>\n",
       "    </tr>\n",
       "    <tr>\n",
       "      <th>414</th>\n",
       "      <td>1306</td>\n",
       "      <td>1</td>\n",
       "      <td>Oliva y Ocana, Dona. Fermina</td>\n",
       "      <td>female</td>\n",
       "      <td>39.0</td>\n",
       "      <td>0</td>\n",
       "      <td>0</td>\n",
       "      <td>PC 17758</td>\n",
       "      <td>108.9000</td>\n",
       "      <td>C105</td>\n",
       "      <td>C</td>\n",
       "    </tr>\n",
       "    <tr>\n",
       "      <th>415</th>\n",
       "      <td>1307</td>\n",
       "      <td>3</td>\n",
       "      <td>Saether, Mr. Simon Sivertsen</td>\n",
       "      <td>male</td>\n",
       "      <td>38.5</td>\n",
       "      <td>0</td>\n",
       "      <td>0</td>\n",
       "      <td>SOTON/O.Q. 3101262</td>\n",
       "      <td>7.2500</td>\n",
       "      <td>NaN</td>\n",
       "      <td>S</td>\n",
       "    </tr>\n",
       "    <tr>\n",
       "      <th>416</th>\n",
       "      <td>1308</td>\n",
       "      <td>3</td>\n",
       "      <td>Ware, Mr. Frederick</td>\n",
       "      <td>male</td>\n",
       "      <td>NaN</td>\n",
       "      <td>0</td>\n",
       "      <td>0</td>\n",
       "      <td>359309</td>\n",
       "      <td>8.0500</td>\n",
       "      <td>NaN</td>\n",
       "      <td>S</td>\n",
       "    </tr>\n",
       "    <tr>\n",
       "      <th>417</th>\n",
       "      <td>1309</td>\n",
       "      <td>3</td>\n",
       "      <td>Peter, Master. Michael J</td>\n",
       "      <td>male</td>\n",
       "      <td>NaN</td>\n",
       "      <td>1</td>\n",
       "      <td>1</td>\n",
       "      <td>2668</td>\n",
       "      <td>22.3583</td>\n",
       "      <td>NaN</td>\n",
       "      <td>C</td>\n",
       "    </tr>\n",
       "  </tbody>\n",
       "</table>\n",
       "</div>"
      ],
      "text/plain": [
       "     PassengerId  Pclass                          Name     Sex   Age  SibSp  \\\n",
       "413         1305       3            Spector, Mr. Woolf    male   NaN      0   \n",
       "414         1306       1  Oliva y Ocana, Dona. Fermina  female  39.0      0   \n",
       "415         1307       3  Saether, Mr. Simon Sivertsen    male  38.5      0   \n",
       "416         1308       3           Ware, Mr. Frederick    male   NaN      0   \n",
       "417         1309       3      Peter, Master. Michael J    male   NaN      1   \n",
       "\n",
       "     Parch              Ticket      Fare Cabin Embarked  \n",
       "413      0           A.5. 3236    8.0500   NaN        S  \n",
       "414      0            PC 17758  108.9000  C105        C  \n",
       "415      0  SOTON/O.Q. 3101262    7.2500   NaN        S  \n",
       "416      0              359309    8.0500   NaN        S  \n",
       "417      1                2668   22.3583   NaN        C  "
      ]
     },
     "execution_count": 15,
     "metadata": {},
     "output_type": "execute_result"
    }
   ],
   "source": [
    "all_df.tail()"
   ]
  },
  {
   "cell_type": "code",
   "execution_count": 16,
   "metadata": {},
   "outputs": [],
   "source": [
    "oldest_passenger = 65"
   ]
  },
  {
   "cell_type": "code",
   "execution_count": 17,
   "metadata": {},
   "outputs": [
    {
     "data": {
      "text/html": [
       "<div>\n",
       "<style scoped>\n",
       "    .dataframe tbody tr th:only-of-type {\n",
       "        vertical-align: middle;\n",
       "    }\n",
       "\n",
       "    .dataframe tbody tr th {\n",
       "        vertical-align: top;\n",
       "    }\n",
       "\n",
       "    .dataframe thead th {\n",
       "        text-align: right;\n",
       "    }\n",
       "</style>\n",
       "<table border=\"1\" class=\"dataframe\">\n",
       "  <thead>\n",
       "    <tr style=\"text-align: right;\">\n",
       "      <th></th>\n",
       "      <th>PassengerId</th>\n",
       "      <th>Pclass</th>\n",
       "      <th>Name</th>\n",
       "      <th>Sex</th>\n",
       "      <th>Age</th>\n",
       "      <th>SibSp</th>\n",
       "      <th>Parch</th>\n",
       "      <th>Ticket</th>\n",
       "      <th>Fare</th>\n",
       "      <th>Cabin</th>\n",
       "      <th>Embarked</th>\n",
       "    </tr>\n",
       "  </thead>\n",
       "  <tbody>\n",
       "    <tr>\n",
       "      <th>33</th>\n",
       "      <td>34</td>\n",
       "      <td>2</td>\n",
       "      <td>Wheadon, Mr. Edward H</td>\n",
       "      <td>male</td>\n",
       "      <td>66.0</td>\n",
       "      <td>0</td>\n",
       "      <td>0</td>\n",
       "      <td>C.A. 24579</td>\n",
       "      <td>10.5000</td>\n",
       "      <td>NaN</td>\n",
       "      <td>S</td>\n",
       "    </tr>\n",
       "    <tr>\n",
       "      <th>96</th>\n",
       "      <td>97</td>\n",
       "      <td>1</td>\n",
       "      <td>Goldschmidt, Mr. George B</td>\n",
       "      <td>male</td>\n",
       "      <td>71.0</td>\n",
       "      <td>0</td>\n",
       "      <td>0</td>\n",
       "      <td>PC 17754</td>\n",
       "      <td>34.6542</td>\n",
       "      <td>A5</td>\n",
       "      <td>C</td>\n",
       "    </tr>\n",
       "    <tr>\n",
       "      <th>116</th>\n",
       "      <td>117</td>\n",
       "      <td>3</td>\n",
       "      <td>Connors, Mr. Patrick</td>\n",
       "      <td>male</td>\n",
       "      <td>70.5</td>\n",
       "      <td>0</td>\n",
       "      <td>0</td>\n",
       "      <td>370369</td>\n",
       "      <td>7.7500</td>\n",
       "      <td>NaN</td>\n",
       "      <td>Q</td>\n",
       "    </tr>\n",
       "    <tr>\n",
       "      <th>493</th>\n",
       "      <td>494</td>\n",
       "      <td>1</td>\n",
       "      <td>Artagaveytia, Mr. Ramon</td>\n",
       "      <td>male</td>\n",
       "      <td>71.0</td>\n",
       "      <td>0</td>\n",
       "      <td>0</td>\n",
       "      <td>PC 17609</td>\n",
       "      <td>49.5042</td>\n",
       "      <td>NaN</td>\n",
       "      <td>C</td>\n",
       "    </tr>\n",
       "    <tr>\n",
       "      <th>630</th>\n",
       "      <td>631</td>\n",
       "      <td>1</td>\n",
       "      <td>Barkworth, Mr. Algernon Henry Wilson</td>\n",
       "      <td>male</td>\n",
       "      <td>80.0</td>\n",
       "      <td>0</td>\n",
       "      <td>0</td>\n",
       "      <td>27042</td>\n",
       "      <td>30.0000</td>\n",
       "      <td>A23</td>\n",
       "      <td>S</td>\n",
       "    </tr>\n",
       "    <tr>\n",
       "      <th>672</th>\n",
       "      <td>673</td>\n",
       "      <td>2</td>\n",
       "      <td>Mitchell, Mr. Henry Michael</td>\n",
       "      <td>male</td>\n",
       "      <td>70.0</td>\n",
       "      <td>0</td>\n",
       "      <td>0</td>\n",
       "      <td>C.A. 24580</td>\n",
       "      <td>10.5000</td>\n",
       "      <td>NaN</td>\n",
       "      <td>S</td>\n",
       "    </tr>\n",
       "    <tr>\n",
       "      <th>745</th>\n",
       "      <td>746</td>\n",
       "      <td>1</td>\n",
       "      <td>Crosby, Capt. Edward Gifford</td>\n",
       "      <td>male</td>\n",
       "      <td>70.0</td>\n",
       "      <td>1</td>\n",
       "      <td>1</td>\n",
       "      <td>WE/P 5735</td>\n",
       "      <td>71.0000</td>\n",
       "      <td>B22</td>\n",
       "      <td>S</td>\n",
       "    </tr>\n",
       "    <tr>\n",
       "      <th>851</th>\n",
       "      <td>852</td>\n",
       "      <td>3</td>\n",
       "      <td>Svensson, Mr. Johan</td>\n",
       "      <td>male</td>\n",
       "      <td>74.0</td>\n",
       "      <td>0</td>\n",
       "      <td>0</td>\n",
       "      <td>347060</td>\n",
       "      <td>7.7750</td>\n",
       "      <td>NaN</td>\n",
       "      <td>S</td>\n",
       "    </tr>\n",
       "    <tr>\n",
       "      <th>81</th>\n",
       "      <td>973</td>\n",
       "      <td>1</td>\n",
       "      <td>Straus, Mr. Isidor</td>\n",
       "      <td>male</td>\n",
       "      <td>67.0</td>\n",
       "      <td>1</td>\n",
       "      <td>0</td>\n",
       "      <td>PC 17483</td>\n",
       "      <td>221.7792</td>\n",
       "      <td>C55 C57</td>\n",
       "      <td>S</td>\n",
       "    </tr>\n",
       "    <tr>\n",
       "      <th>96</th>\n",
       "      <td>988</td>\n",
       "      <td>1</td>\n",
       "      <td>Cavendish, Mrs. Tyrell William (Julia Florence...</td>\n",
       "      <td>female</td>\n",
       "      <td>76.0</td>\n",
       "      <td>1</td>\n",
       "      <td>0</td>\n",
       "      <td>19877</td>\n",
       "      <td>78.8500</td>\n",
       "      <td>C46</td>\n",
       "      <td>S</td>\n",
       "    </tr>\n",
       "  </tbody>\n",
       "</table>\n",
       "</div>"
      ],
      "text/plain": [
       "     PassengerId  Pclass                                               Name  \\\n",
       "33            34       2                              Wheadon, Mr. Edward H   \n",
       "96            97       1                          Goldschmidt, Mr. George B   \n",
       "116          117       3                               Connors, Mr. Patrick   \n",
       "493          494       1                            Artagaveytia, Mr. Ramon   \n",
       "630          631       1               Barkworth, Mr. Algernon Henry Wilson   \n",
       "672          673       2                        Mitchell, Mr. Henry Michael   \n",
       "745          746       1                       Crosby, Capt. Edward Gifford   \n",
       "851          852       3                                Svensson, Mr. Johan   \n",
       "81           973       1                                 Straus, Mr. Isidor   \n",
       "96           988       1  Cavendish, Mrs. Tyrell William (Julia Florence...   \n",
       "\n",
       "        Sex   Age  SibSp  Parch      Ticket      Fare    Cabin Embarked  \n",
       "33     male  66.0      0      0  C.A. 24579   10.5000      NaN        S  \n",
       "96     male  71.0      0      0    PC 17754   34.6542       A5        C  \n",
       "116    male  70.5      0      0      370369    7.7500      NaN        Q  \n",
       "493    male  71.0      0      0    PC 17609   49.5042      NaN        C  \n",
       "630    male  80.0      0      0       27042   30.0000      A23        S  \n",
       "672    male  70.0      0      0  C.A. 24580   10.5000      NaN        S  \n",
       "745    male  70.0      1      1   WE/P 5735   71.0000      B22        S  \n",
       "851    male  74.0      0      0      347060    7.7750      NaN        S  \n",
       "81     male  67.0      1      0    PC 17483  221.7792  C55 C57        S  \n",
       "96   female  76.0      1      0       19877   78.8500      C46        S  "
      ]
     },
     "execution_count": 17,
     "metadata": {},
     "output_type": "execute_result"
    }
   ],
   "source": [
    "all_df[all_df[\"Age\"] > oldest_passenger]"
   ]
  },
  {
   "cell_type": "code",
   "execution_count": 18,
   "metadata": {},
   "outputs": [],
   "source": [
    "enc_titanica_df = pd.read_excel(\"../data/titanica new detail.xlsx\")"
   ]
  },
  {
   "cell_type": "code",
   "execution_count": 19,
   "metadata": {},
   "outputs": [
    {
     "data": {
      "text/html": [
       "<div>\n",
       "<style scoped>\n",
       "    .dataframe tbody tr th:only-of-type {\n",
       "        vertical-align: middle;\n",
       "    }\n",
       "\n",
       "    .dataframe tbody tr th {\n",
       "        vertical-align: top;\n",
       "    }\n",
       "\n",
       "    .dataframe thead th {\n",
       "        text-align: right;\n",
       "    }\n",
       "</style>\n",
       "<table border=\"1\" class=\"dataframe\">\n",
       "  <thead>\n",
       "    <tr style=\"text-align: right;\">\n",
       "      <th></th>\n",
       "      <th>URL</th>\n",
       "      <th>Name</th>\n",
       "      <th>Victim/Survivor</th>\n",
       "      <th>Born</th>\n",
       "      <th>Age</th>\n",
       "      <th>Last Residence</th>\n",
       "      <th>Occupation</th>\n",
       "      <th>Class</th>\n",
       "      <th>Embarked</th>\n",
       "      <th>Tcket</th>\n",
       "      <th>Destination</th>\n",
       "      <th>Death</th>\n",
       "      <th>Body Recovery0</th>\n",
       "    </tr>\n",
       "  </thead>\n",
       "  <tbody>\n",
       "    <tr>\n",
       "      <th>0</th>\n",
       "      <td>https://www.encyclopedia-titanica.org/titanic-...</td>\n",
       "      <td>Name: Mr Jirjis Yūsuf Abī Sa'b (Gerios Yousseff)</td>\n",
       "      <td>Titanic Victim</td>\n",
       "      <td>Born:circa.1867 Born in  Tuḥūm Lebanon</td>\n",
       "      <td>Age: 45 years (Male)</td>\n",
       "      <td>Last Residence: in Hardin Lebanon</td>\n",
       "      <td>Occupation: Shoemaker</td>\n",
       "      <td>3rd Class Passengers</td>\n",
       "      <td>First Embarked: Cherbourg on Wednesday 10th Ap...</td>\n",
       "      <td>Ticket No. 2685, £7 4s 6d</td>\n",
       "      <td>Destination: Youngstown Ohio United States</td>\n",
       "      <td>Died in the Titanic disaster (15th April 1912).</td>\n",
       "      <td>Body recovered by: Minia (No. 312)</td>\n",
       "    </tr>\n",
       "    <tr>\n",
       "      <th>1</th>\n",
       "      <td>https://www.encyclopedia-titanica.org/titanic-...</td>\n",
       "      <td>Name: Mr Nāsīf Qāsim Abī-Al-Munà</td>\n",
       "      <td>Titanic Survivor</td>\n",
       "      <td>Born: Monday 29th September 1884 in Shana Lebanon</td>\n",
       "      <td>Age: 27 years 6 months and 16 days (Male)</td>\n",
       "      <td>Last Residence: in Shana Lebanon</td>\n",
       "      <td>NaN</td>\n",
       "      <td>3rd Class Passengers</td>\n",
       "      <td>First Embarked: Cherbourg on Wednesday 10th Ap...</td>\n",
       "      <td>Ticket No. 2699, £18 15s 9d</td>\n",
       "      <td>Destination: Fredericksburg Virginia United St...</td>\n",
       "      <td>Rescued (boat 15)</td>\n",
       "      <td>NaN</td>\n",
       "    </tr>\n",
       "    <tr>\n",
       "      <th>2</th>\n",
       "      <td>https://www.encyclopedia-titanica.org/titanic-...</td>\n",
       "      <td>Name: Mr Anthony Abbing</td>\n",
       "      <td>Titanic Victim</td>\n",
       "      <td>Born:1870</td>\n",
       "      <td>Age: 42 years (Male)</td>\n",
       "      <td>Last Residence: in Cincinnati Ohio United States</td>\n",
       "      <td>Occupation: Blacksmith</td>\n",
       "      <td>3rd Class Passengers</td>\n",
       "      <td>First Embarked: Southampton on Wednesday 10th ...</td>\n",
       "      <td>Ticket No. 5547, £7 11s</td>\n",
       "      <td>Destination: Cincinnati Ohio United States</td>\n",
       "      <td>Died in the Titanic disaster (15th April 1912).</td>\n",
       "      <td>Body Not Recovered</td>\n",
       "    </tr>\n",
       "    <tr>\n",
       "      <th>3</th>\n",
       "      <td>https://www.encyclopedia-titanica.org/titanic-...</td>\n",
       "      <td>Name: Mrs Rhoda Mary 'Rosa' Abbott (née Hunt)</td>\n",
       "      <td>Titanic Survivor</td>\n",
       "      <td>Born: Tuesday 14th January 1873 in Aylesbury B...</td>\n",
       "      <td>Age: 39 years 3 months and 1 day (Female)</td>\n",
       "      <td>Last Residence: in East Providence Rhode Islan...</td>\n",
       "      <td>NaN</td>\n",
       "      <td>3rd Class Passengers</td>\n",
       "      <td>First Embarked: Southampton on Wednesday 10th ...</td>\n",
       "      <td>Ticket No. CA2673, £20 5s</td>\n",
       "      <td>Destination: East Providence Rhode Island Unit...</td>\n",
       "      <td>Rescued (boat A)</td>\n",
       "      <td>NaN</td>\n",
       "    </tr>\n",
       "    <tr>\n",
       "      <th>4</th>\n",
       "      <td>https://www.encyclopedia-titanica.org/titanic-...</td>\n",
       "      <td>Name: Mr Rossmore Edward Abbott</td>\n",
       "      <td>Titanic Victim</td>\n",
       "      <td>Born: Friday 21st February 1896</td>\n",
       "      <td>Age: 16 years 1 month and 23 days (Male)</td>\n",
       "      <td>Last Residence: in East Providence Rhode Islan...</td>\n",
       "      <td>Occupation: Jeweller</td>\n",
       "      <td>3rd Class Passengers</td>\n",
       "      <td>First Embarked: Southampton on Wednesday 10th ...</td>\n",
       "      <td>Ticket No. CA2673, £20 5s</td>\n",
       "      <td>Destination: East Providence Rhode Island Unit...</td>\n",
       "      <td>Died in the Titanic disaster (15th April 1912).</td>\n",
       "      <td>Body recovered by: Mackay-Bennett (No. 190)</td>\n",
       "    </tr>\n",
       "  </tbody>\n",
       "</table>\n",
       "</div>"
      ],
      "text/plain": [
       "                                                 URL  \\\n",
       "0  https://www.encyclopedia-titanica.org/titanic-...   \n",
       "1  https://www.encyclopedia-titanica.org/titanic-...   \n",
       "2  https://www.encyclopedia-titanica.org/titanic-...   \n",
       "3  https://www.encyclopedia-titanica.org/titanic-...   \n",
       "4  https://www.encyclopedia-titanica.org/titanic-...   \n",
       "\n",
       "                                               Name   Victim/Survivor  \\\n",
       "0  Name: Mr Jirjis Yūsuf Abī Sa'b (Gerios Yousseff)    Titanic Victim   \n",
       "1                  Name: Mr Nāsīf Qāsim Abī-Al-Munà  Titanic Survivor   \n",
       "2                           Name: Mr Anthony Abbing    Titanic Victim   \n",
       "3     Name: Mrs Rhoda Mary 'Rosa' Abbott (née Hunt)  Titanic Survivor   \n",
       "4                   Name: Mr Rossmore Edward Abbott    Titanic Victim   \n",
       "\n",
       "                                                Born  \\\n",
       "0             Born:circa.1867 Born in  Tuḥūm Lebanon   \n",
       "1  Born: Monday 29th September 1884 in Shana Lebanon   \n",
       "2                                          Born:1870   \n",
       "3  Born: Tuesday 14th January 1873 in Aylesbury B...   \n",
       "4                    Born: Friday 21st February 1896   \n",
       "\n",
       "                                         Age  \\\n",
       "0                       Age: 45 years (Male)   \n",
       "1  Age: 27 years 6 months and 16 days (Male)   \n",
       "2                       Age: 42 years (Male)   \n",
       "3  Age: 39 years 3 months and 1 day (Female)   \n",
       "4   Age: 16 years 1 month and 23 days (Male)   \n",
       "\n",
       "                                      Last Residence              Occupation  \\\n",
       "0                  Last Residence: in Hardin Lebanon   Occupation: Shoemaker   \n",
       "1                   Last Residence: in Shana Lebanon                     NaN   \n",
       "2   Last Residence: in Cincinnati Ohio United States  Occupation: Blacksmith   \n",
       "3  Last Residence: in East Providence Rhode Islan...                     NaN   \n",
       "4  Last Residence: in East Providence Rhode Islan...    Occupation: Jeweller   \n",
       "\n",
       "                  Class                                           Embarked  \\\n",
       "0  3rd Class Passengers  First Embarked: Cherbourg on Wednesday 10th Ap...   \n",
       "1  3rd Class Passengers  First Embarked: Cherbourg on Wednesday 10th Ap...   \n",
       "2  3rd Class Passengers  First Embarked: Southampton on Wednesday 10th ...   \n",
       "3  3rd Class Passengers  First Embarked: Southampton on Wednesday 10th ...   \n",
       "4  3rd Class Passengers  First Embarked: Southampton on Wednesday 10th ...   \n",
       "\n",
       "                         Tcket  \\\n",
       "0    Ticket No. 2685, £7 4s 6d   \n",
       "1  Ticket No. 2699, £18 15s 9d   \n",
       "2      Ticket No. 5547, £7 11s   \n",
       "3    Ticket No. CA2673, £20 5s   \n",
       "4    Ticket No. CA2673, £20 5s   \n",
       "\n",
       "                                         Destination  \\\n",
       "0         Destination: Youngstown Ohio United States   \n",
       "1  Destination: Fredericksburg Virginia United St...   \n",
       "2         Destination: Cincinnati Ohio United States   \n",
       "3  Destination: East Providence Rhode Island Unit...   \n",
       "4  Destination: East Providence Rhode Island Unit...   \n",
       "\n",
       "                                             Death  \\\n",
       "0  Died in the Titanic disaster (15th April 1912).   \n",
       "1                                Rescued (boat 15)   \n",
       "2  Died in the Titanic disaster (15th April 1912).   \n",
       "3                                 Rescued (boat A)   \n",
       "4  Died in the Titanic disaster (15th April 1912).   \n",
       "\n",
       "                                Body Recovery0  \n",
       "0           Body recovered by: Minia (No. 312)  \n",
       "1                                          NaN  \n",
       "2                           Body Not Recovered  \n",
       "3                                          NaN  \n",
       "4  Body recovered by: Mackay-Bennett (No. 190)  "
      ]
     },
     "execution_count": 19,
     "metadata": {},
     "output_type": "execute_result"
    }
   ],
   "source": [
    "enc_titanica_df.head()"
   ]
  },
  {
   "cell_type": "code",
   "execution_count": 20,
   "metadata": {},
   "outputs": [
    {
     "name": "stdout",
     "output_type": "stream",
     "text": [
      "https://www.encyclopedia-titanica.org/titanic-victim/gerios-yousseff-abi-saab.html\n"
     ]
    }
   ],
   "source": [
    "print(enc_titanica_df[\"URL\"].iloc[0])"
   ]
  },
  {
   "cell_type": "code",
   "execution_count": 21,
   "metadata": {},
   "outputs": [],
   "source": [
    "def extract_name_enc_titanica_data(name):\n",
    "    return name.replace(\"Name: \", \"\")"
   ]
  },
  {
   "cell_type": "code",
   "execution_count": 22,
   "metadata": {},
   "outputs": [
    {
     "data": {
      "text/plain": [
       "\"Mr Jirjis Yūsuf Abī Sa'b (Gerios Yousseff)\""
      ]
     },
     "execution_count": 22,
     "metadata": {},
     "output_type": "execute_result"
    }
   ],
   "source": [
    "extract_name_enc_titanica_data(enc_titanica_df[\"Name\"].iloc[0])"
   ]
  },
  {
   "cell_type": "code",
   "execution_count": 23,
   "metadata": {},
   "outputs": [
    {
     "data": {
      "text/plain": [
       "'Mr Nāsīf Qāsim Abī-Al-Munà'"
      ]
     },
     "execution_count": 23,
     "metadata": {},
     "output_type": "execute_result"
    }
   ],
   "source": [
    "extract_name_enc_titanica_data(enc_titanica_df[\"Name\"].iloc[1])"
   ]
  },
  {
   "cell_type": "code",
   "execution_count": 24,
   "metadata": {},
   "outputs": [
    {
     "data": {
      "text/plain": [
       "'Mr Anthony Abbing'"
      ]
     },
     "execution_count": 24,
     "metadata": {},
     "output_type": "execute_result"
    }
   ],
   "source": [
    "extract_name_enc_titanica_data(enc_titanica_df[\"Name\"].iloc[2])"
   ]
  },
  {
   "cell_type": "code",
   "execution_count": 25,
   "metadata": {},
   "outputs": [
    {
     "data": {
      "text/plain": [
       "\"Mrs Rhoda Mary 'Rosa' Abbott (née Hunt)\""
      ]
     },
     "execution_count": 25,
     "metadata": {},
     "output_type": "execute_result"
    }
   ],
   "source": [
    "extract_name_enc_titanica_data(enc_titanica_df[\"Name\"].iloc[3])"
   ]
  },
  {
   "cell_type": "code",
   "execution_count": 26,
   "metadata": {},
   "outputs": [
    {
     "data": {
      "text/plain": [
       "'Mr Rossmore Edward Abbott'"
      ]
     },
     "execution_count": 26,
     "metadata": {},
     "output_type": "execute_result"
    }
   ],
   "source": [
    "extract_name_enc_titanica_data(enc_titanica_df[\"Name\"].iloc[4])"
   ]
  },
  {
   "cell_type": "code",
   "execution_count": 27,
   "metadata": {},
   "outputs": [],
   "source": [
    "def extract_title_enc_titanica_data(name):\n",
    "    return name.split(\" \")[1]"
   ]
  },
  {
   "cell_type": "code",
   "execution_count": 28,
   "metadata": {},
   "outputs": [],
   "source": [
    "enc_titanica_df[\"Title\"] = enc_titanica_df[\"Name\"].apply(lambda name: extract_title_enc_titanica_data(name))"
   ]
  },
  {
   "cell_type": "code",
   "execution_count": 44,
   "metadata": {},
   "outputs": [
    {
     "data": {
      "text/plain": [
       "URL                1317\n",
       "Name               1316\n",
       "Victim/Survivor       2\n",
       "Born               1156\n",
       "Age                 996\n",
       "Last Residence      547\n",
       "Occupation          190\n",
       "Class                 3\n",
       "Embarked              8\n",
       "Tcket               937\n",
       "Destination         264\n",
       "Death                27\n",
       "Body Recovery0      132\n",
       "Title                21\n",
       "Sex                   2\n",
       "dtype: int64"
      ]
     },
     "execution_count": 44,
     "metadata": {},
     "output_type": "execute_result"
    }
   ],
   "source": [
    "enc_titanica_df.nunique()"
   ]
  },
  {
   "cell_type": "code",
   "execution_count": 45,
   "metadata": {},
   "outputs": [],
   "source": [
    "enc_titanica_df[\"Survived\"] = enc_titanica_df[\"Victim/Survivor\"].map({\"Titanic Victim\": 0, \"Titanic Survivor\": 1})"
   ]
  },
  {
   "cell_type": "code",
   "execution_count": 47,
   "metadata": {},
   "outputs": [
    {
     "data": {
      "text/html": [
       "<div>\n",
       "<style scoped>\n",
       "    .dataframe tbody tr th:only-of-type {\n",
       "        vertical-align: middle;\n",
       "    }\n",
       "\n",
       "    .dataframe tbody tr th {\n",
       "        vertical-align: top;\n",
       "    }\n",
       "\n",
       "    .dataframe thead th {\n",
       "        text-align: right;\n",
       "    }\n",
       "</style>\n",
       "<table border=\"1\" class=\"dataframe\">\n",
       "  <thead>\n",
       "    <tr style=\"text-align: right;\">\n",
       "      <th></th>\n",
       "      <th>URL</th>\n",
       "      <th>Name</th>\n",
       "      <th>Victim/Survivor</th>\n",
       "      <th>Born</th>\n",
       "      <th>Age</th>\n",
       "      <th>Last Residence</th>\n",
       "      <th>Occupation</th>\n",
       "      <th>Class</th>\n",
       "      <th>Embarked</th>\n",
       "      <th>Tcket</th>\n",
       "      <th>Destination</th>\n",
       "      <th>Death</th>\n",
       "      <th>Body Recovery0</th>\n",
       "      <th>Title</th>\n",
       "      <th>Sex</th>\n",
       "      <th>Survived</th>\n",
       "    </tr>\n",
       "  </thead>\n",
       "  <tbody>\n",
       "    <tr>\n",
       "      <th>0</th>\n",
       "      <td>https://www.encyclopedia-titanica.org/titanic-...</td>\n",
       "      <td>Name: Mr Jirjis Yūsuf Abī Sa'b (Gerios Yousseff)</td>\n",
       "      <td>Titanic Victim</td>\n",
       "      <td>Born:circa.1867 Born in  Tuḥūm Lebanon</td>\n",
       "      <td>Age: 45 years (Male)</td>\n",
       "      <td>Last Residence: in Hardin Lebanon</td>\n",
       "      <td>Occupation: Shoemaker</td>\n",
       "      <td>3rd Class Passengers</td>\n",
       "      <td>First Embarked: Cherbourg on Wednesday 10th Ap...</td>\n",
       "      <td>Ticket No. 2685, £7 4s 6d</td>\n",
       "      <td>Destination: Youngstown Ohio United States</td>\n",
       "      <td>Died in the Titanic disaster (15th April 1912).</td>\n",
       "      <td>Body recovered by: Minia (No. 312)</td>\n",
       "      <td>Mr</td>\n",
       "      <td>Male</td>\n",
       "      <td>0</td>\n",
       "    </tr>\n",
       "    <tr>\n",
       "      <th>1</th>\n",
       "      <td>https://www.encyclopedia-titanica.org/titanic-...</td>\n",
       "      <td>Name: Mr Nāsīf Qāsim Abī-Al-Munà</td>\n",
       "      <td>Titanic Survivor</td>\n",
       "      <td>Born: Monday 29th September 1884 in Shana Lebanon</td>\n",
       "      <td>Age: 27 years 6 months and 16 days (Male)</td>\n",
       "      <td>Last Residence: in Shana Lebanon</td>\n",
       "      <td>NaN</td>\n",
       "      <td>3rd Class Passengers</td>\n",
       "      <td>First Embarked: Cherbourg on Wednesday 10th Ap...</td>\n",
       "      <td>Ticket No. 2699, £18 15s 9d</td>\n",
       "      <td>Destination: Fredericksburg Virginia United St...</td>\n",
       "      <td>Rescued (boat 15)</td>\n",
       "      <td>NaN</td>\n",
       "      <td>Mr</td>\n",
       "      <td>Male</td>\n",
       "      <td>1</td>\n",
       "    </tr>\n",
       "    <tr>\n",
       "      <th>2</th>\n",
       "      <td>https://www.encyclopedia-titanica.org/titanic-...</td>\n",
       "      <td>Name: Mr Anthony Abbing</td>\n",
       "      <td>Titanic Victim</td>\n",
       "      <td>Born:1870</td>\n",
       "      <td>Age: 42 years (Male)</td>\n",
       "      <td>Last Residence: in Cincinnati Ohio United States</td>\n",
       "      <td>Occupation: Blacksmith</td>\n",
       "      <td>3rd Class Passengers</td>\n",
       "      <td>First Embarked: Southampton on Wednesday 10th ...</td>\n",
       "      <td>Ticket No. 5547, £7 11s</td>\n",
       "      <td>Destination: Cincinnati Ohio United States</td>\n",
       "      <td>Died in the Titanic disaster (15th April 1912).</td>\n",
       "      <td>Body Not Recovered</td>\n",
       "      <td>Mr</td>\n",
       "      <td>Male</td>\n",
       "      <td>0</td>\n",
       "    </tr>\n",
       "    <tr>\n",
       "      <th>3</th>\n",
       "      <td>https://www.encyclopedia-titanica.org/titanic-...</td>\n",
       "      <td>Name: Mrs Rhoda Mary 'Rosa' Abbott (née Hunt)</td>\n",
       "      <td>Titanic Survivor</td>\n",
       "      <td>Born: Tuesday 14th January 1873 in Aylesbury B...</td>\n",
       "      <td>Age: 39 years 3 months and 1 day (Female)</td>\n",
       "      <td>Last Residence: in East Providence Rhode Islan...</td>\n",
       "      <td>NaN</td>\n",
       "      <td>3rd Class Passengers</td>\n",
       "      <td>First Embarked: Southampton on Wednesday 10th ...</td>\n",
       "      <td>Ticket No. CA2673, £20 5s</td>\n",
       "      <td>Destination: East Providence Rhode Island Unit...</td>\n",
       "      <td>Rescued (boat A)</td>\n",
       "      <td>NaN</td>\n",
       "      <td>Mrs</td>\n",
       "      <td>Female</td>\n",
       "      <td>1</td>\n",
       "    </tr>\n",
       "    <tr>\n",
       "      <th>4</th>\n",
       "      <td>https://www.encyclopedia-titanica.org/titanic-...</td>\n",
       "      <td>Name: Mr Rossmore Edward Abbott</td>\n",
       "      <td>Titanic Victim</td>\n",
       "      <td>Born: Friday 21st February 1896</td>\n",
       "      <td>Age: 16 years 1 month and 23 days (Male)</td>\n",
       "      <td>Last Residence: in East Providence Rhode Islan...</td>\n",
       "      <td>Occupation: Jeweller</td>\n",
       "      <td>3rd Class Passengers</td>\n",
       "      <td>First Embarked: Southampton on Wednesday 10th ...</td>\n",
       "      <td>Ticket No. CA2673, £20 5s</td>\n",
       "      <td>Destination: East Providence Rhode Island Unit...</td>\n",
       "      <td>Died in the Titanic disaster (15th April 1912).</td>\n",
       "      <td>Body recovered by: Mackay-Bennett (No. 190)</td>\n",
       "      <td>Mr</td>\n",
       "      <td>Male</td>\n",
       "      <td>0</td>\n",
       "    </tr>\n",
       "  </tbody>\n",
       "</table>\n",
       "</div>"
      ],
      "text/plain": [
       "                                                 URL  \\\n",
       "0  https://www.encyclopedia-titanica.org/titanic-...   \n",
       "1  https://www.encyclopedia-titanica.org/titanic-...   \n",
       "2  https://www.encyclopedia-titanica.org/titanic-...   \n",
       "3  https://www.encyclopedia-titanica.org/titanic-...   \n",
       "4  https://www.encyclopedia-titanica.org/titanic-...   \n",
       "\n",
       "                                               Name   Victim/Survivor  \\\n",
       "0  Name: Mr Jirjis Yūsuf Abī Sa'b (Gerios Yousseff)    Titanic Victim   \n",
       "1                  Name: Mr Nāsīf Qāsim Abī-Al-Munà  Titanic Survivor   \n",
       "2                           Name: Mr Anthony Abbing    Titanic Victim   \n",
       "3     Name: Mrs Rhoda Mary 'Rosa' Abbott (née Hunt)  Titanic Survivor   \n",
       "4                   Name: Mr Rossmore Edward Abbott    Titanic Victim   \n",
       "\n",
       "                                                Born  \\\n",
       "0             Born:circa.1867 Born in  Tuḥūm Lebanon   \n",
       "1  Born: Monday 29th September 1884 in Shana Lebanon   \n",
       "2                                          Born:1870   \n",
       "3  Born: Tuesday 14th January 1873 in Aylesbury B...   \n",
       "4                    Born: Friday 21st February 1896   \n",
       "\n",
       "                                         Age  \\\n",
       "0                       Age: 45 years (Male)   \n",
       "1  Age: 27 years 6 months and 16 days (Male)   \n",
       "2                       Age: 42 years (Male)   \n",
       "3  Age: 39 years 3 months and 1 day (Female)   \n",
       "4   Age: 16 years 1 month and 23 days (Male)   \n",
       "\n",
       "                                      Last Residence              Occupation  \\\n",
       "0                  Last Residence: in Hardin Lebanon   Occupation: Shoemaker   \n",
       "1                   Last Residence: in Shana Lebanon                     NaN   \n",
       "2   Last Residence: in Cincinnati Ohio United States  Occupation: Blacksmith   \n",
       "3  Last Residence: in East Providence Rhode Islan...                     NaN   \n",
       "4  Last Residence: in East Providence Rhode Islan...    Occupation: Jeweller   \n",
       "\n",
       "                  Class                                           Embarked  \\\n",
       "0  3rd Class Passengers  First Embarked: Cherbourg on Wednesday 10th Ap...   \n",
       "1  3rd Class Passengers  First Embarked: Cherbourg on Wednesday 10th Ap...   \n",
       "2  3rd Class Passengers  First Embarked: Southampton on Wednesday 10th ...   \n",
       "3  3rd Class Passengers  First Embarked: Southampton on Wednesday 10th ...   \n",
       "4  3rd Class Passengers  First Embarked: Southampton on Wednesday 10th ...   \n",
       "\n",
       "                         Tcket  \\\n",
       "0    Ticket No. 2685, £7 4s 6d   \n",
       "1  Ticket No. 2699, £18 15s 9d   \n",
       "2      Ticket No. 5547, £7 11s   \n",
       "3    Ticket No. CA2673, £20 5s   \n",
       "4    Ticket No. CA2673, £20 5s   \n",
       "\n",
       "                                         Destination  \\\n",
       "0         Destination: Youngstown Ohio United States   \n",
       "1  Destination: Fredericksburg Virginia United St...   \n",
       "2         Destination: Cincinnati Ohio United States   \n",
       "3  Destination: East Providence Rhode Island Unit...   \n",
       "4  Destination: East Providence Rhode Island Unit...   \n",
       "\n",
       "                                             Death  \\\n",
       "0  Died in the Titanic disaster (15th April 1912).   \n",
       "1                                Rescued (boat 15)   \n",
       "2  Died in the Titanic disaster (15th April 1912).   \n",
       "3                                 Rescued (boat A)   \n",
       "4  Died in the Titanic disaster (15th April 1912).   \n",
       "\n",
       "                                Body Recovery0 Title     Sex  Survived  \n",
       "0           Body recovered by: Minia (No. 312)    Mr    Male         0  \n",
       "1                                          NaN    Mr    Male         1  \n",
       "2                           Body Not Recovered    Mr    Male         0  \n",
       "3                                          NaN   Mrs  Female         1  \n",
       "4  Body recovered by: Mackay-Bennett (No. 190)    Mr    Male         0  "
      ]
     },
     "execution_count": 47,
     "metadata": {},
     "output_type": "execute_result"
    }
   ],
   "source": [
    "enc_titanica_df.head()"
   ]
  },
  {
   "cell_type": "code",
   "execution_count": 46,
   "metadata": {},
   "outputs": [
    {
     "data": {
      "text/html": [
       "<div>\n",
       "<style scoped>\n",
       "    .dataframe tbody tr th:only-of-type {\n",
       "        vertical-align: middle;\n",
       "    }\n",
       "\n",
       "    .dataframe tbody tr th {\n",
       "        vertical-align: top;\n",
       "    }\n",
       "\n",
       "    .dataframe thead th {\n",
       "        text-align: right;\n",
       "    }\n",
       "</style>\n",
       "<table border=\"1\" class=\"dataframe\">\n",
       "  <thead>\n",
       "    <tr style=\"text-align: right;\">\n",
       "      <th></th>\n",
       "      <th>URL</th>\n",
       "      <th>Name</th>\n",
       "      <th>Victim/Survivor</th>\n",
       "      <th>Born</th>\n",
       "      <th>Age</th>\n",
       "      <th>Last Residence</th>\n",
       "      <th>Occupation</th>\n",
       "      <th>Class</th>\n",
       "      <th>Embarked</th>\n",
       "      <th>Tcket</th>\n",
       "      <th>Destination</th>\n",
       "      <th>Death</th>\n",
       "      <th>Body Recovery0</th>\n",
       "      <th>Title</th>\n",
       "      <th>Sex</th>\n",
       "      <th>Survived</th>\n",
       "    </tr>\n",
       "  </thead>\n",
       "  <tbody>\n",
       "    <tr>\n",
       "      <th>1312</th>\n",
       "      <td>https://www.encyclopedia-titanica.org/titanic-...</td>\n",
       "      <td>Name: Miss Henriette Yvois</td>\n",
       "      <td>Titanic Victim</td>\n",
       "      <td>Born:circa.1888</td>\n",
       "      <td>Age: 24 years (Female)</td>\n",
       "      <td>Last Residence: in Paris France</td>\n",
       "      <td>NaN</td>\n",
       "      <td>2nd Class Passengers</td>\n",
       "      <td>First Embarked: Southampton on Wednesday 10th ...</td>\n",
       "      <td>Ticket No. 248747, £13</td>\n",
       "      <td>Destination: Montreal Québec Canada</td>\n",
       "      <td>Died in the Titanic disaster (15th April 1912).</td>\n",
       "      <td>Body Not Recovered</td>\n",
       "      <td>Miss</td>\n",
       "      <td>Female</td>\n",
       "      <td>0</td>\n",
       "    </tr>\n",
       "    <tr>\n",
       "      <th>1313</th>\n",
       "      <td>https://www.encyclopedia-titanica.org/titanic-...</td>\n",
       "      <td>Name: Mr Ortin Zakarian</td>\n",
       "      <td>Titanic Victim</td>\n",
       "      <td>Born:circa.1885</td>\n",
       "      <td>Age: 27 years (Male)</td>\n",
       "      <td>Last Residence: in Kigi Turkey</td>\n",
       "      <td>Occupation: General Labourer</td>\n",
       "      <td>3rd Class Passengers</td>\n",
       "      <td>First Embarked: Cherbourg on Wednesday 10th Ap...</td>\n",
       "      <td>Ticket No. 2670, £7 4s 6d</td>\n",
       "      <td>Destination: Brantford Ontario Canada</td>\n",
       "      <td>Died in the Titanic disaster (15th April 1912).</td>\n",
       "      <td>Body Not Recovered</td>\n",
       "      <td>Mr</td>\n",
       "      <td>Male</td>\n",
       "      <td>0</td>\n",
       "    </tr>\n",
       "    <tr>\n",
       "      <th>1314</th>\n",
       "      <td>https://www.encyclopedia-titanica.org/titanic-...</td>\n",
       "      <td>Name: Mr Mapriededer Zakarian</td>\n",
       "      <td>Titanic Victim</td>\n",
       "      <td>Born:circa.1890</td>\n",
       "      <td>Age: 22 years (Male)</td>\n",
       "      <td>Last Residence: in Kigi Turkey</td>\n",
       "      <td>NaN</td>\n",
       "      <td>3rd Class Passengers</td>\n",
       "      <td>First Embarked: Cherbourg on Wednesday 10th Ap...</td>\n",
       "      <td>Ticket No. 2656, £7 4s 6d</td>\n",
       "      <td>Destination: Brantford Ontario Canada</td>\n",
       "      <td>Died in the Titanic disaster (15th April 1912).</td>\n",
       "      <td>Body recovered by: Mackay-Bennett (No. 304)</td>\n",
       "      <td>Mr</td>\n",
       "      <td>Male</td>\n",
       "      <td>0</td>\n",
       "    </tr>\n",
       "    <tr>\n",
       "      <th>1315</th>\n",
       "      <td>https://www.encyclopedia-titanica.org/titanic-...</td>\n",
       "      <td>Name: Mr Philip Zenni</td>\n",
       "      <td>Titanic Survivor</td>\n",
       "      <td>Born: Monday 25th October 1886</td>\n",
       "      <td>Age: 25 years 5 months and 21 days (Male)</td>\n",
       "      <td>Last Residence: in Tula Lebanon</td>\n",
       "      <td>Occupation: General Labourer</td>\n",
       "      <td>3rd Class Passengers</td>\n",
       "      <td>First Embarked: Cherbourg on Wednesday 10th Ap...</td>\n",
       "      <td>Ticket No. 2620, £7 4s 6d</td>\n",
       "      <td>Destination: Dayton United States</td>\n",
       "      <td>Rescued (boat 6)</td>\n",
       "      <td>NaN</td>\n",
       "      <td>Mr</td>\n",
       "      <td>Male</td>\n",
       "      <td>1</td>\n",
       "    </tr>\n",
       "    <tr>\n",
       "      <th>1316</th>\n",
       "      <td>https://www.encyclopedia-titanica.org/titanic-...</td>\n",
       "      <td>Name: Mr Leo Zimmermann</td>\n",
       "      <td>Titanic Victim</td>\n",
       "      <td>Born: Tuesday 20th February 1883</td>\n",
       "      <td>Age: 29 years 1 month and 23 days (Male)</td>\n",
       "      <td>Last Residence: in Todtmoos Germany</td>\n",
       "      <td>Occupation: Farmer</td>\n",
       "      <td>3rd Class Passengers</td>\n",
       "      <td>First Embarked: Southampton on Wednesday 10th ...</td>\n",
       "      <td>Ticket No. 315082, £7 17s 6d</td>\n",
       "      <td>Destination: Saskatoon Saskatchewan Canada</td>\n",
       "      <td>Died in the Titanic disaster (15th April 1912).</td>\n",
       "      <td>Body Not Recovered</td>\n",
       "      <td>Mr</td>\n",
       "      <td>Male</td>\n",
       "      <td>0</td>\n",
       "    </tr>\n",
       "  </tbody>\n",
       "</table>\n",
       "</div>"
      ],
      "text/plain": [
       "                                                    URL  \\\n",
       "1312  https://www.encyclopedia-titanica.org/titanic-...   \n",
       "1313  https://www.encyclopedia-titanica.org/titanic-...   \n",
       "1314  https://www.encyclopedia-titanica.org/titanic-...   \n",
       "1315  https://www.encyclopedia-titanica.org/titanic-...   \n",
       "1316  https://www.encyclopedia-titanica.org/titanic-...   \n",
       "\n",
       "                               Name   Victim/Survivor  \\\n",
       "1312     Name: Miss Henriette Yvois    Titanic Victim   \n",
       "1313        Name: Mr Ortin Zakarian    Titanic Victim   \n",
       "1314  Name: Mr Mapriededer Zakarian    Titanic Victim   \n",
       "1315          Name: Mr Philip Zenni  Titanic Survivor   \n",
       "1316        Name: Mr Leo Zimmermann    Titanic Victim   \n",
       "\n",
       "                                  Born  \\\n",
       "1312                   Born:circa.1888   \n",
       "1313                   Born:circa.1885   \n",
       "1314                   Born:circa.1890   \n",
       "1315    Born: Monday 25th October 1886   \n",
       "1316  Born: Tuesday 20th February 1883   \n",
       "\n",
       "                                            Age  \\\n",
       "1312                     Age: 24 years (Female)   \n",
       "1313                       Age: 27 years (Male)   \n",
       "1314                       Age: 22 years (Male)   \n",
       "1315  Age: 25 years 5 months and 21 days (Male)   \n",
       "1316   Age: 29 years 1 month and 23 days (Male)   \n",
       "\n",
       "                           Last Residence                    Occupation  \\\n",
       "1312      Last Residence: in Paris France                           NaN   \n",
       "1313       Last Residence: in Kigi Turkey  Occupation: General Labourer   \n",
       "1314       Last Residence: in Kigi Turkey                           NaN   \n",
       "1315      Last Residence: in Tula Lebanon  Occupation: General Labourer   \n",
       "1316  Last Residence: in Todtmoos Germany            Occupation: Farmer   \n",
       "\n",
       "                     Class                                           Embarked  \\\n",
       "1312  2nd Class Passengers  First Embarked: Southampton on Wednesday 10th ...   \n",
       "1313  3rd Class Passengers  First Embarked: Cherbourg on Wednesday 10th Ap...   \n",
       "1314  3rd Class Passengers  First Embarked: Cherbourg on Wednesday 10th Ap...   \n",
       "1315  3rd Class Passengers  First Embarked: Cherbourg on Wednesday 10th Ap...   \n",
       "1316  3rd Class Passengers  First Embarked: Southampton on Wednesday 10th ...   \n",
       "\n",
       "                             Tcket  \\\n",
       "1312        Ticket No. 248747, £13   \n",
       "1313     Ticket No. 2670, £7 4s 6d   \n",
       "1314     Ticket No. 2656, £7 4s 6d   \n",
       "1315     Ticket No. 2620, £7 4s 6d   \n",
       "1316  Ticket No. 315082, £7 17s 6d   \n",
       "\n",
       "                                     Destination  \\\n",
       "1312         Destination: Montreal Québec Canada   \n",
       "1313       Destination: Brantford Ontario Canada   \n",
       "1314       Destination: Brantford Ontario Canada   \n",
       "1315           Destination: Dayton United States   \n",
       "1316  Destination: Saskatoon Saskatchewan Canada   \n",
       "\n",
       "                                                Death  \\\n",
       "1312  Died in the Titanic disaster (15th April 1912).   \n",
       "1313  Died in the Titanic disaster (15th April 1912).   \n",
       "1314  Died in the Titanic disaster (15th April 1912).   \n",
       "1315                                 Rescued (boat 6)   \n",
       "1316  Died in the Titanic disaster (15th April 1912).   \n",
       "\n",
       "                                   Body Recovery0 Title     Sex  Survived  \n",
       "1312                           Body Not Recovered  Miss  Female         0  \n",
       "1313                           Body Not Recovered    Mr    Male         0  \n",
       "1314  Body recovered by: Mackay-Bennett (No. 304)    Mr    Male         0  \n",
       "1315                                          NaN    Mr    Male         1  \n",
       "1316                           Body Not Recovered    Mr    Male         0  "
      ]
     },
     "execution_count": 46,
     "metadata": {},
     "output_type": "execute_result"
    }
   ],
   "source": [
    "enc_titanica_df.tail()"
   ]
  },
  {
   "cell_type": "code",
   "execution_count": 72,
   "metadata": {},
   "outputs": [],
   "source": [
    "def extract_age_enc_titanica(age):\n",
    "    age_list = age.replace(\"(Male)\", \"\").replace(\"(Female\", \"\").split(\" \")[1:-1]\n",
    "    try:\n",
    "        age_years = float(age_list[0])\n",
    "        if len(age_list) == 4:\n",
    "            age_years += float(age_list[2]) / 12.0\n",
    "        elif len(age_list) == 7:\n",
    "            age_years += float(age_list[2]) / 12.0\n",
    "            age_years += float(age_list[5]) / 365.0\n",
    "        else:\n",
    "            age_years = np.nan\n",
    "    except Exception as IndexError:\n",
    "        print(age)\n",
    "        age_years = np.nan\n",
    "    return round(age_years, 2)"
   ]
  },
  {
   "cell_type": "code",
   "execution_count": 73,
   "metadata": {},
   "outputs": [
    {
     "data": {
      "text/plain": [
       "27.54"
      ]
     },
     "execution_count": 73,
     "metadata": {},
     "output_type": "execute_result"
    }
   ],
   "source": [
    "extract_age_enc_titanica(enc_titanica_df[\"Age\"].iloc[1])"
   ]
  },
  {
   "cell_type": "code",
   "execution_count": 74,
   "metadata": {},
   "outputs": [
    {
     "data": {
      "text/plain": [
       "39.25"
      ]
     },
     "execution_count": 74,
     "metadata": {},
     "output_type": "execute_result"
    }
   ],
   "source": [
    "extract_age_enc_titanica(enc_titanica_df[\"Age\"].iloc[3])"
   ]
  },
  {
   "cell_type": "code",
   "execution_count": 75,
   "metadata": {},
   "outputs": [
    {
     "name": "stdout",
     "output_type": "stream",
     "text": [
      "(Male)\n",
      "(Male)\n"
     ]
    }
   ],
   "source": [
    "enc_titanica_df[\"Age_years\"] = enc_titanica_df[\"Age\"].apply(lambda age: extract_age_enc_titanica(age))"
   ]
  },
  {
   "cell_type": "code",
   "execution_count": 79,
   "metadata": {},
   "outputs": [
    {
     "name": "stdout",
     "output_type": "stream",
     "text": [
      "https://www.encyclopedia-titanica.org/titanic-victim/stanio-gheorgheff.html\n",
      "https://www.encyclopedia-titanica.org/titanic-victim/theodor-kraeff.html\n"
     ]
    }
   ],
   "source": [
    "for item in enc_titanica_df[enc_titanica_df[\"Age\"] == \"(Male)\"][\"URL\"]:\n",
    "    print(item)"
   ]
  },
  {
   "cell_type": "code",
   "execution_count": 81,
   "metadata": {},
   "outputs": [
    {
     "data": {
      "text/plain": [
       "491"
      ]
     },
     "execution_count": 81,
     "metadata": {},
     "output_type": "execute_result"
    }
   ],
   "source": [
    "enc_titanica_df[\"Age_years\"].isna().sum()"
   ]
  },
  {
   "cell_type": "code",
   "execution_count": 31,
   "metadata": {},
   "outputs": [],
   "source": [
    "def extract_sex_enc_titanica(age):\n",
    "    return age.split(\"(\")[1].replace(\")\", \"\")"
   ]
  },
  {
   "cell_type": "code",
   "execution_count": 32,
   "metadata": {},
   "outputs": [
    {
     "data": {
      "text/plain": [
       "'Male'"
      ]
     },
     "execution_count": 32,
     "metadata": {},
     "output_type": "execute_result"
    }
   ],
   "source": [
    "extract_sex_enc_titanica(enc_titanica_df[\"Age\"].iloc[1])"
   ]
  },
  {
   "cell_type": "code",
   "execution_count": 33,
   "metadata": {},
   "outputs": [],
   "source": [
    "enc_titanica_df[\"Sex\"] = enc_titanica_df[\"Age\"].apply(lambda age: extract_sex_enc_titanica(age))"
   ]
  },
  {
   "cell_type": "code",
   "execution_count": 34,
   "metadata": {},
   "outputs": [
    {
     "data": {
      "text/plain": [
       "'Mr'"
      ]
     },
     "execution_count": 34,
     "metadata": {},
     "output_type": "execute_result"
    }
   ],
   "source": [
    "enc_titanica_df[\"Name\"].iloc[4].split(\" \")[1]"
   ]
  },
  {
   "cell_type": "code",
   "execution_count": 35,
   "metadata": {},
   "outputs": [
    {
     "data": {
      "text/plain": [
       "'Braund, Mr. Owen Harris'"
      ]
     },
     "execution_count": 35,
     "metadata": {},
     "output_type": "execute_result"
    }
   ],
   "source": [
    "all_df[\"Name\"].iloc[0]"
   ]
  },
  {
   "cell_type": "code",
   "execution_count": 36,
   "metadata": {},
   "outputs": [
    {
     "data": {
      "text/plain": [
       "'Cumings, Mrs. John Bradley (Florence Briggs Thayer)'"
      ]
     },
     "execution_count": 36,
     "metadata": {},
     "output_type": "execute_result"
    }
   ],
   "source": [
    "all_df[\"Name\"].iloc[1]"
   ]
  },
  {
   "cell_type": "code",
   "execution_count": 37,
   "metadata": {},
   "outputs": [
    {
     "data": {
      "text/plain": [
       "'Cumings'"
      ]
     },
     "execution_count": 37,
     "metadata": {},
     "output_type": "execute_result"
    }
   ],
   "source": [
    "all_df[\"Name\"].iloc[1].split(\",\")[0]"
   ]
  },
  {
   "cell_type": "code",
   "execution_count": 38,
   "metadata": {},
   "outputs": [],
   "source": [
    "def extract_surname_titanic_data(name):\n",
    "    return name.split(\",\")[0]"
   ]
  },
  {
   "cell_type": "code",
   "execution_count": 39,
   "metadata": {},
   "outputs": [
    {
     "data": {
      "text/plain": [
       "'Braund'"
      ]
     },
     "execution_count": 39,
     "metadata": {},
     "output_type": "execute_result"
    }
   ],
   "source": [
    "extract_surname_titanic_data(all_df[\"Name\"].iloc[0])"
   ]
  },
  {
   "cell_type": "code",
   "execution_count": 40,
   "metadata": {},
   "outputs": [
    {
     "data": {
      "text/plain": [
       "'Braund, Mr. Owen Harris'"
      ]
     },
     "execution_count": 40,
     "metadata": {},
     "output_type": "execute_result"
    }
   ],
   "source": [
    "all_df[\"Name\"].iloc[0]"
   ]
  },
  {
   "cell_type": "code",
   "execution_count": 41,
   "metadata": {},
   "outputs": [],
   "source": [
    "all_df[\"Surname\"] = all_df[\"Name\"].apply(lambda name: extract_surname_titanic_data(name))"
   ]
  },
  {
   "cell_type": "code",
   "execution_count": 42,
   "metadata": {},
   "outputs": [
    {
     "data": {
      "text/html": [
       "<div>\n",
       "<style scoped>\n",
       "    .dataframe tbody tr th:only-of-type {\n",
       "        vertical-align: middle;\n",
       "    }\n",
       "\n",
       "    .dataframe tbody tr th {\n",
       "        vertical-align: top;\n",
       "    }\n",
       "\n",
       "    .dataframe thead th {\n",
       "        text-align: right;\n",
       "    }\n",
       "</style>\n",
       "<table border=\"1\" class=\"dataframe\">\n",
       "  <thead>\n",
       "    <tr style=\"text-align: right;\">\n",
       "      <th></th>\n",
       "      <th>PassengerId</th>\n",
       "      <th>Pclass</th>\n",
       "      <th>Name</th>\n",
       "      <th>Sex</th>\n",
       "      <th>Age</th>\n",
       "      <th>SibSp</th>\n",
       "      <th>Parch</th>\n",
       "      <th>Ticket</th>\n",
       "      <th>Fare</th>\n",
       "      <th>Cabin</th>\n",
       "      <th>Embarked</th>\n",
       "      <th>Surname</th>\n",
       "    </tr>\n",
       "  </thead>\n",
       "  <tbody>\n",
       "    <tr>\n",
       "      <th>0</th>\n",
       "      <td>1</td>\n",
       "      <td>3</td>\n",
       "      <td>Braund, Mr. Owen Harris</td>\n",
       "      <td>male</td>\n",
       "      <td>22.0</td>\n",
       "      <td>1</td>\n",
       "      <td>0</td>\n",
       "      <td>A/5 21171</td>\n",
       "      <td>7.2500</td>\n",
       "      <td>NaN</td>\n",
       "      <td>S</td>\n",
       "      <td>Braund</td>\n",
       "    </tr>\n",
       "    <tr>\n",
       "      <th>1</th>\n",
       "      <td>2</td>\n",
       "      <td>1</td>\n",
       "      <td>Cumings, Mrs. John Bradley (Florence Briggs Th...</td>\n",
       "      <td>female</td>\n",
       "      <td>38.0</td>\n",
       "      <td>1</td>\n",
       "      <td>0</td>\n",
       "      <td>PC 17599</td>\n",
       "      <td>71.2833</td>\n",
       "      <td>C85</td>\n",
       "      <td>C</td>\n",
       "      <td>Cumings</td>\n",
       "    </tr>\n",
       "    <tr>\n",
       "      <th>2</th>\n",
       "      <td>3</td>\n",
       "      <td>3</td>\n",
       "      <td>Heikkinen, Miss. Laina</td>\n",
       "      <td>female</td>\n",
       "      <td>26.0</td>\n",
       "      <td>0</td>\n",
       "      <td>0</td>\n",
       "      <td>STON/O2. 3101282</td>\n",
       "      <td>7.9250</td>\n",
       "      <td>NaN</td>\n",
       "      <td>S</td>\n",
       "      <td>Heikkinen</td>\n",
       "    </tr>\n",
       "    <tr>\n",
       "      <th>3</th>\n",
       "      <td>4</td>\n",
       "      <td>1</td>\n",
       "      <td>Futrelle, Mrs. Jacques Heath (Lily May Peel)</td>\n",
       "      <td>female</td>\n",
       "      <td>35.0</td>\n",
       "      <td>1</td>\n",
       "      <td>0</td>\n",
       "      <td>113803</td>\n",
       "      <td>53.1000</td>\n",
       "      <td>C123</td>\n",
       "      <td>S</td>\n",
       "      <td>Futrelle</td>\n",
       "    </tr>\n",
       "    <tr>\n",
       "      <th>4</th>\n",
       "      <td>5</td>\n",
       "      <td>3</td>\n",
       "      <td>Allen, Mr. William Henry</td>\n",
       "      <td>male</td>\n",
       "      <td>35.0</td>\n",
       "      <td>0</td>\n",
       "      <td>0</td>\n",
       "      <td>373450</td>\n",
       "      <td>8.0500</td>\n",
       "      <td>NaN</td>\n",
       "      <td>S</td>\n",
       "      <td>Allen</td>\n",
       "    </tr>\n",
       "  </tbody>\n",
       "</table>\n",
       "</div>"
      ],
      "text/plain": [
       "   PassengerId  Pclass                                               Name  \\\n",
       "0            1       3                            Braund, Mr. Owen Harris   \n",
       "1            2       1  Cumings, Mrs. John Bradley (Florence Briggs Th...   \n",
       "2            3       3                             Heikkinen, Miss. Laina   \n",
       "3            4       1       Futrelle, Mrs. Jacques Heath (Lily May Peel)   \n",
       "4            5       3                           Allen, Mr. William Henry   \n",
       "\n",
       "      Sex   Age  SibSp  Parch            Ticket     Fare Cabin Embarked  \\\n",
       "0    male  22.0      1      0         A/5 21171   7.2500   NaN        S   \n",
       "1  female  38.0      1      0          PC 17599  71.2833   C85        C   \n",
       "2  female  26.0      0      0  STON/O2. 3101282   7.9250   NaN        S   \n",
       "3  female  35.0      1      0            113803  53.1000  C123        S   \n",
       "4    male  35.0      0      0            373450   8.0500   NaN        S   \n",
       "\n",
       "     Surname  \n",
       "0     Braund  \n",
       "1    Cumings  \n",
       "2  Heikkinen  \n",
       "3   Futrelle  \n",
       "4      Allen  "
      ]
     },
     "execution_count": 42,
     "metadata": {},
     "output_type": "execute_result"
    }
   ],
   "source": [
    "all_df.head()"
   ]
  },
  {
   "cell_type": "code",
   "execution_count": 43,
   "metadata": {},
   "outputs": [
    {
     "data": {
      "text/html": [
       "<div>\n",
       "<style scoped>\n",
       "    .dataframe tbody tr th:only-of-type {\n",
       "        vertical-align: middle;\n",
       "    }\n",
       "\n",
       "    .dataframe tbody tr th {\n",
       "        vertical-align: top;\n",
       "    }\n",
       "\n",
       "    .dataframe thead th {\n",
       "        text-align: right;\n",
       "    }\n",
       "</style>\n",
       "<table border=\"1\" class=\"dataframe\">\n",
       "  <thead>\n",
       "    <tr style=\"text-align: right;\">\n",
       "      <th></th>\n",
       "      <th>PassengerId</th>\n",
       "      <th>Pclass</th>\n",
       "      <th>Name</th>\n",
       "      <th>Sex</th>\n",
       "      <th>Age</th>\n",
       "      <th>SibSp</th>\n",
       "      <th>Parch</th>\n",
       "      <th>Ticket</th>\n",
       "      <th>Fare</th>\n",
       "      <th>Cabin</th>\n",
       "      <th>Embarked</th>\n",
       "      <th>Surname</th>\n",
       "    </tr>\n",
       "  </thead>\n",
       "  <tbody>\n",
       "    <tr>\n",
       "      <th>413</th>\n",
       "      <td>1305</td>\n",
       "      <td>3</td>\n",
       "      <td>Spector, Mr. Woolf</td>\n",
       "      <td>male</td>\n",
       "      <td>NaN</td>\n",
       "      <td>0</td>\n",
       "      <td>0</td>\n",
       "      <td>A.5. 3236</td>\n",
       "      <td>8.0500</td>\n",
       "      <td>NaN</td>\n",
       "      <td>S</td>\n",
       "      <td>Spector</td>\n",
       "    </tr>\n",
       "    <tr>\n",
       "      <th>414</th>\n",
       "      <td>1306</td>\n",
       "      <td>1</td>\n",
       "      <td>Oliva y Ocana, Dona. Fermina</td>\n",
       "      <td>female</td>\n",
       "      <td>39.0</td>\n",
       "      <td>0</td>\n",
       "      <td>0</td>\n",
       "      <td>PC 17758</td>\n",
       "      <td>108.9000</td>\n",
       "      <td>C105</td>\n",
       "      <td>C</td>\n",
       "      <td>Oliva y Ocana</td>\n",
       "    </tr>\n",
       "    <tr>\n",
       "      <th>415</th>\n",
       "      <td>1307</td>\n",
       "      <td>3</td>\n",
       "      <td>Saether, Mr. Simon Sivertsen</td>\n",
       "      <td>male</td>\n",
       "      <td>38.5</td>\n",
       "      <td>0</td>\n",
       "      <td>0</td>\n",
       "      <td>SOTON/O.Q. 3101262</td>\n",
       "      <td>7.2500</td>\n",
       "      <td>NaN</td>\n",
       "      <td>S</td>\n",
       "      <td>Saether</td>\n",
       "    </tr>\n",
       "    <tr>\n",
       "      <th>416</th>\n",
       "      <td>1308</td>\n",
       "      <td>3</td>\n",
       "      <td>Ware, Mr. Frederick</td>\n",
       "      <td>male</td>\n",
       "      <td>NaN</td>\n",
       "      <td>0</td>\n",
       "      <td>0</td>\n",
       "      <td>359309</td>\n",
       "      <td>8.0500</td>\n",
       "      <td>NaN</td>\n",
       "      <td>S</td>\n",
       "      <td>Ware</td>\n",
       "    </tr>\n",
       "    <tr>\n",
       "      <th>417</th>\n",
       "      <td>1309</td>\n",
       "      <td>3</td>\n",
       "      <td>Peter, Master. Michael J</td>\n",
       "      <td>male</td>\n",
       "      <td>NaN</td>\n",
       "      <td>1</td>\n",
       "      <td>1</td>\n",
       "      <td>2668</td>\n",
       "      <td>22.3583</td>\n",
       "      <td>NaN</td>\n",
       "      <td>C</td>\n",
       "      <td>Peter</td>\n",
       "    </tr>\n",
       "  </tbody>\n",
       "</table>\n",
       "</div>"
      ],
      "text/plain": [
       "     PassengerId  Pclass                          Name     Sex   Age  SibSp  \\\n",
       "413         1305       3            Spector, Mr. Woolf    male   NaN      0   \n",
       "414         1306       1  Oliva y Ocana, Dona. Fermina  female  39.0      0   \n",
       "415         1307       3  Saether, Mr. Simon Sivertsen    male  38.5      0   \n",
       "416         1308       3           Ware, Mr. Frederick    male   NaN      0   \n",
       "417         1309       3      Peter, Master. Michael J    male   NaN      1   \n",
       "\n",
       "     Parch              Ticket      Fare Cabin Embarked        Surname  \n",
       "413      0           A.5. 3236    8.0500   NaN        S        Spector  \n",
       "414      0            PC 17758  108.9000  C105        C  Oliva y Ocana  \n",
       "415      0  SOTON/O.Q. 3101262    7.2500   NaN        S        Saether  \n",
       "416      0              359309    8.0500   NaN        S           Ware  \n",
       "417      1                2668   22.3583   NaN        C          Peter  "
      ]
     },
     "execution_count": 43,
     "metadata": {},
     "output_type": "execute_result"
    }
   ],
   "source": [
    "all_df.tail()"
   ]
  },
  {
   "cell_type": "code",
   "execution_count": null,
   "metadata": {},
   "outputs": [],
   "source": []
  }
 ],
 "metadata": {
  "kernelspec": {
   "display_name": "Python 3.9.12 ('.venv_dev_titanic-streamlit-app': venv)",
   "language": "python",
   "name": "python3"
  },
  "language_info": {
   "codemirror_mode": {
    "name": "ipython",
    "version": 3
   },
   "file_extension": ".py",
   "mimetype": "text/x-python",
   "name": "python",
   "nbconvert_exporter": "python",
   "pygments_lexer": "ipython3",
   "version": "3.9.12"
  },
  "orig_nbformat": 4,
  "vscode": {
   "interpreter": {
    "hash": "3de96be564863eb70bacda9d696b254a7026b525f8ce08839ccf359adbdf151e"
   }
  }
 },
 "nbformat": 4,
 "nbformat_minor": 2
}
