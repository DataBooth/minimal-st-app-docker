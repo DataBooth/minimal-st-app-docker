{
 "cells": [
  {
   "cell_type": "code",
   "execution_count": 6,
   "metadata": {},
   "outputs": [],
   "source": [
    "import shutil\n",
    "\n",
    "from neuraxle.logging.warnings import silence_all_deprecation_warnings\n",
    "from neuraxle.base import ExecutionContext as CX\n",
    "from neuraxle.hyperparams.distributions import (Boolean, Choice, LogUniform,\n",
    "                                                RandInt)\n",
    "from neuraxle.hyperparams.space import HyperparameterSpace\n",
    "from neuraxle.metaopt.auto_ml import (AutoML, RandomSearchSampler,\n",
    "                                      ValidationSplitter)\n",
    "from neuraxle.metaopt.callbacks import ScoringCallback\n",
    "from neuraxle.metaopt.repositories.json import HyperparamsOnDiskRepository\n",
    "from neuraxle.pipeline import Pipeline\n",
    "from neuraxle.steps.flow import ChooseOneStepOf\n",
    "from neuraxle.steps.numpy import NumpyRavel\n",
    "from neuraxle.steps.output_handlers import OutputTransformerWrapper\n",
    "from neuraxle.steps.sklearn import SKLearnWrapper\n",
    "from sklearn.datasets import make_classification\n",
    "from sklearn.ensemble import RandomForestClassifier\n",
    "from sklearn.linear_model import LogisticRegression, RidgeClassifier\n",
    "from sklearn.metrics import accuracy_score\n",
    "from sklearn.model_selection import train_test_split\n",
    "from sklearn.tree import DecisionTreeClassifier, ExtraTreeClassifier"
   ]
  },
  {
   "cell_type": "code",
   "execution_count": 7,
   "metadata": {},
   "outputs": [],
   "source": [
    "silence_all_deprecation_warnings()"
   ]
  },
  {
   "cell_type": "code",
   "execution_count": 8,
   "metadata": {},
   "outputs": [],
   "source": [
    "def main(tmpdir: str):\n",
    "    # Define classification models, and hyperparams.\n",
    "\n",
    "    decision_tree_classifier = SKLearnWrapper(\n",
    "        DecisionTreeClassifier(),\n",
    "        HyperparameterSpace({\n",
    "            'criterion': Choice(['gini', 'entropy']),\n",
    "            'splitter': Choice(['best', 'random']),\n",
    "            'min_samples_leaf': RandInt(2, 5),\n",
    "            'min_samples_split': RandInt(2, 4)\n",
    "        }))\n",
    "\n",
    "    extra_tree_classifier = SKLearnWrapper(\n",
    "        ExtraTreeClassifier(),\n",
    "        HyperparameterSpace({\n",
    "            'criterion': Choice(['gini', 'entropy']),\n",
    "            'splitter': Choice(['best', 'random']),\n",
    "            'min_samples_leaf': RandInt(2, 5),\n",
    "            'min_samples_split': RandInt(2, 4)\n",
    "        }))\n",
    "\n",
    "    ridge_classifier = Pipeline([OutputTransformerWrapper(NumpyRavel()), SKLearnWrapper(\n",
    "        RidgeClassifier(),\n",
    "        HyperparameterSpace({\n",
    "            'alpha': Choice([0.0, 1.0, 10.0, 100.0]),\n",
    "            'fit_intercept': Boolean(),\n",
    "            'normalize': Boolean()\n",
    "        }))\n",
    "    ]).set_name('RidgeClassifier')\n",
    "\n",
    "    logistic_regression = Pipeline([OutputTransformerWrapper(NumpyRavel()), SKLearnWrapper(\n",
    "        LogisticRegression(),\n",
    "        HyperparameterSpace({\n",
    "            'C': LogUniform(0.01, 10.0),\n",
    "            'fit_intercept': Boolean(),\n",
    "            'penalty': Choice(['none', 'l2']),\n",
    "            'max_iter': RandInt(20, 200)\n",
    "        }))\n",
    "    ]).set_name('LogisticRegression')\n",
    "\n",
    "    random_forest_classifier = Pipeline([OutputTransformerWrapper(NumpyRavel()), SKLearnWrapper(\n",
    "        RandomForestClassifier(),\n",
    "        HyperparameterSpace({\n",
    "            'n_estimators': RandInt(50, 600),\n",
    "            'criterion': Choice(['gini', 'entropy']),\n",
    "            'min_samples_leaf': RandInt(2, 5),\n",
    "            'min_samples_split': RandInt(2, 4),\n",
    "            'bootstrap': Boolean()\n",
    "        }))\n",
    "    ]).set_name('RandomForestClassifier')\n",
    "\n",
    "    # Define a classification pipeline that lets the AutoML loop choose one of the classifier.\n",
    "    # See also ChooseOneStepOf documentation: https://www.neuraxle.org/stable/api/steps/neuraxle.steps.flow.html#neuraxle.steps.flow.ChooseOneStepOf\n",
    "\n",
    "    pipeline = Pipeline([\n",
    "        ChooseOneStepOf([\n",
    "            decision_tree_classifier,\n",
    "            extra_tree_classifier,\n",
    "            ridge_classifier,\n",
    "            logistic_regression,\n",
    "            random_forest_classifier\n",
    "        ])\n",
    "    ])\n",
    "\n",
    "    # Create the AutoML loop object.\n",
    "    # See also AutoML documentation: https://www.neuraxle.org/stable/api/metaopt/neuraxle.metaopt.auto_ml.html#neuraxle.metaopt.auto_ml.AutoML\n",
    "\n",
    "    auto_ml = AutoML(\n",
    "        pipeline=pipeline,\n",
    "        hyperparams_optimizer=RandomSearchSampler(),\n",
    "        validation_splitter=ValidationSplitter(validation_size=0.20),\n",
    "        scoring_callback=ScoringCallback(accuracy_score, higher_score_is_better=True),\n",
    "        n_trials=7,\n",
    "        epochs=1,\n",
    "        hyperparams_repository=HyperparamsOnDiskRepository(cache_folder=tmpdir),\n",
    "        refit_best_trial=True,\n",
    "        continue_loop_on_error=False\n",
    "    )\n",
    "\n",
    "    # Load data, and launch AutoML loop !\n",
    "\n",
    "    X_train, y_train, X_test, y_test = generate_classification_data()\n",
    "    auto_ml = auto_ml.fit(X_train, y_train)\n",
    "\n",
    "    # Get the model from the best trial, and make predictions using predict, as per the `refit_best_trial=True` argument to AutoML.\n",
    "    y_pred = auto_ml.predict(X_test)\n",
    "\n",
    "    accuracy = accuracy_score(y_true=y_test, y_pred=y_pred)\n",
    "    print(\"Test accuracy score:\", accuracy)\n",
    "\n",
    "    shutil.rmtree(tmpdir)\n",
    "\n",
    "\n",
    "def generate_classification_data():\n",
    "    data_inputs, expected_outputs = make_classification(\n",
    "        n_samples=10000,\n",
    "        n_repeated=0,\n",
    "        n_classes=3,\n",
    "        n_features=4,\n",
    "        n_clusters_per_class=1,\n",
    "        class_sep=1.5,\n",
    "        flip_y=0,\n",
    "        weights=[0.5, 0.5, 0.5]\n",
    "    )\n",
    "\n",
    "    X_train, X_test, y_train, y_test = train_test_split(\n",
    "        data_inputs,\n",
    "        expected_outputs,\n",
    "        test_size=0.20\n",
    "    )\n",
    "\n",
    "    return X_train, y_train, X_test, y_test"
   ]
  },
  {
   "cell_type": "code",
   "execution_count": 9,
   "metadata": {},
   "outputs": [
    {
     "name": "stdout",
     "output_type": "stream",
     "text": [
      "⠀[2022-08-25_12:26:18.f][INFO    ][neuraxle.default_project.default_client.0.AutoML][aggregates.py:318][MainProcess:MainThread]: Trial #0 planned!\n"
     ]
    },
    {
     "name": "stderr",
     "output_type": "stream",
     "text": [
      "⠀[2022-08-25_12:26:18.f][INFO    ][neuraxle.default_project.default_client.0.AutoML][aggregates.py:318][MainProcess:MainThread]: Trial #0 planned!\n"
     ]
    },
    {
     "name": "stdout",
     "output_type": "stream",
     "text": [
      "⠀[2022-08-25_12:26:18.f][INFO    ][neuraxle.default_project.default_client.0.AutoML][aggregates.py:554][MainProcess:MainThread]: Hyperparameters: \n",
      "OrderedDict([   ('*C', 8.07485816257735),\n",
      "                ('*LogisticRegression*fit_intercept', False),\n",
      "                ('*max_iter', 129),\n",
      "                ('*penalty', 'l2'),\n",
      "                ('*bootstrap', False),\n",
      "                ('*RandomForestClassifier*criterion', 'entropy'),\n",
      "                ('*RandomForestClassifier*min_samples_leaf', 2),\n",
      "                ('*RandomForestClassifier*min_samples_split', 2),\n",
      "                ('*n_estimators', 70),\n",
      "                ('*alpha', 0.0),\n",
      "                ('*RidgeClassifier*fit_intercept', True),\n",
      "                ('*normalize', False),\n",
      "                ('*SKLearnWrapper_DecisionTreeClassifier*criterion', 'gini'),\n",
      "                ('*SKLearnWrapper_DecisionTreeClassifier*min_samples_leaf', 2),\n",
      "                ('*SKLearnWrapper_DecisionTreeClassifier*min_samples_split', 4),\n",
      "                ('*SKLearnWrapper_DecisionTreeClassifier*splitter', 'random'),\n",
      "                ('*SKLearnWrapper_ExtraTreeClassifier*criterion', 'entropy'),\n",
      "                ('*SKLearnWrapper_ExtraTreeClassifier*min_samples_leaf', 4),\n",
      "                ('*SKLearnWrapper_ExtraTreeClassifier*min_samples_split', 3),\n",
      "                ('*SKLearnWrapper_ExtraTreeClassifier*splitter', 'random'),\n",
      "                ('*choice', 'SKLearnWrapper_DecisionTreeClassifier')])\n"
     ]
    },
    {
     "name": "stderr",
     "output_type": "stream",
     "text": [
      "⠀[2022-08-25_12:26:18.f][INFO    ][neuraxle.default_project.default_client.0.AutoML][aggregates.py:554][MainProcess:MainThread]: Hyperparameters: \n",
      "OrderedDict([   ('*C', 8.07485816257735),\n",
      "                ('*LogisticRegression*fit_intercept', False),\n",
      "                ('*max_iter', 129),\n",
      "                ('*penalty', 'l2'),\n",
      "                ('*bootstrap', False),\n",
      "                ('*RandomForestClassifier*criterion', 'entropy'),\n",
      "                ('*RandomForestClassifier*min_samples_leaf', 2),\n",
      "                ('*RandomForestClassifier*min_samples_split', 2),\n",
      "                ('*n_estimators', 70),\n",
      "                ('*alpha', 0.0),\n",
      "                ('*RidgeClassifier*fit_intercept', True),\n",
      "                ('*normalize', False),\n",
      "                ('*SKLearnWrapper_DecisionTreeClassifier*criterion', 'gini'),\n",
      "                ('*SKLearnWrapper_DecisionTreeClassifier*min_samples_leaf', 2),\n",
      "                ('*SKLearnWrapper_DecisionTreeClassifier*min_samples_split', 4),\n",
      "                ('*SKLearnWrapper_DecisionTreeClassifier*splitter', 'random'),\n",
      "                ('*SKLearnWrapper_ExtraTreeClassifier*criterion', 'entropy'),\n",
      "                ('*SKLearnWrapper_ExtraTreeClassifier*min_samples_leaf', 4),\n",
      "                ('*SKLearnWrapper_ExtraTreeClassifier*min_samples_split', 3),\n",
      "                ('*SKLearnWrapper_ExtraTreeClassifier*splitter', 'random'),\n",
      "                ('*choice', 'SKLearnWrapper_DecisionTreeClassifier')])\n"
     ]
    },
    {
     "name": "stdout",
     "output_type": "stream",
     "text": [
      "⠀[2022-08-25_12:26:18.f][INFO    ][neuraxle.default_project.default_client.0.AutoML][aggregates.py:554][MainProcess:MainThread]: Status: TrialStatus.PLANNED\n"
     ]
    },
    {
     "name": "stderr",
     "output_type": "stream",
     "text": [
      "⠀[2022-08-25_12:26:18.f][INFO    ][neuraxle.default_project.default_client.0.AutoML][aggregates.py:554][MainProcess:MainThread]: Status: TrialStatus.PLANNED\n"
     ]
    },
    {
     "name": "stdout",
     "output_type": "stream",
     "text": [
      "⠀[2022-08-25_12:26:18.f][INFO    ][neuraxle.default_project.default_client.0.0.AutoML][aggregates.py:318][MainProcess:MainThread]: Started!\n"
     ]
    },
    {
     "name": "stderr",
     "output_type": "stream",
     "text": [
      "⠀[2022-08-25_12:26:18.f][INFO    ][neuraxle.default_project.default_client.0.0.AutoML][aggregates.py:318][MainProcess:MainThread]: Started!\n"
     ]
    },
    {
     "name": "stdout",
     "output_type": "stream",
     "text": [
      "⠀[2022-08-25_12:26:18.f][INFO    ][neuraxle.default_project.default_client.0.0.AutoML][aggregates.py:681][MainProcess:MainThread]: Status: TrialStatus.RUNNING\n"
     ]
    },
    {
     "name": "stderr",
     "output_type": "stream",
     "text": [
      "⠀[2022-08-25_12:26:18.f][INFO    ][neuraxle.default_project.default_client.0.0.AutoML][aggregates.py:681][MainProcess:MainThread]: Status: TrialStatus.RUNNING\n"
     ]
    },
    {
     "name": "stdout",
     "output_type": "stream",
     "text": [
      "⠀[2022-08-25_12:26:18.f][INFO    ][neuraxle.default_project.default_client.0.0.0.AutoML][aggregates.py:779][MainProcess:MainThread]: Started!\n"
     ]
    },
    {
     "name": "stderr",
     "output_type": "stream",
     "text": [
      "⠀[2022-08-25_12:26:18.f][INFO    ][neuraxle.default_project.default_client.0.0.0.AutoML][aggregates.py:779][MainProcess:MainThread]: Started!\n"
     ]
    },
    {
     "name": "stdout",
     "output_type": "stream",
     "text": [
      "⠀[2022-08-25_12:26:18.f][INFO    ][neuraxle.default_project.default_client.0.0.0.AutoML][aggregates.py:789][MainProcess:MainThread]: Status: TrialStatus.RUNNING\n"
     ]
    },
    {
     "name": "stderr",
     "output_type": "stream",
     "text": [
      "⠀[2022-08-25_12:26:18.f][INFO    ][neuraxle.default_project.default_client.0.0.0.AutoML][aggregates.py:789][MainProcess:MainThread]: Status: TrialStatus.RUNNING\n"
     ]
    },
    {
     "name": "stdout",
     "output_type": "stream",
     "text": [
      "⠀[2022-08-25_12:26:18.f][INFO    ][neuraxle.default_project.default_client.0.0.0.AutoML][auto_ml.py:122][MainProcess:MainThread]: Epoch 1/1.\n"
     ]
    },
    {
     "name": "stderr",
     "output_type": "stream",
     "text": [
      "⠀[2022-08-25_12:26:18.f][INFO    ][neuraxle.default_project.default_client.0.0.0.AutoML][auto_ml.py:122][MainProcess:MainThread]: Epoch 1/1.\n"
     ]
    },
    {
     "name": "stdout",
     "output_type": "stream",
     "text": [
      "⠀[2022-08-25_12:26:18.f][INFO    ][neuraxle.default_project.default_client.0.0.0.main.AutoML][callbacks.py:313][MainProcess:MainThread]: Train Metric `main`: 0.99921875\n"
     ]
    },
    {
     "name": "stderr",
     "output_type": "stream",
     "text": [
      "⠀[2022-08-25_12:26:18.f][INFO    ][neuraxle.default_project.default_client.0.0.0.main.AutoML][callbacks.py:313][MainProcess:MainThread]: Train Metric `main`: 0.99921875\n"
     ]
    },
    {
     "name": "stdout",
     "output_type": "stream",
     "text": [
      "⠀[2022-08-25_12:26:18.f][INFO    ][neuraxle.default_project.default_client.0.0.0.main.AutoML][callbacks.py:315][MainProcess:MainThread]: Valid Metric `main`: 0.995625\n"
     ]
    },
    {
     "name": "stderr",
     "output_type": "stream",
     "text": [
      "⠀[2022-08-25_12:26:18.f][INFO    ][neuraxle.default_project.default_client.0.0.0.main.AutoML][callbacks.py:315][MainProcess:MainThread]: Valid Metric `main`: 0.995625\n"
     ]
    },
    {
     "name": "stdout",
     "output_type": "stream",
     "text": [
      "⠀[2022-08-25_12:26:18.f][INFO    ][neuraxle.default_project.default_client.0.0.0.AutoML][aggregates.py:869][MainProcess:MainThread]: Finished!\n"
     ]
    },
    {
     "name": "stderr",
     "output_type": "stream",
     "text": [
      "⠀[2022-08-25_12:26:18.f][INFO    ][neuraxle.default_project.default_client.0.0.0.AutoML][aggregates.py:869][MainProcess:MainThread]: Finished!\n"
     ]
    },
    {
     "name": "stdout",
     "output_type": "stream",
     "text": [
      "⠀[2022-08-25_12:26:18.f][INFO    ][neuraxle.default_project.default_client.0.0.0.AutoML][base.py:1270][MainProcess:MainThread]: Status: TrialStatus.SUCCESS\n"
     ]
    },
    {
     "name": "stderr",
     "output_type": "stream",
     "text": [
      "⠀[2022-08-25_12:26:18.f][INFO    ][neuraxle.default_project.default_client.0.0.0.AutoML][base.py:1270][MainProcess:MainThread]: Status: TrialStatus.SUCCESS\n"
     ]
    },
    {
     "name": "stdout",
     "output_type": "stream",
     "text": [
      "⠀[2022-08-25_12:26:18.f][INFO    ][neuraxle.default_project.default_client.0.0.0.AutoML][aggregates.py:700][MainProcess:MainThread]:  ==> With best main validation score: 0.995625\n"
     ]
    },
    {
     "name": "stderr",
     "output_type": "stream",
     "text": [
      "⠀[2022-08-25_12:26:18.f][INFO    ][neuraxle.default_project.default_client.0.0.0.AutoML][aggregates.py:700][MainProcess:MainThread]:  ==> With best main validation score: 0.995625\n"
     ]
    },
    {
     "name": "stdout",
     "output_type": "stream",
     "text": [
      "⠀[2022-08-25_12:26:18.f][INFO    ][neuraxle.default_project.default_client.0.0.0.AutoML][aggregates.py:700][MainProcess:MainThread]:  ==> At epoch: 0\n"
     ]
    },
    {
     "name": "stderr",
     "output_type": "stream",
     "text": [
      "⠀[2022-08-25_12:26:18.f][INFO    ][neuraxle.default_project.default_client.0.0.0.AutoML][aggregates.py:700][MainProcess:MainThread]:  ==> At epoch: 0\n"
     ]
    },
    {
     "name": "stdout",
     "output_type": "stream",
     "text": [
      "⠀[2022-08-25_12:26:18.f][INFO    ][neuraxle.default_project.default_client.0.0.AutoML][aggregates.py:729][MainProcess:MainThread]: Finished!\n"
     ]
    },
    {
     "name": "stderr",
     "output_type": "stream",
     "text": [
      "⠀[2022-08-25_12:26:18.f][INFO    ][neuraxle.default_project.default_client.0.0.AutoML][aggregates.py:729][MainProcess:MainThread]: Finished!\n"
     ]
    },
    {
     "name": "stdout",
     "output_type": "stream",
     "text": [
      "⠀[2022-08-25_12:26:18.f][INFO    ][neuraxle.default_project.default_client.0.0.AutoML][base.py:1270][MainProcess:MainThread]: Status: TrialStatus.SUCCESS\n"
     ]
    },
    {
     "name": "stderr",
     "output_type": "stream",
     "text": [
      "⠀[2022-08-25_12:26:18.f][INFO    ][neuraxle.default_project.default_client.0.0.AutoML][base.py:1270][MainProcess:MainThread]: Status: TrialStatus.SUCCESS\n"
     ]
    },
    {
     "name": "stdout",
     "output_type": "stream",
     "text": [
      "⠀[2022-08-25_12:26:18.f][INFO    ][neuraxle.default_project.default_client.0.0.AutoML][aggregates.py:583][MainProcess:MainThread]:  ==> With best main validation score: 0.995625\n"
     ]
    },
    {
     "name": "stderr",
     "output_type": "stream",
     "text": [
      "⠀[2022-08-25_12:26:18.f][INFO    ][neuraxle.default_project.default_client.0.0.AutoML][aggregates.py:583][MainProcess:MainThread]:  ==> With best main validation score: 0.995625\n"
     ]
    },
    {
     "name": "stdout",
     "output_type": "stream",
     "text": [
      "⠀[2022-08-25_12:26:18.f][INFO    ][neuraxle.default_project.default_client.0.AutoML][auto_ml.py:248][MainProcess:MainThread]: Finished round hp search!\n"
     ]
    },
    {
     "name": "stderr",
     "output_type": "stream",
     "text": [
      "⠀[2022-08-25_12:26:18.f][INFO    ][neuraxle.default_project.default_client.0.AutoML][auto_ml.py:248][MainProcess:MainThread]: Finished round hp search!\n"
     ]
    },
    {
     "name": "stdout",
     "output_type": "stream",
     "text": [
      "⠀[2022-08-25_12:26:18.f][INFO    ][neuraxle.default_project.default_client.0.AutoML][aggregates.py:305][MainProcess:MainThread]: Best hyperparameters found for metric 'main' with best validation score '0.995625' obtained at epoch 'None':\n"
     ]
    },
    {
     "name": "stderr",
     "output_type": "stream",
     "text": [
      "⠀[2022-08-25_12:26:18.f][INFO    ][neuraxle.default_project.default_client.0.AutoML][aggregates.py:305][MainProcess:MainThread]: Best hyperparameters found for metric 'main' with best validation score '0.995625' obtained at epoch 'None':\n"
     ]
    },
    {
     "name": "stdout",
     "output_type": "stream",
     "text": [
      "⠀[2022-08-25_12:26:18.f][INFO    ][neuraxle.default_project.default_client.0.AutoML][aggregates.py:599][MainProcess:MainThread]: Hyperparameters: \n",
      "OrderedDict([   ('*C', 8.07485816257735),\n",
      "                ('*LogisticRegression*fit_intercept', False),\n",
      "                ('*max_iter', 129),\n",
      "                ('*penalty', 'l2'),\n",
      "                ('*bootstrap', False),\n",
      "                ('*RandomForestClassifier*criterion', 'entropy'),\n",
      "                ('*RandomForestClassifier*min_samples_leaf', 2),\n",
      "                ('*RandomForestClassifier*min_samples_split', 2),\n",
      "                ('*n_estimators', 70),\n",
      "                ('*alpha', 0.0),\n",
      "                ('*RidgeClassifier*fit_intercept', True),\n",
      "                ('*normalize', False),\n",
      "                ('*SKLearnWrapper_DecisionTreeClassifier*criterion', 'gini'),\n",
      "                ('*SKLearnWrapper_DecisionTreeClassifier*min_samples_leaf', 2),\n",
      "                ('*SKLearnWrapper_DecisionTreeClassifier*min_samples_split', 4),\n",
      "                ('*SKLearnWrapper_DecisionTreeClassifier*splitter', 'random'),\n",
      "                ('*SKLearnWrapper_ExtraTreeClassifier*criterion', 'entropy'),\n",
      "                ('*SKLearnWrapper_ExtraTreeClassifier*min_samples_leaf', 4),\n",
      "                ('*SKLearnWrapper_ExtraTreeClassifier*min_samples_split', 3),\n",
      "                ('*SKLearnWrapper_ExtraTreeClassifier*splitter', 'random'),\n",
      "                ('*choice', 'SKLearnWrapper_DecisionTreeClassifier')])\n"
     ]
    },
    {
     "name": "stderr",
     "output_type": "stream",
     "text": [
      "⠀[2022-08-25_12:26:18.f][INFO    ][neuraxle.default_project.default_client.0.AutoML][aggregates.py:599][MainProcess:MainThread]: Hyperparameters: \n",
      "OrderedDict([   ('*C', 8.07485816257735),\n",
      "                ('*LogisticRegression*fit_intercept', False),\n",
      "                ('*max_iter', 129),\n",
      "                ('*penalty', 'l2'),\n",
      "                ('*bootstrap', False),\n",
      "                ('*RandomForestClassifier*criterion', 'entropy'),\n",
      "                ('*RandomForestClassifier*min_samples_leaf', 2),\n",
      "                ('*RandomForestClassifier*min_samples_split', 2),\n",
      "                ('*n_estimators', 70),\n",
      "                ('*alpha', 0.0),\n",
      "                ('*RidgeClassifier*fit_intercept', True),\n",
      "                ('*normalize', False),\n",
      "                ('*SKLearnWrapper_DecisionTreeClassifier*criterion', 'gini'),\n",
      "                ('*SKLearnWrapper_DecisionTreeClassifier*min_samples_leaf', 2),\n",
      "                ('*SKLearnWrapper_DecisionTreeClassifier*min_samples_split', 4),\n",
      "                ('*SKLearnWrapper_DecisionTreeClassifier*splitter', 'random'),\n",
      "                ('*SKLearnWrapper_ExtraTreeClassifier*criterion', 'entropy'),\n",
      "                ('*SKLearnWrapper_ExtraTreeClassifier*min_samples_leaf', 4),\n",
      "                ('*SKLearnWrapper_ExtraTreeClassifier*min_samples_split', 3),\n",
      "                ('*SKLearnWrapper_ExtraTreeClassifier*splitter', 'random'),\n",
      "                ('*choice', 'SKLearnWrapper_DecisionTreeClassifier')])\n"
     ]
    },
    {
     "name": "stdout",
     "output_type": "stream",
     "text": [
      "⠀[2022-08-25_12:26:18.f][INFO    ][neuraxle.default_project.default_client.0.AutoML][aggregates.py:318][MainProcess:MainThread]: Trial #1 planned!\n"
     ]
    },
    {
     "name": "stderr",
     "output_type": "stream",
     "text": [
      "⠀[2022-08-25_12:26:18.f][INFO    ][neuraxle.default_project.default_client.0.AutoML][aggregates.py:318][MainProcess:MainThread]: Trial #1 planned!\n"
     ]
    },
    {
     "name": "stdout",
     "output_type": "stream",
     "text": [
      "⠀[2022-08-25_12:26:18.f][INFO    ][neuraxle.default_project.default_client.0.AutoML][aggregates.py:554][MainProcess:MainThread]: Hyperparameters: \n",
      "OrderedDict([   ('*C', 0.16032613986017646),\n",
      "                ('*LogisticRegression*fit_intercept', True),\n",
      "                ('*max_iter', 169),\n",
      "                ('*penalty', 'l2'),\n",
      "                ('*bootstrap', False),\n",
      "                ('*RandomForestClassifier*criterion', 'entropy'),\n",
      "                ('*RandomForestClassifier*min_samples_leaf', 5),\n",
      "                ('*RandomForestClassifier*min_samples_split', 2),\n",
      "                ('*n_estimators', 61),\n",
      "                ('*alpha', 100.0),\n",
      "                ('*RidgeClassifier*fit_intercept', False),\n",
      "                ('*normalize', False),\n",
      "                ('*SKLearnWrapper_DecisionTreeClassifier*criterion', 'gini'),\n",
      "                ('*SKLearnWrapper_DecisionTreeClassifier*min_samples_leaf', 4),\n",
      "                ('*SKLearnWrapper_DecisionTreeClassifier*min_samples_split', 3),\n",
      "                ('*SKLearnWrapper_DecisionTreeClassifier*splitter', 'random'),\n",
      "                ('*SKLearnWrapper_ExtraTreeClassifier*criterion', 'gini'),\n",
      "                ('*SKLearnWrapper_ExtraTreeClassifier*min_samples_leaf', 3),\n",
      "                ('*SKLearnWrapper_ExtraTreeClassifier*min_samples_split', 2),\n",
      "                ('*SKLearnWrapper_ExtraTreeClassifier*splitter', 'best'),\n",
      "                ('*choice', 'LogisticRegression')])\n"
     ]
    },
    {
     "name": "stderr",
     "output_type": "stream",
     "text": [
      "⠀[2022-08-25_12:26:18.f][INFO    ][neuraxle.default_project.default_client.0.AutoML][aggregates.py:554][MainProcess:MainThread]: Hyperparameters: \n",
      "OrderedDict([   ('*C', 0.16032613986017646),\n",
      "                ('*LogisticRegression*fit_intercept', True),\n",
      "                ('*max_iter', 169),\n",
      "                ('*penalty', 'l2'),\n",
      "                ('*bootstrap', False),\n",
      "                ('*RandomForestClassifier*criterion', 'entropy'),\n",
      "                ('*RandomForestClassifier*min_samples_leaf', 5),\n",
      "                ('*RandomForestClassifier*min_samples_split', 2),\n",
      "                ('*n_estimators', 61),\n",
      "                ('*alpha', 100.0),\n",
      "                ('*RidgeClassifier*fit_intercept', False),\n",
      "                ('*normalize', False),\n",
      "                ('*SKLearnWrapper_DecisionTreeClassifier*criterion', 'gini'),\n",
      "                ('*SKLearnWrapper_DecisionTreeClassifier*min_samples_leaf', 4),\n",
      "                ('*SKLearnWrapper_DecisionTreeClassifier*min_samples_split', 3),\n",
      "                ('*SKLearnWrapper_DecisionTreeClassifier*splitter', 'random'),\n",
      "                ('*SKLearnWrapper_ExtraTreeClassifier*criterion', 'gini'),\n",
      "                ('*SKLearnWrapper_ExtraTreeClassifier*min_samples_leaf', 3),\n",
      "                ('*SKLearnWrapper_ExtraTreeClassifier*min_samples_split', 2),\n",
      "                ('*SKLearnWrapper_ExtraTreeClassifier*splitter', 'best'),\n",
      "                ('*choice', 'LogisticRegression')])\n"
     ]
    },
    {
     "name": "stdout",
     "output_type": "stream",
     "text": [
      "⠀[2022-08-25_12:26:18.f][INFO    ][neuraxle.default_project.default_client.0.AutoML][aggregates.py:554][MainProcess:MainThread]: Status: TrialStatus.PLANNED\n"
     ]
    },
    {
     "name": "stderr",
     "output_type": "stream",
     "text": [
      "⠀[2022-08-25_12:26:18.f][INFO    ][neuraxle.default_project.default_client.0.AutoML][aggregates.py:554][MainProcess:MainThread]: Status: TrialStatus.PLANNED\n"
     ]
    },
    {
     "name": "stdout",
     "output_type": "stream",
     "text": [
      "⠀[2022-08-25_12:26:18.f][INFO    ][neuraxle.default_project.default_client.0.1.AutoML][aggregates.py:318][MainProcess:MainThread]: Started!\n"
     ]
    },
    {
     "name": "stderr",
     "output_type": "stream",
     "text": [
      "⠀[2022-08-25_12:26:18.f][INFO    ][neuraxle.default_project.default_client.0.1.AutoML][aggregates.py:318][MainProcess:MainThread]: Started!\n"
     ]
    },
    {
     "name": "stdout",
     "output_type": "stream",
     "text": [
      "⠀[2022-08-25_12:26:18.f][INFO    ][neuraxle.default_project.default_client.0.1.AutoML][aggregates.py:681][MainProcess:MainThread]: Status: TrialStatus.RUNNING\n"
     ]
    },
    {
     "name": "stderr",
     "output_type": "stream",
     "text": [
      "⠀[2022-08-25_12:26:18.f][INFO    ][neuraxle.default_project.default_client.0.1.AutoML][aggregates.py:681][MainProcess:MainThread]: Status: TrialStatus.RUNNING\n"
     ]
    },
    {
     "name": "stdout",
     "output_type": "stream",
     "text": [
      "⠀[2022-08-25_12:26:18.f][INFO    ][neuraxle.default_project.default_client.0.1.0.AutoML][aggregates.py:779][MainProcess:MainThread]: Started!\n"
     ]
    },
    {
     "name": "stderr",
     "output_type": "stream",
     "text": [
      "⠀[2022-08-25_12:26:18.f][INFO    ][neuraxle.default_project.default_client.0.1.0.AutoML][aggregates.py:779][MainProcess:MainThread]: Started!\n"
     ]
    },
    {
     "name": "stdout",
     "output_type": "stream",
     "text": [
      "⠀[2022-08-25_12:26:18.f][INFO    ][neuraxle.default_project.default_client.0.1.0.AutoML][aggregates.py:789][MainProcess:MainThread]: Status: TrialStatus.RUNNING\n"
     ]
    },
    {
     "name": "stderr",
     "output_type": "stream",
     "text": [
      "⠀[2022-08-25_12:26:18.f][INFO    ][neuraxle.default_project.default_client.0.1.0.AutoML][aggregates.py:789][MainProcess:MainThread]: Status: TrialStatus.RUNNING\n"
     ]
    },
    {
     "name": "stdout",
     "output_type": "stream",
     "text": [
      "⠀[2022-08-25_12:26:18.f][INFO    ][neuraxle.default_project.default_client.0.1.0.AutoML][auto_ml.py:122][MainProcess:MainThread]: Epoch 1/1.\n"
     ]
    },
    {
     "name": "stderr",
     "output_type": "stream",
     "text": [
      "⠀[2022-08-25_12:26:18.f][INFO    ][neuraxle.default_project.default_client.0.1.0.AutoML][auto_ml.py:122][MainProcess:MainThread]: Epoch 1/1.\n",
      "⠀[2022-08-25_12:26:18.f][ERROR   ][neuraxle.default_project.default_client.0.1.0.AutoML][auto_ml.py:160][MainProcess:MainThread]: The following ValueError occurred: Classification metrics can't handle a mix of unknown and binary targets\n",
      "⠀[2022-08-25_12:26:18.f][ERROR   ][neuraxle.default_project.default_client.0.1.0.AutoML][auto_ml.py:160][MainProcess:MainThread]: The following ValueError occurred: Classification metrics can't handle a mix of unknown and binary targets\n",
      "⠀[2022-08-25_12:26:18.f][ERROR   ][neuraxle.default_project.default_client.0.1.0.AutoML][base.py:1294][MainProcess:MainThread]: Classification metrics can't handle a mix of unknown and binary targets\n",
      "Traceback (most recent call last):\n",
      "  File \"/Users/mjboothaus/code/github/mjboothaus/titanic/.venv_dev_titanic-streamlit-app/lib/python3.9/site-packages/neuraxle/metaopt/callbacks.py\", line 242, in call\n",
      "    if callback.call(\n",
      "  File \"/Users/mjboothaus/code/github/mjboothaus/titanic/.venv_dev_titanic-streamlit-app/lib/python3.9/site-packages/neuraxle/metaopt/callbacks.py\", line 306, in call\n",
      "    train_score: float = f(dact_train.eo, dact_train.di)\n",
      "  File \"/Users/mjboothaus/code/github/mjboothaus/titanic/.venv_dev_titanic-streamlit-app/lib/python3.9/site-packages/sklearn/metrics/_classification.py\", line 211, in accuracy_score\n",
      "    y_type, y_true, y_pred = _check_targets(y_true, y_pred)\n",
      "  File \"/Users/mjboothaus/code/github/mjboothaus/titanic/.venv_dev_titanic-streamlit-app/lib/python3.9/site-packages/sklearn/metrics/_classification.py\", line 93, in _check_targets\n",
      "    raise ValueError(\n",
      "ValueError: Classification metrics can't handle a mix of unknown and binary targets\n",
      "⠀[2022-08-25_12:26:18.f][ERROR   ][neuraxle.default_project.default_client.0.1.0.AutoML][base.py:1294][MainProcess:MainThread]: Classification metrics can't handle a mix of unknown and binary targets\n",
      "Traceback (most recent call last):\n",
      "  File \"/Users/mjboothaus/code/github/mjboothaus/titanic/.venv_dev_titanic-streamlit-app/lib/python3.9/site-packages/neuraxle/metaopt/callbacks.py\", line 242, in call\n",
      "    if callback.call(\n",
      "  File \"/Users/mjboothaus/code/github/mjboothaus/titanic/.venv_dev_titanic-streamlit-app/lib/python3.9/site-packages/neuraxle/metaopt/callbacks.py\", line 306, in call\n",
      "    train_score: float = f(dact_train.eo, dact_train.di)\n",
      "  File \"/Users/mjboothaus/code/github/mjboothaus/titanic/.venv_dev_titanic-streamlit-app/lib/python3.9/site-packages/sklearn/metrics/_classification.py\", line 211, in accuracy_score\n",
      "    y_type, y_true, y_pred = _check_targets(y_true, y_pred)\n",
      "  File \"/Users/mjboothaus/code/github/mjboothaus/titanic/.venv_dev_titanic-streamlit-app/lib/python3.9/site-packages/sklearn/metrics/_classification.py\", line 93, in _check_targets\n",
      "    raise ValueError(\n",
      "ValueError: Classification metrics can't handle a mix of unknown and binary targets\n",
      "⠀[2022-08-25_12:26:19.f][ERROR   ][neuraxle.default_project.default_client.0.1.0.AutoML][aggregates.py:884][MainProcess:MainThread]: The following ValueError occurred: Classification metrics can't handle a mix of unknown and binary targets\n",
      "⠀[2022-08-25_12:26:19.f][ERROR   ][neuraxle.default_project.default_client.0.1.0.AutoML][aggregates.py:884][MainProcess:MainThread]: The following ValueError occurred: Classification metrics can't handle a mix of unknown and binary targets\n",
      "⠀[2022-08-25_12:26:19.f][ERROR   ][neuraxle.default_project.default_client.0.1.0.AutoML][base.py:1294][MainProcess:MainThread]: Classification metrics can't handle a mix of unknown and binary targets\n",
      "Traceback (most recent call last):\n",
      "  File \"/Users/mjboothaus/code/github/mjboothaus/titanic/.venv_dev_titanic-streamlit-app/lib/python3.9/site-packages/neuraxle/metaopt/auto_ml.py\", line 92, in train\n",
      "    p = self.train_split(pipeline, train_dact, val_dact, trial_split_scope)\n",
      "  File \"/Users/mjboothaus/code/github/mjboothaus/titanic/.venv_dev_titanic-streamlit-app/lib/python3.9/site-packages/neuraxle/metaopt/auto_ml.py\", line 160, in train_split\n",
      "    if self.callbacks.call(\n",
      "  File \"/Users/mjboothaus/code/github/mjboothaus/titanic/.venv_dev_titanic-streamlit-app/lib/python3.9/site-packages/neuraxle/metaopt/callbacks.py\", line 251, in call\n",
      "    raise e\n",
      "  File \"/Users/mjboothaus/code/github/mjboothaus/titanic/.venv_dev_titanic-streamlit-app/lib/python3.9/site-packages/neuraxle/metaopt/callbacks.py\", line 242, in call\n",
      "    if callback.call(\n",
      "  File \"/Users/mjboothaus/code/github/mjboothaus/titanic/.venv_dev_titanic-streamlit-app/lib/python3.9/site-packages/neuraxle/metaopt/callbacks.py\", line 306, in call\n",
      "    train_score: float = f(dact_train.eo, dact_train.di)\n",
      "  File \"/Users/mjboothaus/code/github/mjboothaus/titanic/.venv_dev_titanic-streamlit-app/lib/python3.9/site-packages/sklearn/metrics/_classification.py\", line 211, in accuracy_score\n",
      "    y_type, y_true, y_pred = _check_targets(y_true, y_pred)\n",
      "  File \"/Users/mjboothaus/code/github/mjboothaus/titanic/.venv_dev_titanic-streamlit-app/lib/python3.9/site-packages/sklearn/metrics/_classification.py\", line 93, in _check_targets\n",
      "    raise ValueError(\n",
      "ValueError: Classification metrics can't handle a mix of unknown and binary targets\n",
      "⠀[2022-08-25_12:26:19.f][ERROR   ][neuraxle.default_project.default_client.0.1.0.AutoML][base.py:1294][MainProcess:MainThread]: Classification metrics can't handle a mix of unknown and binary targets\n",
      "Traceback (most recent call last):\n",
      "  File \"/Users/mjboothaus/code/github/mjboothaus/titanic/.venv_dev_titanic-streamlit-app/lib/python3.9/site-packages/neuraxle/metaopt/auto_ml.py\", line 92, in train\n",
      "    p = self.train_split(pipeline, train_dact, val_dact, trial_split_scope)\n",
      "  File \"/Users/mjboothaus/code/github/mjboothaus/titanic/.venv_dev_titanic-streamlit-app/lib/python3.9/site-packages/neuraxle/metaopt/auto_ml.py\", line 160, in train_split\n",
      "    if self.callbacks.call(\n",
      "  File \"/Users/mjboothaus/code/github/mjboothaus/titanic/.venv_dev_titanic-streamlit-app/lib/python3.9/site-packages/neuraxle/metaopt/callbacks.py\", line 251, in call\n",
      "    raise e\n",
      "  File \"/Users/mjboothaus/code/github/mjboothaus/titanic/.venv_dev_titanic-streamlit-app/lib/python3.9/site-packages/neuraxle/metaopt/callbacks.py\", line 242, in call\n",
      "    if callback.call(\n",
      "  File \"/Users/mjboothaus/code/github/mjboothaus/titanic/.venv_dev_titanic-streamlit-app/lib/python3.9/site-packages/neuraxle/metaopt/callbacks.py\", line 306, in call\n",
      "    train_score: float = f(dact_train.eo, dact_train.di)\n",
      "  File \"/Users/mjboothaus/code/github/mjboothaus/titanic/.venv_dev_titanic-streamlit-app/lib/python3.9/site-packages/sklearn/metrics/_classification.py\", line 211, in accuracy_score\n",
      "    y_type, y_true, y_pred = _check_targets(y_true, y_pred)\n",
      "  File \"/Users/mjboothaus/code/github/mjboothaus/titanic/.venv_dev_titanic-streamlit-app/lib/python3.9/site-packages/sklearn/metrics/_classification.py\", line 93, in _check_targets\n",
      "    raise ValueError(\n",
      "ValueError: Classification metrics can't handle a mix of unknown and binary targets\n"
     ]
    },
    {
     "name": "stdout",
     "output_type": "stream",
     "text": [
      "⠀[2022-08-25_12:26:19.f][INFO    ][neuraxle.default_project.default_client.0.1.0.AutoML][aggregates.py:884][MainProcess:MainThread]: Finished!\n"
     ]
    },
    {
     "name": "stderr",
     "output_type": "stream",
     "text": [
      "⠀[2022-08-25_12:26:19.f][INFO    ][neuraxle.default_project.default_client.0.1.0.AutoML][aggregates.py:884][MainProcess:MainThread]: Finished!\n"
     ]
    },
    {
     "name": "stdout",
     "output_type": "stream",
     "text": [
      "⠀[2022-08-25_12:26:19.f][INFO    ][neuraxle.default_project.default_client.0.1.0.AutoML][base.py:1286][MainProcess:MainThread]: Status: TrialStatus.FAILED\n"
     ]
    },
    {
     "name": "stderr",
     "output_type": "stream",
     "text": [
      "⠀[2022-08-25_12:26:19.f][INFO    ][neuraxle.default_project.default_client.0.1.0.AutoML][base.py:1286][MainProcess:MainThread]: Status: TrialStatus.FAILED\n",
      "⠀[2022-08-25_12:26:19.f][ERROR   ][neuraxle.default_project.default_client.0.1.AutoML][aggregates.py:740][MainProcess:MainThread]: The following ValueError occurred: Classification metrics can't handle a mix of unknown and binary targets\n",
      "⠀[2022-08-25_12:26:19.f][ERROR   ][neuraxle.default_project.default_client.0.1.AutoML][aggregates.py:740][MainProcess:MainThread]: The following ValueError occurred: Classification metrics can't handle a mix of unknown and binary targets\n",
      "⠀[2022-08-25_12:26:19.f][ERROR   ][neuraxle.default_project.default_client.0.1.AutoML][base.py:1294][MainProcess:MainThread]: Classification metrics can't handle a mix of unknown and binary targets\n",
      "Traceback (most recent call last):\n",
      "  File \"/Users/mjboothaus/code/github/mjboothaus/titanic/.venv_dev_titanic-streamlit-app/lib/python3.9/site-packages/neuraxle/metaopt/auto_ml.py\", line 92, in train\n",
      "    p = self.train_split(pipeline, train_dact, val_dact, trial_split_scope)\n",
      "  File \"/Users/mjboothaus/code/github/mjboothaus/titanic/.venv_dev_titanic-streamlit-app/lib/python3.9/site-packages/neuraxle/metaopt/auto_ml.py\", line 160, in train_split\n",
      "    if self.callbacks.call(\n",
      "  File \"/Users/mjboothaus/code/github/mjboothaus/titanic/.venv_dev_titanic-streamlit-app/lib/python3.9/site-packages/neuraxle/metaopt/callbacks.py\", line 251, in call\n",
      "    raise e\n",
      "  File \"/Users/mjboothaus/code/github/mjboothaus/titanic/.venv_dev_titanic-streamlit-app/lib/python3.9/site-packages/neuraxle/metaopt/callbacks.py\", line 242, in call\n",
      "    if callback.call(\n",
      "  File \"/Users/mjboothaus/code/github/mjboothaus/titanic/.venv_dev_titanic-streamlit-app/lib/python3.9/site-packages/neuraxle/metaopt/callbacks.py\", line 306, in call\n",
      "    train_score: float = f(dact_train.eo, dact_train.di)\n",
      "  File \"/Users/mjboothaus/code/github/mjboothaus/titanic/.venv_dev_titanic-streamlit-app/lib/python3.9/site-packages/sklearn/metrics/_classification.py\", line 211, in accuracy_score\n",
      "    y_type, y_true, y_pred = _check_targets(y_true, y_pred)\n",
      "  File \"/Users/mjboothaus/code/github/mjboothaus/titanic/.venv_dev_titanic-streamlit-app/lib/python3.9/site-packages/sklearn/metrics/_classification.py\", line 93, in _check_targets\n",
      "    raise ValueError(\n",
      "ValueError: Classification metrics can't handle a mix of unknown and binary targets\n",
      "⠀[2022-08-25_12:26:19.f][ERROR   ][neuraxle.default_project.default_client.0.1.AutoML][base.py:1294][MainProcess:MainThread]: Classification metrics can't handle a mix of unknown and binary targets\n",
      "Traceback (most recent call last):\n",
      "  File \"/Users/mjboothaus/code/github/mjboothaus/titanic/.venv_dev_titanic-streamlit-app/lib/python3.9/site-packages/neuraxle/metaopt/auto_ml.py\", line 92, in train\n",
      "    p = self.train_split(pipeline, train_dact, val_dact, trial_split_scope)\n",
      "  File \"/Users/mjboothaus/code/github/mjboothaus/titanic/.venv_dev_titanic-streamlit-app/lib/python3.9/site-packages/neuraxle/metaopt/auto_ml.py\", line 160, in train_split\n",
      "    if self.callbacks.call(\n",
      "  File \"/Users/mjboothaus/code/github/mjboothaus/titanic/.venv_dev_titanic-streamlit-app/lib/python3.9/site-packages/neuraxle/metaopt/callbacks.py\", line 251, in call\n",
      "    raise e\n",
      "  File \"/Users/mjboothaus/code/github/mjboothaus/titanic/.venv_dev_titanic-streamlit-app/lib/python3.9/site-packages/neuraxle/metaopt/callbacks.py\", line 242, in call\n",
      "    if callback.call(\n",
      "  File \"/Users/mjboothaus/code/github/mjboothaus/titanic/.venv_dev_titanic-streamlit-app/lib/python3.9/site-packages/neuraxle/metaopt/callbacks.py\", line 306, in call\n",
      "    train_score: float = f(dact_train.eo, dact_train.di)\n",
      "  File \"/Users/mjboothaus/code/github/mjboothaus/titanic/.venv_dev_titanic-streamlit-app/lib/python3.9/site-packages/sklearn/metrics/_classification.py\", line 211, in accuracy_score\n",
      "    y_type, y_true, y_pred = _check_targets(y_true, y_pred)\n",
      "  File \"/Users/mjboothaus/code/github/mjboothaus/titanic/.venv_dev_titanic-streamlit-app/lib/python3.9/site-packages/sklearn/metrics/_classification.py\", line 93, in _check_targets\n",
      "    raise ValueError(\n",
      "ValueError: Classification metrics can't handle a mix of unknown and binary targets\n"
     ]
    },
    {
     "name": "stdout",
     "output_type": "stream",
     "text": [
      "⠀[2022-08-25_12:26:19.f][INFO    ][neuraxle.default_project.default_client.0.1.AutoML][aggregates.py:740][MainProcess:MainThread]: Finished!\n"
     ]
    },
    {
     "name": "stderr",
     "output_type": "stream",
     "text": [
      "⠀[2022-08-25_12:26:19.f][INFO    ][neuraxle.default_project.default_client.0.1.AutoML][aggregates.py:740][MainProcess:MainThread]: Finished!\n"
     ]
    },
    {
     "name": "stdout",
     "output_type": "stream",
     "text": [
      "⠀[2022-08-25_12:26:19.f][INFO    ][neuraxle.default_project.default_client.0.1.AutoML][base.py:1286][MainProcess:MainThread]: Status: TrialStatus.FAILED\n"
     ]
    },
    {
     "name": "stderr",
     "output_type": "stream",
     "text": [
      "⠀[2022-08-25_12:26:19.f][INFO    ][neuraxle.default_project.default_client.0.1.AutoML][base.py:1286][MainProcess:MainThread]: Status: TrialStatus.FAILED\n",
      "⠀[2022-08-25_12:26:19.f][ERROR   ][neuraxle.default_project.default_client.0.1.AutoML][aggregates.py:740][MainProcess:MainThread]: The following GeneratorExit occurred: \n",
      "⠀[2022-08-25_12:26:19.f][ERROR   ][neuraxle.default_project.default_client.0.1.AutoML][aggregates.py:740][MainProcess:MainThread]: The following GeneratorExit occurred: \n",
      "⠀[2022-08-25_12:26:19.f][ERROR   ][neuraxle.default_project.default_client.0.1.AutoML][base.py:1294][MainProcess:MainThread]: \n",
      "Traceback (most recent call last):\n",
      "  File \"/Users/mjboothaus/code/github/mjboothaus/titanic/.venv_dev_titanic-streamlit-app/lib/python3.9/site-packages/neuraxle/metaopt/auto_ml.py\", line 248, in loop\n",
      "    yield managed_trial_scope\n",
      "GeneratorExit\n",
      "⠀[2022-08-25_12:26:19.f][ERROR   ][neuraxle.default_project.default_client.0.1.AutoML][base.py:1294][MainProcess:MainThread]: \n",
      "Traceback (most recent call last):\n",
      "  File \"/Users/mjboothaus/code/github/mjboothaus/titanic/.venv_dev_titanic-streamlit-app/lib/python3.9/site-packages/neuraxle/metaopt/auto_ml.py\", line 248, in loop\n",
      "    yield managed_trial_scope\n",
      "GeneratorExit\n"
     ]
    },
    {
     "name": "stdout",
     "output_type": "stream",
     "text": [
      "⠀[2022-08-25_12:26:19.f][INFO    ][neuraxle.default_project.default_client.0.1.AutoML][aggregates.py:740][MainProcess:MainThread]: Finished!\n"
     ]
    },
    {
     "name": "stderr",
     "output_type": "stream",
     "text": [
      "⠀[2022-08-25_12:26:19.f][INFO    ][neuraxle.default_project.default_client.0.1.AutoML][aggregates.py:740][MainProcess:MainThread]: Finished!\n"
     ]
    },
    {
     "name": "stdout",
     "output_type": "stream",
     "text": [
      "⠀[2022-08-25_12:26:19.f][INFO    ][neuraxle.default_project.default_client.0.1.AutoML][base.py:1286][MainProcess:MainThread]: Status: TrialStatus.FAILED\n"
     ]
    },
    {
     "name": "stderr",
     "output_type": "stream",
     "text": [
      "⠀[2022-08-25_12:26:19.f][INFO    ][neuraxle.default_project.default_client.0.1.AutoML][base.py:1286][MainProcess:MainThread]: Status: TrialStatus.FAILED\n",
      "⠀[2022-08-25_12:26:19.f][ERROR   ][neuraxle.default_project.default_client.0.AutoML][aggregates.py:606][MainProcess:MainThread]: The following GeneratorExit occurred: \n",
      "⠀[2022-08-25_12:26:19.f][ERROR   ][neuraxle.default_project.default_client.0.AutoML][aggregates.py:606][MainProcess:MainThread]: The following GeneratorExit occurred: \n",
      "⠀[2022-08-25_12:26:19.f][ERROR   ][neuraxle.default_project.default_client.0.AutoML][base.py:1294][MainProcess:MainThread]: \n",
      "Traceback (most recent call last):\n",
      "  File \"/Users/mjboothaus/code/github/mjboothaus/titanic/.venv_dev_titanic-streamlit-app/lib/python3.9/site-packages/neuraxle/metaopt/auto_ml.py\", line 248, in loop\n",
      "    yield managed_trial_scope\n",
      "GeneratorExit\n",
      "⠀[2022-08-25_12:26:19.f][ERROR   ][neuraxle.default_project.default_client.0.AutoML][base.py:1294][MainProcess:MainThread]: \n",
      "Traceback (most recent call last):\n",
      "  File \"/Users/mjboothaus/code/github/mjboothaus/titanic/.venv_dev_titanic-streamlit-app/lib/python3.9/site-packages/neuraxle/metaopt/auto_ml.py\", line 248, in loop\n",
      "    yield managed_trial_scope\n",
      "GeneratorExit\n"
     ]
    },
    {
     "name": "stdout",
     "output_type": "stream",
     "text": [
      "⠀[2022-08-25_12:26:19.f][INFO    ][neuraxle.default_project.default_client.0.AutoML][aggregates.py:606][MainProcess:MainThread]: Finished!\n"
     ]
    },
    {
     "name": "stderr",
     "output_type": "stream",
     "text": [
      "⠀[2022-08-25_12:26:19.f][INFO    ][neuraxle.default_project.default_client.0.AutoML][aggregates.py:606][MainProcess:MainThread]: Finished!\n"
     ]
    },
    {
     "name": "stdout",
     "output_type": "stream",
     "text": [
      "⠀[2022-08-25_12:26:19.f][INFO    ][neuraxle.default_project.default_client.0.AutoML][base.py:1286][MainProcess:MainThread]: Status: TrialStatus.FAILED\n"
     ]
    },
    {
     "name": "stderr",
     "output_type": "stream",
     "text": [
      "⠀[2022-08-25_12:26:19.f][INFO    ][neuraxle.default_project.default_client.0.AutoML][base.py:1286][MainProcess:MainThread]: Status: TrialStatus.FAILED\n"
     ]
    },
    {
     "ename": "ValueError",
     "evalue": "Classification metrics can't handle a mix of unknown and binary targets",
     "output_type": "error",
     "traceback": [
      "\u001b[0;31m---------------------------------------------------------------------------\u001b[0m",
      "\u001b[0;31mValueError\u001b[0m                                Traceback (most recent call last)",
      "\u001b[1;32m/Users/mjboothaus/code/github/mjboothaus/titanic/notebooks/neuraxle-testing3.ipynb Cell 4\u001b[0m in \u001b[0;36m<cell line: 1>\u001b[0;34m()\u001b[0m\n\u001b[0;32m----> <a href='vscode-notebook-cell:/Users/mjboothaus/code/github/mjboothaus/titanic/notebooks/neuraxle-testing3.ipynb#W2sZmlsZQ%3D%3D?line=0'>1</a>\u001b[0m main(CX\u001b[39m.\u001b[39;49mget_new_cache_folder())\n",
      "\u001b[1;32m/Users/mjboothaus/code/github/mjboothaus/titanic/notebooks/neuraxle-testing3.ipynb Cell 4\u001b[0m in \u001b[0;36mmain\u001b[0;34m(tmpdir)\u001b[0m\n\u001b[1;32m     <a href='vscode-notebook-cell:/Users/mjboothaus/code/github/mjboothaus/titanic/notebooks/neuraxle-testing3.ipynb#W2sZmlsZQ%3D%3D?line=79'>80</a>\u001b[0m \u001b[39m# Load data, and launch AutoML loop !\u001b[39;00m\n\u001b[1;32m     <a href='vscode-notebook-cell:/Users/mjboothaus/code/github/mjboothaus/titanic/notebooks/neuraxle-testing3.ipynb#W2sZmlsZQ%3D%3D?line=81'>82</a>\u001b[0m X_train, y_train, X_test, y_test \u001b[39m=\u001b[39m generate_classification_data()\n\u001b[0;32m---> <a href='vscode-notebook-cell:/Users/mjboothaus/code/github/mjboothaus/titanic/notebooks/neuraxle-testing3.ipynb#W2sZmlsZQ%3D%3D?line=82'>83</a>\u001b[0m auto_ml \u001b[39m=\u001b[39m auto_ml\u001b[39m.\u001b[39;49mfit(X_train, y_train)\n\u001b[1;32m     <a href='vscode-notebook-cell:/Users/mjboothaus/code/github/mjboothaus/titanic/notebooks/neuraxle-testing3.ipynb#W2sZmlsZQ%3D%3D?line=84'>85</a>\u001b[0m \u001b[39m# Get the model from the best trial, and make predictions using predict, as per the `refit_best_trial=True` argument to AutoML.\u001b[39;00m\n\u001b[1;32m     <a href='vscode-notebook-cell:/Users/mjboothaus/code/github/mjboothaus/titanic/notebooks/neuraxle-testing3.ipynb#W2sZmlsZQ%3D%3D?line=85'>86</a>\u001b[0m y_pred \u001b[39m=\u001b[39m auto_ml\u001b[39m.\u001b[39mpredict(X_test)\n",
      "File \u001b[0;32m~/code/github/mjboothaus/titanic/.venv_dev_titanic-streamlit-app/lib/python3.9/site-packages/neuraxle/base.py:4170\u001b[0m, in \u001b[0;36mForceHandleMixin.fit\u001b[0;34m(self, data_inputs, expected_outputs)\u001b[0m\n\u001b[1;32m   4162\u001b[0m \u001b[39m\"\"\"\u001b[39;00m\n\u001b[1;32m   4163\u001b[0m \u001b[39mUsing :func:`~neuraxle.base._FittableStep.handle_fit`, fit step with the\u001b[39;00m\n\u001b[1;32m   4164\u001b[0m \u001b[39mgiven data inputs, and expected outputs.\u001b[39;00m\n\u001b[0;32m   (...)\u001b[0m\n\u001b[1;32m   4167\u001b[0m \u001b[39m:return: fitted self\u001b[39;00m\n\u001b[1;32m   4168\u001b[0m \u001b[39m\"\"\"\u001b[39;00m\n\u001b[1;32m   4169\u001b[0m context, data_container \u001b[39m=\u001b[39m \u001b[39mself\u001b[39m\u001b[39m.\u001b[39m_encapsulate_data(data_inputs, expected_outputs, ExecutionMode\u001b[39m.\u001b[39mFIT)\n\u001b[0;32m-> 4170\u001b[0m new_self \u001b[39m=\u001b[39m \u001b[39mself\u001b[39;49m\u001b[39m.\u001b[39;49mhandle_fit(data_container, context)\n\u001b[1;32m   4172\u001b[0m \u001b[39mreturn\u001b[39;00m new_self\n",
      "File \u001b[0;32m~/code/github/mjboothaus/titanic/.venv_dev_titanic-streamlit-app/lib/python3.9/site-packages/neuraxle/base.py:2108\u001b[0m, in \u001b[0;36m_FittableStep.handle_fit\u001b[0;34m(self, data_container, context)\u001b[0m\n\u001b[1;32m   2105\u001b[0m data_container, context \u001b[39m=\u001b[39m \u001b[39mself\u001b[39m\u001b[39m.\u001b[39m_will_fit(data_container, context)\n\u001b[1;32m   2106\u001b[0m \u001b[39m# \\\\\\\\\\\\\\\\\\\\\\\\\\\\\\\\\\\\\\\\\\\\\\\\\\\\\\\\\\\\\\\\\\\\\\\\\\\\\\\\\\\\\\\\\\\\\\\\\\\\\\\\\\\\\\\\\\\\\\\\\\\\\\\\\\\\\\\\\u001b[39;00m\n\u001b[1;32m   2107\u001b[0m \u001b[39m# Documentation: https://www.neuraxle.org/stable/handler_methods.html\u001b[39;00m\n\u001b[0;32m-> 2108\u001b[0m new_self \u001b[39m=\u001b[39m \u001b[39mself\u001b[39;49m\u001b[39m.\u001b[39;49m_fit_data_container(data_container, context)\n\u001b[1;32m   2109\u001b[0m \u001b[39m# ////////////////////////////////////////////////////////////////////\u001b[39;00m\n\u001b[1;32m   2110\u001b[0m \u001b[39mself\u001b[39m\u001b[39m.\u001b[39m_did_fit(data_container, context)\n",
      "File \u001b[0;32m~/code/github/mjboothaus/titanic/.venv_dev_titanic-streamlit-app/lib/python3.9/site-packages/neuraxle/metaopt/auto_ml.py:407\u001b[0m, in \u001b[0;36mControlledAutoML._fit_data_container\u001b[0;34m(self, data_container, context)\u001b[0m\n\u001b[1;32m    404\u001b[0m rs: Round \u001b[39m=\u001b[39m rs\n\u001b[1;32m    405\u001b[0m \u001b[39mself\u001b[39m\u001b[39m.\u001b[39m_round_number \u001b[39m=\u001b[39m rs\u001b[39m.\u001b[39mround_number\n\u001b[0;32m--> 407\u001b[0m \u001b[39mself\u001b[39;49m\u001b[39m.\u001b[39;49mloop\u001b[39m.\u001b[39;49mrun(\u001b[39mself\u001b[39;49m\u001b[39m.\u001b[39;49mpipeline, data_container, rs)\n\u001b[1;32m    409\u001b[0m \u001b[39mif\u001b[39;00m \u001b[39mself\u001b[39m\u001b[39m.\u001b[39mrefit_best_trial:\n\u001b[1;32m    410\u001b[0m     \u001b[39mself\u001b[39m\u001b[39m.\u001b[39mpipeline \u001b[39m=\u001b[39m \u001b[39mself\u001b[39m\u001b[39m.\u001b[39mloop\u001b[39m.\u001b[39mrefit_best_trial(\u001b[39mself\u001b[39m\u001b[39m.\u001b[39mpipeline, data_container, rs)\n",
      "File \u001b[0;32m~/code/github/mjboothaus/titanic/.venv_dev_titanic-streamlit-app/lib/python3.9/site-packages/neuraxle/metaopt/auto_ml.py:234\u001b[0m, in \u001b[0;36mBaseControllerLoop.run\u001b[0;34m(self, pipeline, dact, round_scope)\u001b[0m\n\u001b[1;32m    232\u001b[0m managed_trial_scope: Trial \u001b[39m=\u001b[39m managed_trial_scope  \u001b[39m# typing helps\u001b[39;00m\n\u001b[1;32m    233\u001b[0m \u001b[39m# trial_scope.context.restore_lock(thread_safe_lock) ??\u001b[39;00m\n\u001b[0;32m--> 234\u001b[0m \u001b[39mself\u001b[39;49m\u001b[39m.\u001b[39;49mtrainer\u001b[39m.\u001b[39;49mtrain(pipeline, dact, managed_trial_scope)\n",
      "File \u001b[0;32m~/code/github/mjboothaus/titanic/.venv_dev_titanic-streamlit-app/lib/python3.9/site-packages/neuraxle/metaopt/auto_ml.py:92\u001b[0m, in \u001b[0;36mTrainer.train\u001b[0;34m(self, pipeline, dact, trial_scope, return_trained_pipelines)\u001b[0m\n\u001b[1;32m     90\u001b[0m \u001b[39mfor\u001b[39;00m train_dact, val_dact \u001b[39min\u001b[39;00m splits:\n\u001b[1;32m     91\u001b[0m     \u001b[39mwith\u001b[39;00m trial_scope\u001b[39m.\u001b[39mnew_validation_split() \u001b[39mas\u001b[39;00m trial_split_scope:\n\u001b[0;32m---> 92\u001b[0m         p \u001b[39m=\u001b[39m \u001b[39mself\u001b[39;49m\u001b[39m.\u001b[39;49mtrain_split(pipeline, train_dact, val_dact, trial_split_scope)\n\u001b[1;32m     93\u001b[0m         \u001b[39mif\u001b[39;00m return_trained_pipelines:\n\u001b[1;32m     94\u001b[0m             trained_pipelines\u001b[39m.\u001b[39mappend(p)\n",
      "File \u001b[0;32m~/code/github/mjboothaus/titanic/.venv_dev_titanic-streamlit-app/lib/python3.9/site-packages/neuraxle/metaopt/auto_ml.py:160\u001b[0m, in \u001b[0;36mTrainer.train_split\u001b[0;34m(self, pipeline, train_dact, val_dact, trial_split_scope)\u001b[0m\n\u001b[1;32m    157\u001b[0m         eval_dact_valid \u001b[39m=\u001b[39m \u001b[39mNone\u001b[39;00m\n\u001b[1;32m    159\u001b[0m     \u001b[39m# Log metrics / evaluate\u001b[39;00m\n\u001b[0;32m--> 160\u001b[0m     \u001b[39mif\u001b[39;00m \u001b[39mself\u001b[39;49m\u001b[39m.\u001b[39;49mcallbacks\u001b[39m.\u001b[39;49mcall(\n\u001b[1;32m    161\u001b[0m         trial_split_scope,\n\u001b[1;32m    162\u001b[0m         eval_dact_train,\n\u001b[1;32m    163\u001b[0m         eval_dact_valid,\n\u001b[1;32m    164\u001b[0m         e \u001b[39m==\u001b[39;49m \u001b[39mself\u001b[39;49m\u001b[39m.\u001b[39;49mn_epochs\n\u001b[1;32m    165\u001b[0m     ):\n\u001b[1;32m    166\u001b[0m         \u001b[39mbreak\u001b[39;00m  \u001b[39m# Saves stats using the '__exit__' method of managed scoped aggregates.\u001b[39;00m\n\u001b[1;32m    168\u001b[0m \u001b[39mreturn\u001b[39;00m p\n",
      "File \u001b[0;32m~/code/github/mjboothaus/titanic/.venv_dev_titanic-streamlit-app/lib/python3.9/site-packages/neuraxle/metaopt/callbacks.py:251\u001b[0m, in \u001b[0;36mCallbackList.call\u001b[0;34m(self, trial_split, dact_train, dact_valid, is_finished_and_fitted)\u001b[0m\n\u001b[1;32m    249\u001b[0m     \u001b[39mexcept\u001b[39;00m \u001b[39mException\u001b[39;00m \u001b[39mas\u001b[39;00m e:\n\u001b[1;32m    250\u001b[0m         trial_split\u001b[39m.\u001b[39mcontext\u001b[39m.\u001b[39mflow\u001b[39m.\u001b[39mlog_error(e)\n\u001b[0;32m--> 251\u001b[0m         \u001b[39mraise\u001b[39;00m e\n\u001b[1;32m    253\u001b[0m \u001b[39mreturn\u001b[39;00m is_finished_and_fitted\n",
      "File \u001b[0;32m~/code/github/mjboothaus/titanic/.venv_dev_titanic-streamlit-app/lib/python3.9/site-packages/neuraxle/metaopt/callbacks.py:242\u001b[0m, in \u001b[0;36mCallbackList.call\u001b[0;34m(self, trial_split, dact_train, dact_valid, is_finished_and_fitted)\u001b[0m\n\u001b[1;32m    240\u001b[0m \u001b[39mfor\u001b[39;00m callback \u001b[39min\u001b[39;00m \u001b[39mself\u001b[39m\u001b[39m.\u001b[39mcallbacks:\n\u001b[1;32m    241\u001b[0m     \u001b[39mtry\u001b[39;00m:\n\u001b[0;32m--> 242\u001b[0m         \u001b[39mif\u001b[39;00m callback\u001b[39m.\u001b[39;49mcall(\n\u001b[1;32m    243\u001b[0m             trial_split\u001b[39m=\u001b[39;49mtrial_split,\n\u001b[1;32m    244\u001b[0m             dact_train\u001b[39m=\u001b[39;49mdact_train,\n\u001b[1;32m    245\u001b[0m             dact_valid\u001b[39m=\u001b[39;49mdact_valid,\n\u001b[1;32m    246\u001b[0m             is_finished_and_fitted\u001b[39m=\u001b[39;49mis_finished_and_fitted\n\u001b[1;32m    247\u001b[0m         ):\n\u001b[1;32m    248\u001b[0m             is_finished_and_fitted \u001b[39m=\u001b[39m \u001b[39mTrue\u001b[39;00m\n\u001b[1;32m    249\u001b[0m     \u001b[39mexcept\u001b[39;00m \u001b[39mException\u001b[39;00m \u001b[39mas\u001b[39;00m e:\n",
      "File \u001b[0;32m~/code/github/mjboothaus/titanic/.venv_dev_titanic-streamlit-app/lib/python3.9/site-packages/neuraxle/metaopt/callbacks.py:306\u001b[0m, in \u001b[0;36mMetricCallback.call\u001b[0;34m(self, trial_split, dact_train, dact_valid, is_finished_and_fitted)\u001b[0m\n\u001b[1;32m    304\u001b[0m         valid_score: \u001b[39mfloat\u001b[39m \u001b[39m=\u001b[39m f(dact_valid\u001b[39m.\u001b[39meo, dact_valid\u001b[39m.\u001b[39mdi, trial_split\u001b[39m.\u001b[39mvalidation_context())\n\u001b[1;32m    305\u001b[0m \u001b[39melse\u001b[39;00m:\n\u001b[0;32m--> 306\u001b[0m     train_score: \u001b[39mfloat\u001b[39m \u001b[39m=\u001b[39m f(dact_train\u001b[39m.\u001b[39;49meo, dact_train\u001b[39m.\u001b[39;49mdi)\n\u001b[1;32m    307\u001b[0m     \u001b[39mif\u001b[39;00m dact_valid \u001b[39mis\u001b[39;00m \u001b[39mnot\u001b[39;00m \u001b[39mNone\u001b[39;00m:\n\u001b[1;32m    308\u001b[0m         valid_score: \u001b[39mfloat\u001b[39m \u001b[39m=\u001b[39m f(dact_valid\u001b[39m.\u001b[39meo, dact_valid\u001b[39m.\u001b[39mdi)\n",
      "File \u001b[0;32m~/code/github/mjboothaus/titanic/.venv_dev_titanic-streamlit-app/lib/python3.9/site-packages/sklearn/metrics/_classification.py:211\u001b[0m, in \u001b[0;36maccuracy_score\u001b[0;34m(y_true, y_pred, normalize, sample_weight)\u001b[0m\n\u001b[1;32m    145\u001b[0m \u001b[39m\"\"\"Accuracy classification score.\u001b[39;00m\n\u001b[1;32m    146\u001b[0m \n\u001b[1;32m    147\u001b[0m \u001b[39mIn multilabel classification, this function computes subset accuracy:\u001b[39;00m\n\u001b[0;32m   (...)\u001b[0m\n\u001b[1;32m    207\u001b[0m \u001b[39m0.5\u001b[39;00m\n\u001b[1;32m    208\u001b[0m \u001b[39m\"\"\"\u001b[39;00m\n\u001b[1;32m    210\u001b[0m \u001b[39m# Compute accuracy for each possible representation\u001b[39;00m\n\u001b[0;32m--> 211\u001b[0m y_type, y_true, y_pred \u001b[39m=\u001b[39m _check_targets(y_true, y_pred)\n\u001b[1;32m    212\u001b[0m check_consistent_length(y_true, y_pred, sample_weight)\n\u001b[1;32m    213\u001b[0m \u001b[39mif\u001b[39;00m y_type\u001b[39m.\u001b[39mstartswith(\u001b[39m\"\u001b[39m\u001b[39mmultilabel\u001b[39m\u001b[39m\"\u001b[39m):\n",
      "File \u001b[0;32m~/code/github/mjboothaus/titanic/.venv_dev_titanic-streamlit-app/lib/python3.9/site-packages/sklearn/metrics/_classification.py:93\u001b[0m, in \u001b[0;36m_check_targets\u001b[0;34m(y_true, y_pred)\u001b[0m\n\u001b[1;32m     90\u001b[0m     y_type \u001b[39m=\u001b[39m {\u001b[39m\"\u001b[39m\u001b[39mmulticlass\u001b[39m\u001b[39m\"\u001b[39m}\n\u001b[1;32m     92\u001b[0m \u001b[39mif\u001b[39;00m \u001b[39mlen\u001b[39m(y_type) \u001b[39m>\u001b[39m \u001b[39m1\u001b[39m:\n\u001b[0;32m---> 93\u001b[0m     \u001b[39mraise\u001b[39;00m \u001b[39mValueError\u001b[39;00m(\n\u001b[1;32m     94\u001b[0m         \u001b[39m\"\u001b[39m\u001b[39mClassification metrics can\u001b[39m\u001b[39m'\u001b[39m\u001b[39mt handle a mix of \u001b[39m\u001b[39m{0}\u001b[39;00m\u001b[39m and \u001b[39m\u001b[39m{1}\u001b[39;00m\u001b[39m targets\u001b[39m\u001b[39m\"\u001b[39m\u001b[39m.\u001b[39mformat(\n\u001b[1;32m     95\u001b[0m             type_true, type_pred\n\u001b[1;32m     96\u001b[0m         )\n\u001b[1;32m     97\u001b[0m     )\n\u001b[1;32m     99\u001b[0m \u001b[39m# We can't have more than one value on y_type => The set is no more needed\u001b[39;00m\n\u001b[1;32m    100\u001b[0m y_type \u001b[39m=\u001b[39m y_type\u001b[39m.\u001b[39mpop()\n",
      "\u001b[0;31mValueError\u001b[0m: Classification metrics can't handle a mix of unknown and binary targets"
     ]
    }
   ],
   "source": [
    "main(CX.get_new_cache_folder())"
   ]
  },
  {
   "cell_type": "code",
   "execution_count": null,
   "metadata": {},
   "outputs": [],
   "source": []
  }
 ],
 "metadata": {
  "kernelspec": {
   "display_name": "Python 3.9.12 ('.venv_dev_titanic-streamlit-app': venv)",
   "language": "python",
   "name": "python3"
  },
  "language_info": {
   "codemirror_mode": {
    "name": "ipython",
    "version": 3
   },
   "file_extension": ".py",
   "mimetype": "text/x-python",
   "name": "python",
   "nbconvert_exporter": "python",
   "pygments_lexer": "ipython3",
   "version": "3.9.12"
  },
  "orig_nbformat": 4,
  "vscode": {
   "interpreter": {
    "hash": "3de96be564863eb70bacda9d696b254a7026b525f8ce08839ccf359adbdf151e"
   }
  }
 },
 "nbformat": 4,
 "nbformat_minor": 2
}
