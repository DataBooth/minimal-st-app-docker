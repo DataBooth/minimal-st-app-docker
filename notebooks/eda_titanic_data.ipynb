{
  "cells": [
    {
      "cell_type": "markdown",
      "metadata": {
        "id": "view-in-github",
        "colab_type": "text"
      },
      "source": [
        "<a href=\"https://colab.research.google.com/github/Mjboothaus/titanic/blob/main/notebooks/eda_titanic_data.ipynb\" target=\"_parent\"><img src=\"https://colab.research.google.com/assets/colab-badge.svg\" alt=\"Open In Colab\"/></a>"
      ]
    },
    {
      "cell_type": "markdown",
      "metadata": {
        "collapsed": true,
        "id": "WSjIxHXZIqMO"
      },
      "source": [
        "# Examination of the veracity of the Titanic dataset in Kaggle"
      ]
    },
    {
      "cell_type": "code",
      "execution_count": 24,
      "metadata": {
        "collapsed": true,
        "id": "wORiluG9IqMP"
      },
      "outputs": [],
      "source": [
        "import pandas as pd\n",
        "import numpy as np\n",
        "import matplotlib.pyplot as plt\n",
        "import seaborn as sns\n",
        "import difflib as dl\n",
        "import warnings\n",
        "\n",
        "warnings.filterwarnings(\"ignore\")\n",
        "\n",
        "from pathlib import Path\n",
        "\n",
        "sns.set_style('whitegrid');\n",
        "sns.set();\n",
        "plt.figure(figsize=(18,6));\n",
        "\n",
        "%matplotlib inline"
      ]
    },
    {
      "cell_type": "markdown",
      "metadata": {
        "id": "zqYVpRlsIqMQ"
      },
      "source": [
        "## Import Titanic passenger list data"
      ]
    },
    {
      "cell_type": "markdown",
      "metadata": {
        "id": "1M3t6-pFIqMR"
      },
      "source": [
        "Is it possible to find actual date of birth for each passenger? These data sources only have age (it seems)."
      ]
    },
    {
      "cell_type": "markdown",
      "metadata": {
        "id": "N51RmsRSIqMR"
      },
      "source": [
        "These data sets were downloaded from https://www.kaggle.com/c/titanic/data"
      ]
    },
    {
      "cell_type": "code",
      "execution_count": 21,
      "metadata": {
        "id": "JTg3V1dzIqMR"
      },
      "outputs": [],
      "source": [
        "data_path = \"../data\"\n",
        "\n",
        "data_url = \"https://raw.githubusercontent.com/Mjboothaus/titanic/main/data\"\n"
      ]
    },
    {
      "cell_type": "code",
      "execution_count": 3,
      "metadata": {
        "collapsed": true,
        "id": "1FLz-SNhIqMS"
      },
      "outputs": [],
      "source": [
        "titanic_training_data_kaggle = pd.read_csv(f\"{data_url}/train.csv\")\n",
        "titanic_test_data_kaggle = pd.read_csv(f\"{data_url}/test.csv\")"
      ]
    },
    {
      "cell_type": "code",
      "execution_count": 4,
      "metadata": {
        "id": "Ejqred08IqMS",
        "outputId": "76550bd7-7fcd-4952-a9ba-9dded71d661c",
        "colab": {
          "base_uri": "https://localhost:8080/",
          "height": 300
        }
      },
      "outputs": [
        {
          "output_type": "execute_result",
          "data": {
            "text/plain": [
              "       PassengerId    Survived      Pclass         Age       SibSp  \\\n",
              "count   891.000000  891.000000  891.000000  714.000000  891.000000   \n",
              "mean    446.000000    0.383838    2.308642   29.699118    0.523008   \n",
              "std     257.353842    0.486592    0.836071   14.526497    1.102743   \n",
              "min       1.000000    0.000000    1.000000    0.420000    0.000000   \n",
              "25%     223.500000    0.000000    2.000000   20.125000    0.000000   \n",
              "50%     446.000000    0.000000    3.000000   28.000000    0.000000   \n",
              "75%     668.500000    1.000000    3.000000   38.000000    1.000000   \n",
              "max     891.000000    1.000000    3.000000   80.000000    8.000000   \n",
              "\n",
              "            Parch        Fare  \n",
              "count  891.000000  891.000000  \n",
              "mean     0.381594   32.204208  \n",
              "std      0.806057   49.693429  \n",
              "min      0.000000    0.000000  \n",
              "25%      0.000000    7.910400  \n",
              "50%      0.000000   14.454200  \n",
              "75%      0.000000   31.000000  \n",
              "max      6.000000  512.329200  "
            ],
            "text/html": [
              "\n",
              "  <div id=\"df-a27ef8b9-8724-44c7-b9b9-7b5e084f484e\">\n",
              "    <div class=\"colab-df-container\">\n",
              "      <div>\n",
              "<style scoped>\n",
              "    .dataframe tbody tr th:only-of-type {\n",
              "        vertical-align: middle;\n",
              "    }\n",
              "\n",
              "    .dataframe tbody tr th {\n",
              "        vertical-align: top;\n",
              "    }\n",
              "\n",
              "    .dataframe thead th {\n",
              "        text-align: right;\n",
              "    }\n",
              "</style>\n",
              "<table border=\"1\" class=\"dataframe\">\n",
              "  <thead>\n",
              "    <tr style=\"text-align: right;\">\n",
              "      <th></th>\n",
              "      <th>PassengerId</th>\n",
              "      <th>Survived</th>\n",
              "      <th>Pclass</th>\n",
              "      <th>Age</th>\n",
              "      <th>SibSp</th>\n",
              "      <th>Parch</th>\n",
              "      <th>Fare</th>\n",
              "    </tr>\n",
              "  </thead>\n",
              "  <tbody>\n",
              "    <tr>\n",
              "      <th>count</th>\n",
              "      <td>891.000000</td>\n",
              "      <td>891.000000</td>\n",
              "      <td>891.000000</td>\n",
              "      <td>714.000000</td>\n",
              "      <td>891.000000</td>\n",
              "      <td>891.000000</td>\n",
              "      <td>891.000000</td>\n",
              "    </tr>\n",
              "    <tr>\n",
              "      <th>mean</th>\n",
              "      <td>446.000000</td>\n",
              "      <td>0.383838</td>\n",
              "      <td>2.308642</td>\n",
              "      <td>29.699118</td>\n",
              "      <td>0.523008</td>\n",
              "      <td>0.381594</td>\n",
              "      <td>32.204208</td>\n",
              "    </tr>\n",
              "    <tr>\n",
              "      <th>std</th>\n",
              "      <td>257.353842</td>\n",
              "      <td>0.486592</td>\n",
              "      <td>0.836071</td>\n",
              "      <td>14.526497</td>\n",
              "      <td>1.102743</td>\n",
              "      <td>0.806057</td>\n",
              "      <td>49.693429</td>\n",
              "    </tr>\n",
              "    <tr>\n",
              "      <th>min</th>\n",
              "      <td>1.000000</td>\n",
              "      <td>0.000000</td>\n",
              "      <td>1.000000</td>\n",
              "      <td>0.420000</td>\n",
              "      <td>0.000000</td>\n",
              "      <td>0.000000</td>\n",
              "      <td>0.000000</td>\n",
              "    </tr>\n",
              "    <tr>\n",
              "      <th>25%</th>\n",
              "      <td>223.500000</td>\n",
              "      <td>0.000000</td>\n",
              "      <td>2.000000</td>\n",
              "      <td>20.125000</td>\n",
              "      <td>0.000000</td>\n",
              "      <td>0.000000</td>\n",
              "      <td>7.910400</td>\n",
              "    </tr>\n",
              "    <tr>\n",
              "      <th>50%</th>\n",
              "      <td>446.000000</td>\n",
              "      <td>0.000000</td>\n",
              "      <td>3.000000</td>\n",
              "      <td>28.000000</td>\n",
              "      <td>0.000000</td>\n",
              "      <td>0.000000</td>\n",
              "      <td>14.454200</td>\n",
              "    </tr>\n",
              "    <tr>\n",
              "      <th>75%</th>\n",
              "      <td>668.500000</td>\n",
              "      <td>1.000000</td>\n",
              "      <td>3.000000</td>\n",
              "      <td>38.000000</td>\n",
              "      <td>1.000000</td>\n",
              "      <td>0.000000</td>\n",
              "      <td>31.000000</td>\n",
              "    </tr>\n",
              "    <tr>\n",
              "      <th>max</th>\n",
              "      <td>891.000000</td>\n",
              "      <td>1.000000</td>\n",
              "      <td>3.000000</td>\n",
              "      <td>80.000000</td>\n",
              "      <td>8.000000</td>\n",
              "      <td>6.000000</td>\n",
              "      <td>512.329200</td>\n",
              "    </tr>\n",
              "  </tbody>\n",
              "</table>\n",
              "</div>\n",
              "      <button class=\"colab-df-convert\" onclick=\"convertToInteractive('df-a27ef8b9-8724-44c7-b9b9-7b5e084f484e')\"\n",
              "              title=\"Convert this dataframe to an interactive table.\"\n",
              "              style=\"display:none;\">\n",
              "        \n",
              "  <svg xmlns=\"http://www.w3.org/2000/svg\" height=\"24px\"viewBox=\"0 0 24 24\"\n",
              "       width=\"24px\">\n",
              "    <path d=\"M0 0h24v24H0V0z\" fill=\"none\"/>\n",
              "    <path d=\"M18.56 5.44l.94 2.06.94-2.06 2.06-.94-2.06-.94-.94-2.06-.94 2.06-2.06.94zm-11 1L8.5 8.5l.94-2.06 2.06-.94-2.06-.94L8.5 2.5l-.94 2.06-2.06.94zm10 10l.94 2.06.94-2.06 2.06-.94-2.06-.94-.94-2.06-.94 2.06-2.06.94z\"/><path d=\"M17.41 7.96l-1.37-1.37c-.4-.4-.92-.59-1.43-.59-.52 0-1.04.2-1.43.59L10.3 9.45l-7.72 7.72c-.78.78-.78 2.05 0 2.83L4 21.41c.39.39.9.59 1.41.59.51 0 1.02-.2 1.41-.59l7.78-7.78 2.81-2.81c.8-.78.8-2.07 0-2.86zM5.41 20L4 18.59l7.72-7.72 1.47 1.35L5.41 20z\"/>\n",
              "  </svg>\n",
              "      </button>\n",
              "      \n",
              "  <style>\n",
              "    .colab-df-container {\n",
              "      display:flex;\n",
              "      flex-wrap:wrap;\n",
              "      gap: 12px;\n",
              "    }\n",
              "\n",
              "    .colab-df-convert {\n",
              "      background-color: #E8F0FE;\n",
              "      border: none;\n",
              "      border-radius: 50%;\n",
              "      cursor: pointer;\n",
              "      display: none;\n",
              "      fill: #1967D2;\n",
              "      height: 32px;\n",
              "      padding: 0 0 0 0;\n",
              "      width: 32px;\n",
              "    }\n",
              "\n",
              "    .colab-df-convert:hover {\n",
              "      background-color: #E2EBFA;\n",
              "      box-shadow: 0px 1px 2px rgba(60, 64, 67, 0.3), 0px 1px 3px 1px rgba(60, 64, 67, 0.15);\n",
              "      fill: #174EA6;\n",
              "    }\n",
              "\n",
              "    [theme=dark] .colab-df-convert {\n",
              "      background-color: #3B4455;\n",
              "      fill: #D2E3FC;\n",
              "    }\n",
              "\n",
              "    [theme=dark] .colab-df-convert:hover {\n",
              "      background-color: #434B5C;\n",
              "      box-shadow: 0px 1px 3px 1px rgba(0, 0, 0, 0.15);\n",
              "      filter: drop-shadow(0px 1px 2px rgba(0, 0, 0, 0.3));\n",
              "      fill: #FFFFFF;\n",
              "    }\n",
              "  </style>\n",
              "\n",
              "      <script>\n",
              "        const buttonEl =\n",
              "          document.querySelector('#df-a27ef8b9-8724-44c7-b9b9-7b5e084f484e button.colab-df-convert');\n",
              "        buttonEl.style.display =\n",
              "          google.colab.kernel.accessAllowed ? 'block' : 'none';\n",
              "\n",
              "        async function convertToInteractive(key) {\n",
              "          const element = document.querySelector('#df-a27ef8b9-8724-44c7-b9b9-7b5e084f484e');\n",
              "          const dataTable =\n",
              "            await google.colab.kernel.invokeFunction('convertToInteractive',\n",
              "                                                     [key], {});\n",
              "          if (!dataTable) return;\n",
              "\n",
              "          const docLinkHtml = 'Like what you see? Visit the ' +\n",
              "            '<a target=\"_blank\" href=https://colab.research.google.com/notebooks/data_table.ipynb>data table notebook</a>'\n",
              "            + ' to learn more about interactive tables.';\n",
              "          element.innerHTML = '';\n",
              "          dataTable['output_type'] = 'display_data';\n",
              "          await google.colab.output.renderOutput(dataTable, element);\n",
              "          const docLink = document.createElement('div');\n",
              "          docLink.innerHTML = docLinkHtml;\n",
              "          element.appendChild(docLink);\n",
              "        }\n",
              "      </script>\n",
              "    </div>\n",
              "  </div>\n",
              "  "
            ]
          },
          "metadata": {},
          "execution_count": 4
        }
      ],
      "source": [
        "titanic_training_data_kaggle.describe()"
      ]
    },
    {
      "cell_type": "code",
      "execution_count": 5,
      "metadata": {
        "id": "AvCfUts0IqMT",
        "outputId": "9f7ed7b2-c632-43b5-ab12-4def1bc11635",
        "colab": {
          "base_uri": "https://localhost:8080/",
          "height": 286
        }
      },
      "outputs": [
        {
          "output_type": "display_data",
          "data": {
            "text/plain": [
              "<Figure size 432x288 with 1 Axes>"
            ],
            "image/png": "[encoded data removed]"
          },
          "metadata": {
            "needs_background": "light"
          }
        }
      ],
      "source": [
        "ax = sns.distplot(titanic_training_data_kaggle['Age'].dropna(), bins=30)\n",
        "ax.set_xlim(0,80);\n"
      ]
    },
    {
      "cell_type": "code",
      "execution_count": 6,
      "metadata": {
        "collapsed": true,
        "id": "H2bvUesoIqMT"
      },
      "outputs": [],
      "source": [
        "titanic_training_data_kaggle['Name'] = titanic_training_data_kaggle['Name'].apply(lambda x : x.replace(u'\\xa0', ' '))"
      ]
    },
    {
      "cell_type": "code",
      "execution_count": 7,
      "metadata": {
        "collapsed": true,
        "id": "IYv3XsS7IqMU"
      },
      "outputs": [],
      "source": [
        "def extract_names(nameString, return_type):\n",
        "    \n",
        "    firstname = 'XXX NO FIRSTNAME XXX'\n",
        "    othernames = ''\n",
        "    \n",
        "    tmp = nameString.split()\n",
        "    if tmp[0][-1] == ',':\n",
        "        surname = tmp[0][0:len(tmp[0])-1]\n",
        "        title = tmp[1][0:len(tmp[1])-1]\n",
        "        mynames = tmp[2:len(tmp)]\n",
        "    else:\n",
        "        surname = tmp[0] + ' ' + tmp[1][0:len(tmp[0])-1]\n",
        "        title = tmp[2][0:len(tmp[2])-1]\n",
        "        mynames = tmp[3:len(tmp)]\n",
        "\n",
        "    firstname = mynames[0]\n",
        "    othernames = ''\n",
        "    for name in mynames[1:len(mynames)-1]:\n",
        "        othernames = othernames + name + ' '\n",
        "    othernames = othernames.rstrip()       \n",
        "        \n",
        "    try:\n",
        "        if mynames[len(mynames)-1][-1] == ')':          # extract female/wife name\n",
        "            othernames = ''\n",
        "            for name in mynames:\n",
        "                othernames = othernames + name + ' '\n",
        "                if name[0] == '(':\n",
        "                    othernames = ''\n",
        "                    firstname = name[1:len(name)]\n",
        "            othernames = othernames.rstrip()\n",
        "            othernames = othernames[0:len(othernames)-1]             \n",
        "    except:\n",
        "        pass\n",
        "    \n",
        "    if return_type == 1:\n",
        "        return title\n",
        "    elif return_type == 2:\n",
        "        return surname\n",
        "    elif return_type == 3:\n",
        "        return firstname\n",
        "    else:\n",
        "        return othernames"
      ]
    },
    {
      "cell_type": "code",
      "execution_count": 8,
      "metadata": {
        "id": "rgzzzHKRIqMU",
        "outputId": "a4e0cb98-17fe-48cd-ac62-0029a997c3fa",
        "colab": {
          "base_uri": "https://localhost:8080/"
        }
      },
      "outputs": [
        {
          "output_type": "stream",
          "name": "stdout",
          "text": [
            "<class 'pandas.core.frame.DataFrame'>\n",
            "RangeIndex: 891 entries, 0 to 890\n",
            "Data columns (total 12 columns):\n",
            " #   Column       Non-Null Count  Dtype  \n",
            "---  ------       --------------  -----  \n",
            " 0   PassengerId  891 non-null    int64  \n",
            " 1   Survived     891 non-null    int64  \n",
            " 2   Pclass       891 non-null    int64  \n",
            " 3   Name         891 non-null    object \n",
            " 4   Sex          891 non-null    object \n",
            " 5   Age          714 non-null    float64\n",
            " 6   SibSp        891 non-null    int64  \n",
            " 7   Parch        891 non-null    int64  \n",
            " 8   Ticket       891 non-null    object \n",
            " 9   Fare         891 non-null    float64\n",
            " 10  Cabin        204 non-null    object \n",
            " 11  Embarked     889 non-null    object \n",
            "dtypes: float64(2), int64(5), object(5)\n",
            "memory usage: 83.7+ KB\n"
          ]
        }
      ],
      "source": [
        "titanic_training_data_kaggle.info()"
      ]
    },
    {
      "cell_type": "code",
      "execution_count": 9,
      "metadata": {
        "scrolled": false,
        "id": "pIqVdUfpIqMV",
        "outputId": "fd4a6e83-af16-40cf-bdc8-08cc29423742",
        "colab": {
          "base_uri": "https://localhost:8080/"
        }
      },
      "outputs": [
        {
          "output_type": "stream",
          "name": "stdout",
          "text": [
            "<class 'pandas.core.frame.DataFrame'>\n",
            "RangeIndex: 418 entries, 0 to 417\n",
            "Data columns (total 11 columns):\n",
            " #   Column       Non-Null Count  Dtype  \n",
            "---  ------       --------------  -----  \n",
            " 0   PassengerId  418 non-null    int64  \n",
            " 1   Pclass       418 non-null    int64  \n",
            " 2   Name         418 non-null    object \n",
            " 3   Sex          418 non-null    object \n",
            " 4   Age          332 non-null    float64\n",
            " 5   SibSp        418 non-null    int64  \n",
            " 6   Parch        418 non-null    int64  \n",
            " 7   Ticket       418 non-null    object \n",
            " 8   Fare         417 non-null    float64\n",
            " 9   Cabin        91 non-null     object \n",
            " 10  Embarked     418 non-null    object \n",
            "dtypes: float64(2), int64(4), object(5)\n",
            "memory usage: 36.0+ KB\n"
          ]
        }
      ],
      "source": [
        "titanic_test_data_kaggle.info()"
      ]
    },
    {
      "cell_type": "markdown",
      "metadata": {
        "id": "PBQX8FBcIqMV"
      },
      "source": [
        "Merge the Kaggle train and test datasets into one (for comparison to other Titanic data sets/sources)"
      ]
    },
    {
      "cell_type": "code",
      "execution_count": 10,
      "metadata": {
        "collapsed": true,
        "id": "UyCKTJNAIqMV"
      },
      "outputs": [],
      "source": [
        "titanic_data_kaggle = pd.merge(titanic_training_data_kaggle, titanic_test_data_kaggle, how='outer')"
      ]
    },
    {
      "cell_type": "code",
      "execution_count": 11,
      "metadata": {
        "scrolled": true,
        "id": "Wu_mMRxFIqMV",
        "outputId": "2a3ea2a5-c149-4cec-ec39-f67cb33b57b2",
        "colab": {
          "base_uri": "https://localhost:8080/"
        }
      },
      "outputs": [
        {
          "output_type": "stream",
          "name": "stdout",
          "text": [
            "<class 'pandas.core.frame.DataFrame'>\n",
            "Int64Index: 1309 entries, 0 to 1308\n",
            "Data columns (total 12 columns):\n",
            " #   Column       Non-Null Count  Dtype  \n",
            "---  ------       --------------  -----  \n",
            " 0   PassengerId  1309 non-null   int64  \n",
            " 1   Survived     891 non-null    float64\n",
            " 2   Pclass       1309 non-null   int64  \n",
            " 3   Name         1309 non-null   object \n",
            " 4   Sex          1309 non-null   object \n",
            " 5   Age          1046 non-null   float64\n",
            " 6   SibSp        1309 non-null   int64  \n",
            " 7   Parch        1309 non-null   int64  \n",
            " 8   Ticket       1309 non-null   object \n",
            " 9   Fare         1308 non-null   float64\n",
            " 10  Cabin        295 non-null    object \n",
            " 11  Embarked     1307 non-null   object \n",
            "dtypes: float64(3), int64(4), object(5)\n",
            "memory usage: 132.9+ KB\n"
          ]
        }
      ],
      "source": [
        "titanic_data_kaggle.info()"
      ]
    },
    {
      "cell_type": "markdown",
      "metadata": {
        "id": "9zhGq_bkIqMV"
      },
      "source": [
        "So in the combined dataset of 1309 (= 891 train + 418 test) passengers, there are 1046 non-null age values.\n",
        "\n",
        "Let's extract the components of the 'Name' field into title, surname, first name and other names."
      ]
    },
    {
      "cell_type": "code",
      "execution_count": 12,
      "metadata": {
        "collapsed": true,
        "id": "sHETDYTuIqMW"
      },
      "outputs": [],
      "source": [
        "titanic_data_kaggle['Title'] = titanic_data_kaggle['Name'].apply(lambda x : extract_names(x, 1))\n",
        "titanic_data_kaggle['Surname'] = titanic_data_kaggle['Name'].apply(lambda x : extract_names(x, 2))\n",
        "titanic_data_kaggle['Firstname'] = titanic_data_kaggle['Name'].apply(lambda x : extract_names(x, 3))\n",
        "titanic_data_kaggle['Othernames'] = titanic_data_kaggle['Name'].apply(lambda x : extract_names(x, 4))"
      ]
    },
    {
      "cell_type": "code",
      "execution_count": 13,
      "metadata": {
        "collapsed": true,
        "id": "F1kvoR_-IqMW"
      },
      "outputs": [],
      "source": [
        "titanic_data_kaggle_sort_age = titanic_data_kaggle.sort_values(by=['Age', 'Name'])\n",
        "titanic_data_kaggle_sort_age.reset_index(inplace=True)"
      ]
    },
    {
      "cell_type": "markdown",
      "metadata": {
        "id": "FbWfA79AIqMW"
      },
      "source": [
        "Now put the other dataset(s) age data on this plot too."
      ]
    },
    {
      "cell_type": "code",
      "execution_count": 14,
      "metadata": {
        "collapsed": true,
        "id": "B1tfGzJyIqMX"
      },
      "outputs": [],
      "source": [
        "titanic_data_wikipedia = pd.read_html('https://en.m.wikipedia.org/wiki/Passengers_of_the_RMS_Titanic',header=0)"
      ]
    },
    {
      "cell_type": "code",
      "execution_count": 15,
      "metadata": {
        "collapsed": true,
        "id": "FBMKWmeJIqMX"
      },
      "outputs": [],
      "source": [
        "titanic_facts_tables = pd.read_html('http://www.titanicfacts.net/titanic-passenger-list.html',header=0)"
      ]
    },
    {
      "cell_type": "code",
      "execution_count": 16,
      "metadata": {
        "id": "VxlAaJWwIqMX",
        "outputId": "96222e71-0ddc-44d4-f624-c6f71a840231",
        "colab": {
          "base_uri": "https://localhost:8080/"
        }
      },
      "outputs": [
        {
          "output_type": "stream",
          "name": "stdout",
          "text": [
            "<class 'pandas.core.frame.DataFrame'>\n",
            "RangeIndex: 324 entries, 0 to 323\n",
            "Data columns (total 5 columns):\n",
            " #   Column                      Non-Null Count  Dtype \n",
            "---  ------                      --------------  ----- \n",
            " 0   Surname                     324 non-null    object\n",
            " 1   First Names                 324 non-null    object\n",
            " 2   Age                         324 non-null    object\n",
            " 3   Boarded                     324 non-null    object\n",
            " 4   Survivor (S) or Victim (†)  324 non-null    object\n",
            "dtypes: object(5)\n",
            "memory usage: 12.8+ KB\n"
          ]
        }
      ],
      "source": [
        "titanic_facts_tables[0].info()"
      ]
    },
    {
      "cell_type": "code",
      "execution_count": 17,
      "metadata": {
        "id": "yymFvfQZIqMX",
        "outputId": "f833733d-b28d-4cd9-bde2-11d9661f190e",
        "colab": {
          "base_uri": "https://localhost:8080/"
        }
      },
      "outputs": [
        {
          "output_type": "stream",
          "name": "stdout",
          "text": [
            "<class 'pandas.core.frame.DataFrame'>\n",
            "RangeIndex: 284 entries, 0 to 283\n",
            "Data columns (total 5 columns):\n",
            " #   Column                      Non-Null Count  Dtype \n",
            "---  ------                      --------------  ----- \n",
            " 0   Surname                     284 non-null    object\n",
            " 1   First Names                 284 non-null    object\n",
            " 2   Age                         284 non-null    object\n",
            " 3   Boarded                     284 non-null    object\n",
            " 4   Survivor (S) or Victim (†)  284 non-null    object\n",
            "dtypes: object(5)\n",
            "memory usage: 11.2+ KB\n"
          ]
        }
      ],
      "source": [
        "titanic_facts_tables[1].info()"
      ]
    },
    {
      "cell_type": "code",
      "execution_count": 18,
      "metadata": {
        "id": "dLdMa2TAIqMX",
        "outputId": "52bcd582-574d-416c-be13-55ec74fd9114",
        "colab": {
          "base_uri": "https://localhost:8080/"
        }
      },
      "outputs": [
        {
          "output_type": "stream",
          "name": "stdout",
          "text": [
            "<class 'pandas.core.frame.DataFrame'>\n",
            "RangeIndex: 709 entries, 0 to 708\n",
            "Data columns (total 5 columns):\n",
            " #   Column                      Non-Null Count  Dtype \n",
            "---  ------                      --------------  ----- \n",
            " 0   Surname                     709 non-null    object\n",
            " 1   First Names                 709 non-null    object\n",
            " 2   Age                         709 non-null    object\n",
            " 3   Boarded                     709 non-null    object\n",
            " 4   Survivor (S) or Victim (†)  709 non-null    object\n",
            "dtypes: object(5)\n",
            "memory usage: 27.8+ KB\n"
          ]
        }
      ],
      "source": [
        "titanic_facts_tables[2].info()"
      ]
    },
    {
      "cell_type": "markdown",
      "metadata": {
        "id": "cLtVqTsdIqMY"
      },
      "source": [
        "So the \"Titanic Facts\" has the data spread across 3 tables with 324 (1st class), 284 (2nd class) and 709 (3rd class) passengers (1317 total) respectively. There is age data for all 1317 passengers. Contrast this with 1309 passengers in the Kaggle dataset [which does not claim to be complete -- in fact, somewhat disappointingly, there does not appear to be a reference for the data] with only 1046 age values."
      ]
    },
    {
      "cell_type": "code",
      "execution_count": 19,
      "metadata": {
        "collapsed": true,
        "id": "pU5-cwGYIqMY"
      },
      "outputs": [],
      "source": [
        "titanic_facts = pd.merge(pd.merge(titanic_facts_tables[0], titanic_facts_tables[1], how='outer'), titanic_facts_tables[2], how='outer')"
      ]
    },
    {
      "cell_type": "code",
      "source": [
        "def export_df_to_csv_file_if_path_exists(df, file_path):\n",
        "  if Path(file_path).exists():\n",
        "    df.to_csv(file_path)\n",
        "    print(f\"File exported to {file_path}\")\n",
        "  else:\n",
        "    print(f\"Unable to export to {file_path}\")"
      ],
      "metadata": {
        "id": "nh6ztIbyKLwd"
      },
      "execution_count": 43,
      "outputs": []
    },
    {
      "cell_type": "code",
      "execution_count": 44,
      "metadata": {
        "collapsed": true,
        "id": "PXjfa0WdIqMY",
        "outputId": "743535d7-a4ed-4845-851b-d3c218aeb545",
        "colab": {
          "base_uri": "https://localhost:8080/"
        }
      },
      "outputs": [
        {
          "output_type": "stream",
          "name": "stdout",
          "text": [
            "Unable to export to ../data/titanic_facts.csv\n"
          ]
        }
      ],
      "source": [
        "export_df_to_csv_file_if_path_exists(titanic_facts, f\"{data_path}/titanic_facts.csv\")"
      ]
    },
    {
      "cell_type": "code",
      "execution_count": 26,
      "metadata": {
        "id": "e3Yah7LKIqMY",
        "outputId": "61c35d0d-4534-477b-83e2-e48e6bb6c6d0",
        "colab": {
          "base_uri": "https://localhost:8080/"
        }
      },
      "outputs": [
        {
          "output_type": "stream",
          "name": "stdout",
          "text": [
            "<class 'pandas.core.frame.DataFrame'>\n",
            "Int64Index: 1317 entries, 0 to 1316\n",
            "Data columns (total 5 columns):\n",
            " #   Column                      Non-Null Count  Dtype \n",
            "---  ------                      --------------  ----- \n",
            " 0   Surname                     1317 non-null   object\n",
            " 1   First Names                 1317 non-null   object\n",
            " 2   Age                         1317 non-null   object\n",
            " 3   Boarded                     1317 non-null   object\n",
            " 4   Survivor (S) or Victim (†)  1317 non-null   object\n",
            "dtypes: object(5)\n",
            "memory usage: 61.7+ KB\n"
          ]
        }
      ],
      "source": [
        "titanic_facts.info()"
      ]
    },
    {
      "cell_type": "code",
      "execution_count": 27,
      "metadata": {
        "collapsed": true,
        "id": "zrae-m6OIqMY"
      },
      "outputs": [],
      "source": [
        "# Also could go heavy-handed with:\n",
        "# pd.to_numeric(df['y'], errors='coerce')\n",
        "\n",
        "def convert_age(age):\n",
        "    try:\n",
        "        return float(age)\n",
        "    except Exception:\n",
        "        try:\n",
        "            return float(age[:-1]) / 12.0\n",
        "        except Exception:\n",
        "            return np.nan"
      ]
    },
    {
      "cell_type": "code",
      "execution_count": 28,
      "metadata": {
        "collapsed": true,
        "id": "Nu3EJDaGIqMZ"
      },
      "outputs": [],
      "source": [
        "titanic_facts['Age'] = titanic_facts['Age'].apply(lambda age : convert_age(age))"
      ]
    },
    {
      "cell_type": "markdown",
      "metadata": {
        "id": "YN1pmWYfIqMZ"
      },
      "source": [
        "Need to convert age from string to float"
      ]
    },
    {
      "cell_type": "code",
      "execution_count": 29,
      "metadata": {
        "collapsed": true,
        "id": "GF7rnjd_IqMZ"
      },
      "outputs": [],
      "source": [
        "titanic_facts_sort_age = titanic_facts.sort_values(by=['Age', 'Surname'])\n",
        "titanic_facts_sort_age.reset_index(inplace=True)"
      ]
    },
    {
      "cell_type": "code",
      "execution_count": 30,
      "metadata": {
        "id": "m27x_JygIqMZ",
        "outputId": "d2411a4c-59fe-4032-f0c7-be3cd3822a1f",
        "colab": {
          "base_uri": "https://localhost:8080/",
          "height": 303
        }
      },
      "outputs": [
        {
          "output_type": "execute_result",
          "data": {
            "text/plain": [
              "<matplotlib.axes._subplots.AxesSubplot at 0x7ffba4c945d0>"
            ]
          },
          "metadata": {},
          "execution_count": 30
        },
        {
          "output_type": "display_data",
          "data": {
            "text/plain": [
              "<Figure size 432x288 with 1 Axes>"
            ],
            "image/png": "[encoded data removed]"
          },
          "metadata": {
            "needs_background": "light"
          }
        }
      ],
      "source": [
        "sns.lineplot(x=titanic_facts_sort_age['Age'], y=titanic_data_kaggle_sort_age['Age'])"
      ]
    },
    {
      "cell_type": "code",
      "execution_count": 31,
      "metadata": {
        "scrolled": true,
        "id": "PD3FB7rUIqMZ"
      },
      "outputs": [],
      "source": [
        "# DEPRECATED\n",
        "\n",
        "# sns.plt.plot(titanic_facts_sort_age['Age'])\n",
        "# sns.plt.plot(titanic_data_kaggle_sort_age['Age'], 'g')"
      ]
    },
    {
      "cell_type": "code",
      "execution_count": 32,
      "metadata": {
        "id": "6Jzd_mWzIqMZ",
        "outputId": "8d441306-870e-4d84-fd66-fc107e62e291",
        "colab": {
          "base_uri": "https://localhost:8080/"
        }
      },
      "outputs": [
        {
          "output_type": "stream",
          "name": "stdout",
          "text": [
            "<class 'pandas.core.frame.DataFrame'>\n",
            "RangeIndex: 1317 entries, 0 to 1316\n",
            "Data columns (total 6 columns):\n",
            " #   Column                      Non-Null Count  Dtype  \n",
            "---  ------                      --------------  -----  \n",
            " 0   index                       1317 non-null   int64  \n",
            " 1   Surname                     1317 non-null   object \n",
            " 2   First Names                 1317 non-null   object \n",
            " 3   Age                         1315 non-null   float64\n",
            " 4   Boarded                     1317 non-null   object \n",
            " 5   Survivor (S) or Victim (†)  1317 non-null   object \n",
            "dtypes: float64(1), int64(1), object(4)\n",
            "memory usage: 61.9+ KB\n",
            "\n",
            "<class 'pandas.core.frame.DataFrame'>\n",
            "RangeIndex: 1309 entries, 0 to 1308\n",
            "Data columns (total 17 columns):\n",
            " #   Column       Non-Null Count  Dtype  \n",
            "---  ------       --------------  -----  \n",
            " 0   index        1309 non-null   int64  \n",
            " 1   PassengerId  1309 non-null   int64  \n",
            " 2   Survived     891 non-null    float64\n",
            " 3   Pclass       1309 non-null   int64  \n",
            " 4   Name         1309 non-null   object \n",
            " 5   Sex          1309 non-null   object \n",
            " 6   Age          1046 non-null   float64\n",
            " 7   SibSp        1309 non-null   int64  \n",
            " 8   Parch        1309 non-null   int64  \n",
            " 9   Ticket       1309 non-null   object \n",
            " 10  Fare         1308 non-null   float64\n",
            " 11  Cabin        295 non-null    object \n",
            " 12  Embarked     1307 non-null   object \n",
            " 13  Title        1309 non-null   object \n",
            " 14  Surname      1309 non-null   object \n",
            " 15  Firstname    1309 non-null   object \n",
            " 16  Othernames   1309 non-null   object \n",
            "dtypes: float64(3), int64(5), object(9)\n",
            "memory usage: 174.0+ KB\n"
          ]
        }
      ],
      "source": [
        "titanic_facts_sort_age.info()\n",
        "print()\n",
        "titanic_data_kaggle_sort_age.info()"
      ]
    },
    {
      "cell_type": "code",
      "execution_count": 33,
      "metadata": {
        "collapsed": true,
        "id": "I-ANw2caIqMa"
      },
      "outputs": [],
      "source": [
        "titanic_facts_sort_age['Name'] = titanic_facts_sort_age['Surname'] + titanic_facts_sort_age['First Names']"
      ]
    },
    {
      "cell_type": "markdown",
      "metadata": {
        "id": "4ejvOs9qIqMa"
      },
      "source": [
        "Test the operation of the get_close_matches( ) method to see if we can merge the datasets based on the name fields."
      ]
    },
    {
      "cell_type": "code",
      "execution_count": 34,
      "metadata": {
        "id": "cBxxo9A-IqMa",
        "outputId": "4150f2fc-9f14-40cf-f682-3b8552454938",
        "colab": {
          "base_uri": "https://localhost:8080/"
        }
      },
      "outputs": [
        {
          "output_type": "stream",
          "name": "stdout",
          "text": [
            "1: DeanMiss Elizabeth Gladys “Millvina” / Dean, Miss. Elizabeth Gladys Millvina\"\"\n",
            "1: DanbomMaster Gilbert Sigvard Emanuel / Danbom, Master. Gilbert Sigvard Emanuel\n",
            "No match / Thomas, Master. Assad Alexander\n",
            "1: HämäläinenMaster Viljo Unto Johannes / Hamalainen, Master. Viljo\n",
            "2: BacliniMiss Eugenie / Baclini, Miss. Eugenie\n"
          ]
        }
      ],
      "source": [
        "for i in range(5):\n",
        "    tmp = dl.get_close_matches(titanic_data_kaggle_sort_age['Name'].iloc[i], titanic_facts_sort_age['Name'])\n",
        "    try:\n",
        "        print(f'{len(tmp)}: {tmp[0]} / ' + titanic_data_kaggle_sort_age['Name'].iloc[i])\n",
        "    except Exception:\n",
        "        print('No match' + ' / ' + titanic_data_kaggle_sort_age['Name'].iloc[i])\n",
        "              "
      ]
    },
    {
      "cell_type": "code",
      "execution_count": 35,
      "metadata": {
        "collapsed": true,
        "id": "BtowwIqvIqMa"
      },
      "outputs": [],
      "source": [
        "def match_name(name):\n",
        "    try:\n",
        "        return dl.get_close_matches(name, titanic_facts_sort_age['Name'])[0]\n",
        "    except Exception:\n",
        "        return 'No name match'\n",
        "\n",
        "titanic_data_kaggle_sort_age['Name'] = titanic_data_kaggle_sort_age['Name'].apply(lambda name: match_name(name))"
      ]
    },
    {
      "cell_type": "code",
      "execution_count": 36,
      "metadata": {
        "id": "YWM7Ga-2IqMa",
        "outputId": "485a1d10-60bf-466d-fd47-cdefd7035325",
        "colab": {
          "base_uri": "https://localhost:8080/",
          "height": 731
        }
      },
      "outputs": [
        {
          "output_type": "execute_result",
          "data": {
            "text/plain": [
              "      index  PassengerId  Survived  Pclass  \\\n",
              "0      1245         1246       NaN       3   \n",
              "1      1092         1093       NaN       3   \n",
              "3       755          756       1.0       2   \n",
              "4       644          645       1.0       3   \n",
              "5       469          470       1.0       3   \n",
              "...     ...          ...       ...     ...   \n",
              "1303     55           56       1.0       1   \n",
              "1305    495          496       0.0       3   \n",
              "1306    240          241       0.0       3   \n",
              "1307   1235         1236       NaN       3   \n",
              "1308    868          869       0.0       3   \n",
              "\n",
              "                                      Name     Sex   Age  SibSp  Parch  \\\n",
              "0     DeanMiss Elizabeth Gladys “Millvina”  female  0.17      1      2   \n",
              "1     DanbomMaster Gilbert Sigvard Emanuel    male  0.33      0      2   \n",
              "3     HämäläinenMaster Viljo Unto Johannes    male  0.67      1      1   \n",
              "4                      BacliniMiss Eugenie  female  0.75      2      1   \n",
              "5               BacliniMiss Helene Barbara  female  0.75      2      1   \n",
              "...                                    ...     ...   ...    ...    ...   \n",
              "1303                        WoolnerMr Hugh    male   NaN      0      0   \n",
              "1305          Yousseff (Abi Saab)Mr Gerios    male   NaN      0      0   \n",
              "1306           Jabbur (Zabour)Miss Thamine  female   NaN      1      0   \n",
              "1307      Van BilliardMaster James William    male   NaN      1      1   \n",
              "1308             Van MelckebekeMr Philemon    male   NaN      0      0   \n",
              "\n",
              "         Ticket     Fare Cabin Embarked   Title     Surname  Firstname  \\\n",
              "0     C.A. 2315  20.5750   NaN        S    Miss        Dean  Elizabeth   \n",
              "1        347080  14.4000   NaN        S  Master      Danbom    Gilbert   \n",
              "3        250649  14.5000   NaN        S  Master  Hamalainen      Viljo   \n",
              "4          2666  19.2583   NaN        C    Miss     Baclini    Eugenie   \n",
              "5          2666  19.2583   NaN        C    Miss     Baclini     Helene   \n",
              "...         ...      ...   ...      ...     ...         ...        ...   \n",
              "1303      19947  35.5000   C52        S      Mr     Woolner       Hugh   \n",
              "1305       2627  14.4583   NaN        C      Mr    Yousseff    Gerious   \n",
              "1306       2665  14.4542   NaN        C    Miss      Zabour    Thamine   \n",
              "1307   A/5. 851  14.5000   NaN        S  Master      van Bi      James   \n",
              "1308     345777   9.5000   NaN        S      Mr      van Me   Philemon   \n",
              "\n",
              "     Othernames  \n",
              "0        Gladys  \n",
              "1       Sigvard  \n",
              "3                \n",
              "4                \n",
              "5                \n",
              "...         ...  \n",
              "1303             \n",
              "1305             \n",
              "1306             \n",
              "1307             \n",
              "1308             \n",
              "\n",
              "[1216 rows x 17 columns]"
            ],
            "text/html": [
              "\n",
              "  <div id=\"df-32fe85e4-276e-43ee-936f-fa3505dc58b6\">\n",
              "    <div class=\"colab-df-container\">\n",
              "      <div>\n",
              "<style scoped>\n",
              "    .dataframe tbody tr th:only-of-type {\n",
              "        vertical-align: middle;\n",
              "    }\n",
              "\n",
              "    .dataframe tbody tr th {\n",
              "        vertical-align: top;\n",
              "    }\n",
              "\n",
              "    .dataframe thead th {\n",
              "        text-align: right;\n",
              "    }\n",
              "</style>\n",
              "<table border=\"1\" class=\"dataframe\">\n",
              "  <thead>\n",
              "    <tr style=\"text-align: right;\">\n",
              "      <th></th>\n",
              "      <th>index</th>\n",
              "      <th>PassengerId</th>\n",
              "      <th>Survived</th>\n",
              "      <th>Pclass</th>\n",
              "      <th>Name</th>\n",
              "      <th>Sex</th>\n",
              "      <th>Age</th>\n",
              "      <th>SibSp</th>\n",
              "      <th>Parch</th>\n",
              "      <th>Ticket</th>\n",
              "      <th>Fare</th>\n",
              "      <th>Cabin</th>\n",
              "      <th>Embarked</th>\n",
              "      <th>Title</th>\n",
              "      <th>Surname</th>\n",
              "      <th>Firstname</th>\n",
              "      <th>Othernames</th>\n",
              "    </tr>\n",
              "  </thead>\n",
              "  <tbody>\n",
              "    <tr>\n",
              "      <th>0</th>\n",
              "      <td>1245</td>\n",
              "      <td>1246</td>\n",
              "      <td>NaN</td>\n",
              "      <td>3</td>\n",
              "      <td>DeanMiss Elizabeth Gladys “Millvina”</td>\n",
              "      <td>female</td>\n",
              "      <td>0.17</td>\n",
              "      <td>1</td>\n",
              "      <td>2</td>\n",
              "      <td>C.A. 2315</td>\n",
              "      <td>20.5750</td>\n",
              "      <td>NaN</td>\n",
              "      <td>S</td>\n",
              "      <td>Miss</td>\n",
              "      <td>Dean</td>\n",
              "      <td>Elizabeth</td>\n",
              "      <td>Gladys</td>\n",
              "    </tr>\n",
              "    <tr>\n",
              "      <th>1</th>\n",
              "      <td>1092</td>\n",
              "      <td>1093</td>\n",
              "      <td>NaN</td>\n",
              "      <td>3</td>\n",
              "      <td>DanbomMaster Gilbert Sigvard Emanuel</td>\n",
              "      <td>male</td>\n",
              "      <td>0.33</td>\n",
              "      <td>0</td>\n",
              "      <td>2</td>\n",
              "      <td>347080</td>\n",
              "      <td>14.4000</td>\n",
              "      <td>NaN</td>\n",
              "      <td>S</td>\n",
              "      <td>Master</td>\n",
              "      <td>Danbom</td>\n",
              "      <td>Gilbert</td>\n",
              "      <td>Sigvard</td>\n",
              "    </tr>\n",
              "    <tr>\n",
              "      <th>3</th>\n",
              "      <td>755</td>\n",
              "      <td>756</td>\n",
              "      <td>1.0</td>\n",
              "      <td>2</td>\n",
              "      <td>HämäläinenMaster Viljo Unto Johannes</td>\n",
              "      <td>male</td>\n",
              "      <td>0.67</td>\n",
              "      <td>1</td>\n",
              "      <td>1</td>\n",
              "      <td>250649</td>\n",
              "      <td>14.5000</td>\n",
              "      <td>NaN</td>\n",
              "      <td>S</td>\n",
              "      <td>Master</td>\n",
              "      <td>Hamalainen</td>\n",
              "      <td>Viljo</td>\n",
              "      <td></td>\n",
              "    </tr>\n",
              "    <tr>\n",
              "      <th>4</th>\n",
              "      <td>644</td>\n",
              "      <td>645</td>\n",
              "      <td>1.0</td>\n",
              "      <td>3</td>\n",
              "      <td>BacliniMiss Eugenie</td>\n",
              "      <td>female</td>\n",
              "      <td>0.75</td>\n",
              "      <td>2</td>\n",
              "      <td>1</td>\n",
              "      <td>2666</td>\n",
              "      <td>19.2583</td>\n",
              "      <td>NaN</td>\n",
              "      <td>C</td>\n",
              "      <td>Miss</td>\n",
              "      <td>Baclini</td>\n",
              "      <td>Eugenie</td>\n",
              "      <td></td>\n",
              "    </tr>\n",
              "    <tr>\n",
              "      <th>5</th>\n",
              "      <td>469</td>\n",
              "      <td>470</td>\n",
              "      <td>1.0</td>\n",
              "      <td>3</td>\n",
              "      <td>BacliniMiss Helene Barbara</td>\n",
              "      <td>female</td>\n",
              "      <td>0.75</td>\n",
              "      <td>2</td>\n",
              "      <td>1</td>\n",
              "      <td>2666</td>\n",
              "      <td>19.2583</td>\n",
              "      <td>NaN</td>\n",
              "      <td>C</td>\n",
              "      <td>Miss</td>\n",
              "      <td>Baclini</td>\n",
              "      <td>Helene</td>\n",
              "      <td></td>\n",
              "    </tr>\n",
              "    <tr>\n",
              "      <th>...</th>\n",
              "      <td>...</td>\n",
              "      <td>...</td>\n",
              "      <td>...</td>\n",
              "      <td>...</td>\n",
              "      <td>...</td>\n",
              "      <td>...</td>\n",
              "      <td>...</td>\n",
              "      <td>...</td>\n",
              "      <td>...</td>\n",
              "      <td>...</td>\n",
              "      <td>...</td>\n",
              "      <td>...</td>\n",
              "      <td>...</td>\n",
              "      <td>...</td>\n",
              "      <td>...</td>\n",
              "      <td>...</td>\n",
              "      <td>...</td>\n",
              "    </tr>\n",
              "    <tr>\n",
              "      <th>1303</th>\n",
              "      <td>55</td>\n",
              "      <td>56</td>\n",
              "      <td>1.0</td>\n",
              "      <td>1</td>\n",
              "      <td>WoolnerMr Hugh</td>\n",
              "      <td>male</td>\n",
              "      <td>NaN</td>\n",
              "      <td>0</td>\n",
              "      <td>0</td>\n",
              "      <td>19947</td>\n",
              "      <td>35.5000</td>\n",
              "      <td>C52</td>\n",
              "      <td>S</td>\n",
              "      <td>Mr</td>\n",
              "      <td>Woolner</td>\n",
              "      <td>Hugh</td>\n",
              "      <td></td>\n",
              "    </tr>\n",
              "    <tr>\n",
              "      <th>1305</th>\n",
              "      <td>495</td>\n",
              "      <td>496</td>\n",
              "      <td>0.0</td>\n",
              "      <td>3</td>\n",
              "      <td>Yousseff (Abi Saab)Mr Gerios</td>\n",
              "      <td>male</td>\n",
              "      <td>NaN</td>\n",
              "      <td>0</td>\n",
              "      <td>0</td>\n",
              "      <td>2627</td>\n",
              "      <td>14.4583</td>\n",
              "      <td>NaN</td>\n",
              "      <td>C</td>\n",
              "      <td>Mr</td>\n",
              "      <td>Yousseff</td>\n",
              "      <td>Gerious</td>\n",
              "      <td></td>\n",
              "    </tr>\n",
              "    <tr>\n",
              "      <th>1306</th>\n",
              "      <td>240</td>\n",
              "      <td>241</td>\n",
              "      <td>0.0</td>\n",
              "      <td>3</td>\n",
              "      <td>Jabbur (Zabour)Miss Thamine</td>\n",
              "      <td>female</td>\n",
              "      <td>NaN</td>\n",
              "      <td>1</td>\n",
              "      <td>0</td>\n",
              "      <td>2665</td>\n",
              "      <td>14.4542</td>\n",
              "      <td>NaN</td>\n",
              "      <td>C</td>\n",
              "      <td>Miss</td>\n",
              "      <td>Zabour</td>\n",
              "      <td>Thamine</td>\n",
              "      <td></td>\n",
              "    </tr>\n",
              "    <tr>\n",
              "      <th>1307</th>\n",
              "      <td>1235</td>\n",
              "      <td>1236</td>\n",
              "      <td>NaN</td>\n",
              "      <td>3</td>\n",
              "      <td>Van BilliardMaster James William</td>\n",
              "      <td>male</td>\n",
              "      <td>NaN</td>\n",
              "      <td>1</td>\n",
              "      <td>1</td>\n",
              "      <td>A/5. 851</td>\n",
              "      <td>14.5000</td>\n",
              "      <td>NaN</td>\n",
              "      <td>S</td>\n",
              "      <td>Master</td>\n",
              "      <td>van Bi</td>\n",
              "      <td>James</td>\n",
              "      <td></td>\n",
              "    </tr>\n",
              "    <tr>\n",
              "      <th>1308</th>\n",
              "      <td>868</td>\n",
              "      <td>869</td>\n",
              "      <td>0.0</td>\n",
              "      <td>3</td>\n",
              "      <td>Van MelckebekeMr Philemon</td>\n",
              "      <td>male</td>\n",
              "      <td>NaN</td>\n",
              "      <td>0</td>\n",
              "      <td>0</td>\n",
              "      <td>345777</td>\n",
              "      <td>9.5000</td>\n",
              "      <td>NaN</td>\n",
              "      <td>S</td>\n",
              "      <td>Mr</td>\n",
              "      <td>van Me</td>\n",
              "      <td>Philemon</td>\n",
              "      <td></td>\n",
              "    </tr>\n",
              "  </tbody>\n",
              "</table>\n",
              "<p>1216 rows × 17 columns</p>\n",
              "</div>\n",
              "      <button class=\"colab-df-convert\" onclick=\"convertToInteractive('df-32fe85e4-276e-43ee-936f-fa3505dc58b6')\"\n",
              "              title=\"Convert this dataframe to an interactive table.\"\n",
              "              style=\"display:none;\">\n",
              "        \n",
              "  <svg xmlns=\"http://www.w3.org/2000/svg\" height=\"24px\"viewBox=\"0 0 24 24\"\n",
              "       width=\"24px\">\n",
              "    <path d=\"M0 0h24v24H0V0z\" fill=\"none\"/>\n",
              "    <path d=\"M18.56 5.44l.94 2.06.94-2.06 2.06-.94-2.06-.94-.94-2.06-.94 2.06-2.06.94zm-11 1L8.5 8.5l.94-2.06 2.06-.94-2.06-.94L8.5 2.5l-.94 2.06-2.06.94zm10 10l.94 2.06.94-2.06 2.06-.94-2.06-.94-.94-2.06-.94 2.06-2.06.94z\"/><path d=\"M17.41 7.96l-1.37-1.37c-.4-.4-.92-.59-1.43-.59-.52 0-1.04.2-1.43.59L10.3 9.45l-7.72 7.72c-.78.78-.78 2.05 0 2.83L4 21.41c.39.39.9.59 1.41.59.51 0 1.02-.2 1.41-.59l7.78-7.78 2.81-2.81c.8-.78.8-2.07 0-2.86zM5.41 20L4 18.59l7.72-7.72 1.47 1.35L5.41 20z\"/>\n",
              "  </svg>\n",
              "      </button>\n",
              "      \n",
              "  <style>\n",
              "    .colab-df-container {\n",
              "      display:flex;\n",
              "      flex-wrap:wrap;\n",
              "      gap: 12px;\n",
              "    }\n",
              "\n",
              "    .colab-df-convert {\n",
              "      background-color: #E8F0FE;\n",
              "      border: none;\n",
              "      border-radius: 50%;\n",
              "      cursor: pointer;\n",
              "      display: none;\n",
              "      fill: #1967D2;\n",
              "      height: 32px;\n",
              "      padding: 0 0 0 0;\n",
              "      width: 32px;\n",
              "    }\n",
              "\n",
              "    .colab-df-convert:hover {\n",
              "      background-color: #E2EBFA;\n",
              "      box-shadow: 0px 1px 2px rgba(60, 64, 67, 0.3), 0px 1px 3px 1px rgba(60, 64, 67, 0.15);\n",
              "      fill: #174EA6;\n",
              "    }\n",
              "\n",
              "    [theme=dark] .colab-df-convert {\n",
              "      background-color: #3B4455;\n",
              "      fill: #D2E3FC;\n",
              "    }\n",
              "\n",
              "    [theme=dark] .colab-df-convert:hover {\n",
              "      background-color: #434B5C;\n",
              "      box-shadow: 0px 1px 3px 1px rgba(0, 0, 0, 0.15);\n",
              "      filter: drop-shadow(0px 1px 2px rgba(0, 0, 0, 0.3));\n",
              "      fill: #FFFFFF;\n",
              "    }\n",
              "  </style>\n",
              "\n",
              "      <script>\n",
              "        const buttonEl =\n",
              "          document.querySelector('#df-32fe85e4-276e-43ee-936f-fa3505dc58b6 button.colab-df-convert');\n",
              "        buttonEl.style.display =\n",
              "          google.colab.kernel.accessAllowed ? 'block' : 'none';\n",
              "\n",
              "        async function convertToInteractive(key) {\n",
              "          const element = document.querySelector('#df-32fe85e4-276e-43ee-936f-fa3505dc58b6');\n",
              "          const dataTable =\n",
              "            await google.colab.kernel.invokeFunction('convertToInteractive',\n",
              "                                                     [key], {});\n",
              "          if (!dataTable) return;\n",
              "\n",
              "          const docLinkHtml = 'Like what you see? Visit the ' +\n",
              "            '<a target=\"_blank\" href=https://colab.research.google.com/notebooks/data_table.ipynb>data table notebook</a>'\n",
              "            + ' to learn more about interactive tables.';\n",
              "          element.innerHTML = '';\n",
              "          dataTable['output_type'] = 'display_data';\n",
              "          await google.colab.output.renderOutput(dataTable, element);\n",
              "          const docLink = document.createElement('div');\n",
              "          docLink.innerHTML = docLinkHtml;\n",
              "          element.appendChild(docLink);\n",
              "        }\n",
              "      </script>\n",
              "    </div>\n",
              "  </div>\n",
              "  "
            ]
          },
          "metadata": {},
          "execution_count": 36
        }
      ],
      "source": [
        "titanic_data_kaggle_sort_age[titanic_data_kaggle_sort_age['Name']!='No name match']"
      ]
    },
    {
      "cell_type": "code",
      "execution_count": 37,
      "metadata": {
        "collapsed": true,
        "id": "XBd-_kOGIqMa"
      },
      "outputs": [],
      "source": [
        "titanic_data_kaggle_sort_age['KaggleAge'] = titanic_data_kaggle_sort_age['Age']"
      ]
    },
    {
      "cell_type": "code",
      "execution_count": 38,
      "metadata": {
        "collapsed": true,
        "id": "catzj1eqIqMa"
      },
      "outputs": [],
      "source": [
        "titanic_merged = titanic_data_kaggle_sort_age.merge(titanic_facts_sort_age, how='left', left_on='Name', right_on='Name')"
      ]
    },
    {
      "cell_type": "code",
      "execution_count": 39,
      "metadata": {
        "id": "cmGCW5QRIqMa",
        "outputId": "134f0120-2e80-40a8-d5a1-31ba498fa5dd",
        "colab": {
          "base_uri": "https://localhost:8080/"
        }
      },
      "outputs": [
        {
          "output_type": "stream",
          "name": "stdout",
          "text": [
            "<class 'pandas.core.frame.DataFrame'>\n",
            "Int64Index: 1311 entries, 0 to 1310\n",
            "Data columns (total 24 columns):\n",
            " #   Column                      Non-Null Count  Dtype  \n",
            "---  ------                      --------------  -----  \n",
            " 0   index_x                     1311 non-null   int64  \n",
            " 1   PassengerId                 1311 non-null   int64  \n",
            " 2   Survived                    892 non-null    float64\n",
            " 3   Pclass                      1311 non-null   int64  \n",
            " 4   Name                        1311 non-null   object \n",
            " 5   Sex                         1311 non-null   object \n",
            " 6   Age_x                       1048 non-null   float64\n",
            " 7   SibSp                       1311 non-null   int64  \n",
            " 8   Parch                       1311 non-null   int64  \n",
            " 9   Ticket                      1311 non-null   object \n",
            " 10  Fare                        1310 non-null   float64\n",
            " 11  Cabin                       295 non-null    object \n",
            " 12  Embarked                    1309 non-null   object \n",
            " 13  Title                       1311 non-null   object \n",
            " 14  Surname_x                   1311 non-null   object \n",
            " 15  Firstname                   1311 non-null   object \n",
            " 16  Othernames                  1311 non-null   object \n",
            " 17  KaggleAge                   1048 non-null   float64\n",
            " 18  index_y                     1218 non-null   float64\n",
            " 19  Surname_y                   1218 non-null   object \n",
            " 20  First Names                 1218 non-null   object \n",
            " 21  Age_y                       1216 non-null   float64\n",
            " 22  Boarded                     1218 non-null   object \n",
            " 23  Survivor (S) or Victim (†)  1218 non-null   object \n",
            "dtypes: float64(6), int64(5), object(13)\n",
            "memory usage: 256.1+ KB\n"
          ]
        }
      ],
      "source": [
        "titanic_merged.info()"
      ]
    },
    {
      "cell_type": "code",
      "execution_count": 40,
      "metadata": {
        "collapsed": true,
        "id": "ftLADzYEIqMb"
      },
      "outputs": [],
      "source": [
        "titanic_merged['AgeDiff'] = titanic_merged['KaggleAge'] - titanic_merged['Age_y']"
      ]
    },
    {
      "cell_type": "code",
      "execution_count": 41,
      "metadata": {
        "id": "Ag6Q7OzaIqMb",
        "outputId": "0f2662cc-4b39-4f5b-89ce-503be95575df",
        "colab": {
          "base_uri": "https://localhost:8080/"
        }
      },
      "outputs": [
        {
          "output_type": "execute_result",
          "data": {
            "text/plain": [
              "count    975.000000\n",
              "mean       0.161197\n",
              "std        4.856543\n",
              "min      -26.000000\n",
              "25%        0.000000\n",
              "50%        0.000000\n",
              "75%        0.000000\n",
              "max       51.000000\n",
              "Name: AgeDiff, dtype: float64"
            ]
          },
          "metadata": {},
          "execution_count": 41
        }
      ],
      "source": [
        "titanic_merged['AgeDiff'] = titanic_merged['AgeDiff'].dropna()\n",
        "titanic_merged['AgeDiff'].describe()"
      ]
    },
    {
      "cell_type": "code",
      "execution_count": 45,
      "metadata": {
        "collapsed": true,
        "id": "zj_nhoeuIqMb",
        "outputId": "19d5eca1-7633-4164-b42a-cf06f21af5d7",
        "colab": {
          "base_uri": "https://localhost:8080/"
        }
      },
      "outputs": [
        {
          "output_type": "stream",
          "name": "stdout",
          "text": [
            "Unable to export to ../data/titanic_merged.csv\n"
          ]
        }
      ],
      "source": [
        "export_df_to_csv_file_if_path_exists(titanic_merged, f\"{data_path}/titanic_merged.csv\")"
      ]
    },
    {
      "cell_type": "code",
      "execution_count": 46,
      "metadata": {
        "id": "bu9n6ptpIqMb",
        "outputId": "49e56955-30ee-46ac-8a14-d885b56af46c",
        "colab": {
          "base_uri": "https://localhost:8080/",
          "height": 457
        }
      },
      "outputs": [
        {
          "output_type": "execute_result",
          "data": {
            "text/plain": [
              "                 index_x  PassengerId  Survived    Pclass     Age_x     SibSp  \\\n",
              "index_x         1.000000     1.000000 -0.005865 -0.037854  0.029089 -0.055475   \n",
              "PassengerId     1.000000     1.000000 -0.005865 -0.037854  0.029089 -0.055475   \n",
              "Survived       -0.005865    -0.005865  1.000000 -0.338965 -0.078270 -0.034886   \n",
              "Pclass         -0.037854    -0.037854 -0.338965  1.000000 -0.406386  0.060174   \n",
              "Age_x           0.029089     0.029089 -0.078270 -0.406386  1.000000 -0.244189   \n",
              "SibSp          -0.055475    -0.055475 -0.034886  0.060174 -0.244189  1.000000   \n",
              "Parch           0.008689     0.008689  0.082010  0.017738 -0.151426  0.373791   \n",
              "Fare            0.031140     0.031140  0.257613 -0.558854  0.177961  0.160539   \n",
              "KaggleAge       0.029089     0.029089 -0.078270 -0.406386  1.000000 -0.244189   \n",
              "index_y        -0.054718    -0.054718 -0.317012  0.871123 -0.334432  0.052222   \n",
              "Age_y           0.024725     0.024725 -0.055691 -0.396100  0.944186 -0.245553   \n",
              "AgeDiff         0.040288     0.040288 -0.052137 -0.031650  0.169961 -0.024376   \n",
              "AgeDiffMoreEps  0.033635     0.033635  0.040006 -0.043333  0.096539 -0.023593   \n",
              "\n",
              "                   Parch      Fare  KaggleAge   index_y     Age_y   AgeDiff  \\\n",
              "index_x         0.008689  0.031140   0.029089 -0.054718  0.024725  0.040288   \n",
              "PassengerId     0.008689  0.031140   0.029089 -0.054718  0.024725  0.040288   \n",
              "Survived        0.082010  0.257613  -0.078270 -0.317012 -0.055691 -0.052137   \n",
              "Pclass          0.017738 -0.558854  -0.406386  0.871123 -0.396100 -0.031650   \n",
              "Age_x          -0.151426  0.177961   1.000000 -0.334432  0.944186  0.169961   \n",
              "SibSp           0.373791  0.160539  -0.244189  0.052222 -0.245553 -0.024376   \n",
              "Parch           1.000000  0.221798  -0.151426 -0.009180 -0.141398  0.021793   \n",
              "Fare            0.221798  1.000000   0.177961 -0.454378  0.143106  0.057666   \n",
              "KaggleAge      -0.151426  0.177961   1.000000 -0.334432  0.944186  0.169961   \n",
              "index_y        -0.009180 -0.454378  -0.334432  1.000000 -0.340924  0.015645   \n",
              "Age_y          -0.141398  0.143106   0.944186 -0.340924  1.000000 -0.164144   \n",
              "AgeDiff         0.021793  0.057666   0.169961  0.015645 -0.164144  1.000000   \n",
              "AgeDiffMoreEps -0.036913  0.002656   0.096539 -0.059278  0.075819  0.066787   \n",
              "\n",
              "                AgeDiffMoreEps  \n",
              "index_x               0.033635  \n",
              "PassengerId           0.033635  \n",
              "Survived              0.040006  \n",
              "Pclass               -0.043333  \n",
              "Age_x                 0.096539  \n",
              "SibSp                -0.023593  \n",
              "Parch                -0.036913  \n",
              "Fare                  0.002656  \n",
              "KaggleAge             0.096539  \n",
              "index_y              -0.059278  \n",
              "Age_y                 0.075819  \n",
              "AgeDiff               0.066787  \n",
              "AgeDiffMoreEps        1.000000  "
            ],
            "text/html": [
              "\n",
              "  <div id=\"df-c2304293-d96f-41ff-aed5-1d3fe096efee\">\n",
              "    <div class=\"colab-df-container\">\n",
              "      <div>\n",
              "<style scoped>\n",
              "    .dataframe tbody tr th:only-of-type {\n",
              "        vertical-align: middle;\n",
              "    }\n",
              "\n",
              "    .dataframe tbody tr th {\n",
              "        vertical-align: top;\n",
              "    }\n",
              "\n",
              "    .dataframe thead th {\n",
              "        text-align: right;\n",
              "    }\n",
              "</style>\n",
              "<table border=\"1\" class=\"dataframe\">\n",
              "  <thead>\n",
              "    <tr style=\"text-align: right;\">\n",
              "      <th></th>\n",
              "      <th>index_x</th>\n",
              "      <th>PassengerId</th>\n",
              "      <th>Survived</th>\n",
              "      <th>Pclass</th>\n",
              "      <th>Age_x</th>\n",
              "      <th>SibSp</th>\n",
              "      <th>Parch</th>\n",
              "      <th>Fare</th>\n",
              "      <th>KaggleAge</th>\n",
              "      <th>index_y</th>\n",
              "      <th>Age_y</th>\n",
              "      <th>AgeDiff</th>\n",
              "      <th>AgeDiffMoreEps</th>\n",
              "    </tr>\n",
              "  </thead>\n",
              "  <tbody>\n",
              "    <tr>\n",
              "      <th>index_x</th>\n",
              "      <td>1.000000</td>\n",
              "      <td>1.000000</td>\n",
              "      <td>-0.005865</td>\n",
              "      <td>-0.037854</td>\n",
              "      <td>0.029089</td>\n",
              "      <td>-0.055475</td>\n",
              "      <td>0.008689</td>\n",
              "      <td>0.031140</td>\n",
              "      <td>0.029089</td>\n",
              "      <td>-0.054718</td>\n",
              "      <td>0.024725</td>\n",
              "      <td>0.040288</td>\n",
              "      <td>0.033635</td>\n",
              "    </tr>\n",
              "    <tr>\n",
              "      <th>PassengerId</th>\n",
              "      <td>1.000000</td>\n",
              "      <td>1.000000</td>\n",
              "      <td>-0.005865</td>\n",
              "      <td>-0.037854</td>\n",
              "      <td>0.029089</td>\n",
              "      <td>-0.055475</td>\n",
              "      <td>0.008689</td>\n",
              "      <td>0.031140</td>\n",
              "      <td>0.029089</td>\n",
              "      <td>-0.054718</td>\n",
              "      <td>0.024725</td>\n",
              "      <td>0.040288</td>\n",
              "      <td>0.033635</td>\n",
              "    </tr>\n",
              "    <tr>\n",
              "      <th>Survived</th>\n",
              "      <td>-0.005865</td>\n",
              "      <td>-0.005865</td>\n",
              "      <td>1.000000</td>\n",
              "      <td>-0.338965</td>\n",
              "      <td>-0.078270</td>\n",
              "      <td>-0.034886</td>\n",
              "      <td>0.082010</td>\n",
              "      <td>0.257613</td>\n",
              "      <td>-0.078270</td>\n",
              "      <td>-0.317012</td>\n",
              "      <td>-0.055691</td>\n",
              "      <td>-0.052137</td>\n",
              "      <td>0.040006</td>\n",
              "    </tr>\n",
              "    <tr>\n",
              "      <th>Pclass</th>\n",
              "      <td>-0.037854</td>\n",
              "      <td>-0.037854</td>\n",
              "      <td>-0.338965</td>\n",
              "      <td>1.000000</td>\n",
              "      <td>-0.406386</td>\n",
              "      <td>0.060174</td>\n",
              "      <td>0.017738</td>\n",
              "      <td>-0.558854</td>\n",
              "      <td>-0.406386</td>\n",
              "      <td>0.871123</td>\n",
              "      <td>-0.396100</td>\n",
              "      <td>-0.031650</td>\n",
              "      <td>-0.043333</td>\n",
              "    </tr>\n",
              "    <tr>\n",
              "      <th>Age_x</th>\n",
              "      <td>0.029089</td>\n",
              "      <td>0.029089</td>\n",
              "      <td>-0.078270</td>\n",
              "      <td>-0.406386</td>\n",
              "      <td>1.000000</td>\n",
              "      <td>-0.244189</td>\n",
              "      <td>-0.151426</td>\n",
              "      <td>0.177961</td>\n",
              "      <td>1.000000</td>\n",
              "      <td>-0.334432</td>\n",
              "      <td>0.944186</td>\n",
              "      <td>0.169961</td>\n",
              "      <td>0.096539</td>\n",
              "    </tr>\n",
              "    <tr>\n",
              "      <th>SibSp</th>\n",
              "      <td>-0.055475</td>\n",
              "      <td>-0.055475</td>\n",
              "      <td>-0.034886</td>\n",
              "      <td>0.060174</td>\n",
              "      <td>-0.244189</td>\n",
              "      <td>1.000000</td>\n",
              "      <td>0.373791</td>\n",
              "      <td>0.160539</td>\n",
              "      <td>-0.244189</td>\n",
              "      <td>0.052222</td>\n",
              "      <td>-0.245553</td>\n",
              "      <td>-0.024376</td>\n",
              "      <td>-0.023593</td>\n",
              "    </tr>\n",
              "    <tr>\n",
              "      <th>Parch</th>\n",
              "      <td>0.008689</td>\n",
              "      <td>0.008689</td>\n",
              "      <td>0.082010</td>\n",
              "      <td>0.017738</td>\n",
              "      <td>-0.151426</td>\n",
              "      <td>0.373791</td>\n",
              "      <td>1.000000</td>\n",
              "      <td>0.221798</td>\n",
              "      <td>-0.151426</td>\n",
              "      <td>-0.009180</td>\n",
              "      <td>-0.141398</td>\n",
              "      <td>0.021793</td>\n",
              "      <td>-0.036913</td>\n",
              "    </tr>\n",
              "    <tr>\n",
              "      <th>Fare</th>\n",
              "      <td>0.031140</td>\n",
              "      <td>0.031140</td>\n",
              "      <td>0.257613</td>\n",
              "      <td>-0.558854</td>\n",
              "      <td>0.177961</td>\n",
              "      <td>0.160539</td>\n",
              "      <td>0.221798</td>\n",
              "      <td>1.000000</td>\n",
              "      <td>0.177961</td>\n",
              "      <td>-0.454378</td>\n",
              "      <td>0.143106</td>\n",
              "      <td>0.057666</td>\n",
              "      <td>0.002656</td>\n",
              "    </tr>\n",
              "    <tr>\n",
              "      <th>KaggleAge</th>\n",
              "      <td>0.029089</td>\n",
              "      <td>0.029089</td>\n",
              "      <td>-0.078270</td>\n",
              "      <td>-0.406386</td>\n",
              "      <td>1.000000</td>\n",
              "      <td>-0.244189</td>\n",
              "      <td>-0.151426</td>\n",
              "      <td>0.177961</td>\n",
              "      <td>1.000000</td>\n",
              "      <td>-0.334432</td>\n",
              "      <td>0.944186</td>\n",
              "      <td>0.169961</td>\n",
              "      <td>0.096539</td>\n",
              "    </tr>\n",
              "    <tr>\n",
              "      <th>index_y</th>\n",
              "      <td>-0.054718</td>\n",
              "      <td>-0.054718</td>\n",
              "      <td>-0.317012</td>\n",
              "      <td>0.871123</td>\n",
              "      <td>-0.334432</td>\n",
              "      <td>0.052222</td>\n",
              "      <td>-0.009180</td>\n",
              "      <td>-0.454378</td>\n",
              "      <td>-0.334432</td>\n",
              "      <td>1.000000</td>\n",
              "      <td>-0.340924</td>\n",
              "      <td>0.015645</td>\n",
              "      <td>-0.059278</td>\n",
              "    </tr>\n",
              "    <tr>\n",
              "      <th>Age_y</th>\n",
              "      <td>0.024725</td>\n",
              "      <td>0.024725</td>\n",
              "      <td>-0.055691</td>\n",
              "      <td>-0.396100</td>\n",
              "      <td>0.944186</td>\n",
              "      <td>-0.245553</td>\n",
              "      <td>-0.141398</td>\n",
              "      <td>0.143106</td>\n",
              "      <td>0.944186</td>\n",
              "      <td>-0.340924</td>\n",
              "      <td>1.000000</td>\n",
              "      <td>-0.164144</td>\n",
              "      <td>0.075819</td>\n",
              "    </tr>\n",
              "    <tr>\n",
              "      <th>AgeDiff</th>\n",
              "      <td>0.040288</td>\n",
              "      <td>0.040288</td>\n",
              "      <td>-0.052137</td>\n",
              "      <td>-0.031650</td>\n",
              "      <td>0.169961</td>\n",
              "      <td>-0.024376</td>\n",
              "      <td>0.021793</td>\n",
              "      <td>0.057666</td>\n",
              "      <td>0.169961</td>\n",
              "      <td>0.015645</td>\n",
              "      <td>-0.164144</td>\n",
              "      <td>1.000000</td>\n",
              "      <td>0.066787</td>\n",
              "    </tr>\n",
              "    <tr>\n",
              "      <th>AgeDiffMoreEps</th>\n",
              "      <td>0.033635</td>\n",
              "      <td>0.033635</td>\n",
              "      <td>0.040006</td>\n",
              "      <td>-0.043333</td>\n",
              "      <td>0.096539</td>\n",
              "      <td>-0.023593</td>\n",
              "      <td>-0.036913</td>\n",
              "      <td>0.002656</td>\n",
              "      <td>0.096539</td>\n",
              "      <td>-0.059278</td>\n",
              "      <td>0.075819</td>\n",
              "      <td>0.066787</td>\n",
              "      <td>1.000000</td>\n",
              "    </tr>\n",
              "  </tbody>\n",
              "</table>\n",
              "</div>\n",
              "      <button class=\"colab-df-convert\" onclick=\"convertToInteractive('df-c2304293-d96f-41ff-aed5-1d3fe096efee')\"\n",
              "              title=\"Convert this dataframe to an interactive table.\"\n",
              "              style=\"display:none;\">\n",
              "        \n",
              "  <svg xmlns=\"http://www.w3.org/2000/svg\" height=\"24px\"viewBox=\"0 0 24 24\"\n",
              "       width=\"24px\">\n",
              "    <path d=\"M0 0h24v24H0V0z\" fill=\"none\"/>\n",
              "    <path d=\"M18.56 5.44l.94 2.06.94-2.06 2.06-.94-2.06-.94-.94-2.06-.94 2.06-2.06.94zm-11 1L8.5 8.5l.94-2.06 2.06-.94-2.06-.94L8.5 2.5l-.94 2.06-2.06.94zm10 10l.94 2.06.94-2.06 2.06-.94-2.06-.94-.94-2.06-.94 2.06-2.06.94z\"/><path d=\"M17.41 7.96l-1.37-1.37c-.4-.4-.92-.59-1.43-.59-.52 0-1.04.2-1.43.59L10.3 9.45l-7.72 7.72c-.78.78-.78 2.05 0 2.83L4 21.41c.39.39.9.59 1.41.59.51 0 1.02-.2 1.41-.59l7.78-7.78 2.81-2.81c.8-.78.8-2.07 0-2.86zM5.41 20L4 18.59l7.72-7.72 1.47 1.35L5.41 20z\"/>\n",
              "  </svg>\n",
              "      </button>\n",
              "      \n",
              "  <style>\n",
              "    .colab-df-container {\n",
              "      display:flex;\n",
              "      flex-wrap:wrap;\n",
              "      gap: 12px;\n",
              "    }\n",
              "\n",
              "    .colab-df-convert {\n",
              "      background-color: #E8F0FE;\n",
              "      border: none;\n",
              "      border-radius: 50%;\n",
              "      cursor: pointer;\n",
              "      display: none;\n",
              "      fill: #1967D2;\n",
              "      height: 32px;\n",
              "      padding: 0 0 0 0;\n",
              "      width: 32px;\n",
              "    }\n",
              "\n",
              "    .colab-df-convert:hover {\n",
              "      background-color: #E2EBFA;\n",
              "      box-shadow: 0px 1px 2px rgba(60, 64, 67, 0.3), 0px 1px 3px 1px rgba(60, 64, 67, 0.15);\n",
              "      fill: #174EA6;\n",
              "    }\n",
              "\n",
              "    [theme=dark] .colab-df-convert {\n",
              "      background-color: #3B4455;\n",
              "      fill: #D2E3FC;\n",
              "    }\n",
              "\n",
              "    [theme=dark] .colab-df-convert:hover {\n",
              "      background-color: #434B5C;\n",
              "      box-shadow: 0px 1px 3px 1px rgba(0, 0, 0, 0.15);\n",
              "      filter: drop-shadow(0px 1px 2px rgba(0, 0, 0, 0.3));\n",
              "      fill: #FFFFFF;\n",
              "    }\n",
              "  </style>\n",
              "\n",
              "      <script>\n",
              "        const buttonEl =\n",
              "          document.querySelector('#df-c2304293-d96f-41ff-aed5-1d3fe096efee button.colab-df-convert');\n",
              "        buttonEl.style.display =\n",
              "          google.colab.kernel.accessAllowed ? 'block' : 'none';\n",
              "\n",
              "        async function convertToInteractive(key) {\n",
              "          const element = document.querySelector('#df-c2304293-d96f-41ff-aed5-1d3fe096efee');\n",
              "          const dataTable =\n",
              "            await google.colab.kernel.invokeFunction('convertToInteractive',\n",
              "                                                     [key], {});\n",
              "          if (!dataTable) return;\n",
              "\n",
              "          const docLinkHtml = 'Like what you see? Visit the ' +\n",
              "            '<a target=\"_blank\" href=https://colab.research.google.com/notebooks/data_table.ipynb>data table notebook</a>'\n",
              "            + ' to learn more about interactive tables.';\n",
              "          element.innerHTML = '';\n",
              "          dataTable['output_type'] = 'display_data';\n",
              "          await google.colab.output.renderOutput(dataTable, element);\n",
              "          const docLink = document.createElement('div');\n",
              "          docLink.innerHTML = docLinkHtml;\n",
              "          element.appendChild(docLink);\n",
              "        }\n",
              "      </script>\n",
              "    </div>\n",
              "  </div>\n",
              "  "
            ]
          },
          "metadata": {},
          "execution_count": 46
        }
      ],
      "source": [
        "titanic_merged['AgeDiffMoreEps'] = titanic_merged['AgeDiff'].apply(lambda agediff : abs(agediff) > 2)\n",
        "titanic_merged.corr()"
      ]
    },
    {
      "cell_type": "code",
      "execution_count": 47,
      "metadata": {
        "id": "2zIvh6w6IqMb",
        "outputId": "e9cca75c-60f7-4c83-a712-f67c6459631c",
        "colab": {
          "base_uri": "https://localhost:8080/"
        }
      },
      "outputs": [
        {
          "output_type": "execute_result",
          "data": {
            "text/plain": [
              "count    975.000000\n",
              "mean       0.161197\n",
              "std        4.856543\n",
              "min      -26.000000\n",
              "25%        0.000000\n",
              "50%        0.000000\n",
              "75%        0.000000\n",
              "max       51.000000\n",
              "Name: AgeDiff, dtype: float64"
            ]
          },
          "metadata": {},
          "execution_count": 47
        }
      ],
      "source": [
        "titanic_merged['AgeDiff'].describe()"
      ]
    },
    {
      "cell_type": "code",
      "execution_count": 48,
      "metadata": {
        "id": "1YBxggCkIqMb",
        "outputId": "5f288e20-41d0-4fac-d665-e0f4cae72a97",
        "colab": {
          "base_uri": "https://localhost:8080/",
          "height": 289
        }
      },
      "outputs": [
        {
          "output_type": "display_data",
          "data": {
            "text/plain": [
              "<Figure size 432x288 with 1 Axes>"
            ],
            "image/png": "[encoded data removed]"
          },
          "metadata": {
            "needs_background": "light"
          }
        }
      ],
      "source": [
        "ax = sns.distplot(titanic_merged['AgeDiff'].dropna(), kde=False, bins=50)\n",
        "ax.set_ylim(0,30);"
      ]
    },
    {
      "cell_type": "markdown",
      "metadata": {
        "id": "yqrvqB9CIqMb"
      },
      "source": [
        "So for the most part, allowing for the NaN differences in the data sets they look pretty similar (other than the max age of 80). So let's look at some of the other top values."
      ]
    },
    {
      "cell_type": "code",
      "execution_count": 49,
      "metadata": {
        "id": "bo4abAIQIqMb",
        "outputId": "cb5c453f-1c36-4842-93c8-814eae4b741f",
        "colab": {
          "base_uri": "https://localhost:8080/"
        }
      },
      "outputs": [
        {
          "output_type": "execute_result",
          "data": {
            "text/plain": [
              "1310    70.0\n",
              "1313    71.0\n",
              "1311    71.0\n",
              "1312    71.0\n",
              "1314    74.0\n",
              "Name: Age, dtype: float64"
            ]
          },
          "metadata": {},
          "execution_count": 49
        }
      ],
      "source": [
        "titanic_facts_sort_age['Age'].sort_values(na_position='first').tail(5)"
      ]
    },
    {
      "cell_type": "code",
      "execution_count": 50,
      "metadata": {
        "id": "rG5mwCtGIqMc",
        "outputId": "d2348ec4-623a-4343-8c28-5764c19fc69b",
        "colab": {
          "base_uri": "https://localhost:8080/"
        }
      },
      "outputs": [
        {
          "output_type": "execute_result",
          "data": {
            "text/plain": [
              "1041    71.0\n",
              "1042    71.0\n",
              "1043    74.0\n",
              "1044    76.0\n",
              "1045    80.0\n",
              "Name: Age, dtype: float64"
            ]
          },
          "metadata": {},
          "execution_count": 50
        }
      ],
      "source": [
        "titanic_data_kaggle_sort_age['Age'].sort_values(na_position='first').tail(5)"
      ]
    },
    {
      "cell_type": "markdown",
      "metadata": {
        "id": "1HzvuylMIqMc"
      },
      "source": [
        "So it seems we have a 76 year old -- wonder if this age is also spurious?"
      ]
    },
    {
      "cell_type": "code",
      "execution_count": 51,
      "metadata": {
        "id": "IDBgcJzWIqMc",
        "outputId": "5397fe06-f842-42fe-cdd5-0725a1865ff4",
        "colab": {
          "base_uri": "https://localhost:8080/"
        }
      },
      "outputs": [
        {
          "output_type": "execute_result",
          "data": {
            "text/plain": [
              "index                                  987\n",
              "PassengerId                            988\n",
              "Survived                               NaN\n",
              "Pclass                                   1\n",
              "Name           CavendishMrs Julia Florence\n",
              "Sex                                 female\n",
              "Age                                   76.0\n",
              "SibSp                                    1\n",
              "Parch                                    0\n",
              "Ticket                               19877\n",
              "Fare                                 78.85\n",
              "Cabin                                  C46\n",
              "Embarked                                 S\n",
              "Title                                  Mrs\n",
              "Surname                          Cavendish\n",
              "Firstname                            Julia\n",
              "Othernames                 Florence Siegel\n",
              "KaggleAge                             76.0\n",
              "Name: 1044, dtype: object"
            ]
          },
          "metadata": {},
          "execution_count": 51
        }
      ],
      "source": [
        "titanic_data_kaggle_sort_age.iloc[1044]"
      ]
    },
    {
      "cell_type": "markdown",
      "metadata": {
        "id": "Uws-Oj0vIqMc"
      },
      "source": [
        "Yes -- another one! Julia Florence Cavendish (who survived) was 25 at the time of the disaster. Her age at death was 76. c.f. https://www.encyclopedia-titanica.org/titanic-survivor/julia-florence-cavendish.html"
      ]
    }
  ],
  "metadata": {
    "kernelspec": {
      "display_name": "Python 3.9.12 ('.venv_dev_titanic': venv)",
      "language": "python",
      "name": "python3"
    },
    "language_info": {
      "codemirror_mode": {
        "name": "ipython",
        "version": 3
      },
      "file_extension": ".py",
      "mimetype": "text/x-python",
      "name": "python",
      "nbconvert_exporter": "python",
      "pygments_lexer": "ipython3",
      "version": "3.9.12"
    },
    "vscode": {
      "interpreter": {
        "hash": "ecedb5791af83991a6589d4afbb2942412289c6b0861aa5bd2cf07a5110b1b9d"
      }
    },
    "colab": {
      "provenance": [],
      "include_colab_link": true
    }
  },
  "nbformat": 4,
  "nbformat_minor": 0
}