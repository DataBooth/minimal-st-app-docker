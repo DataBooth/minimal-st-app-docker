{
 "cells": [
  {
   "cell_type": "code",
   "execution_count": 1,
   "metadata": {},
   "outputs": [],
   "source": [
    "import numpy as np\n",
    "from sklearn.cluster import KMeans\n",
    "from sklearn.datasets import load_boston\n",
    "from sklearn.decomposition import PCA, FastICA\n",
    "from sklearn.ensemble import GradientBoostingRegressor\n",
    "from sklearn.metrics import r2_score\n",
    "from sklearn.model_selection import train_test_split\n",
    "from sklearn.utils import shuffle\n",
    "\n",
    "from neuraxle.pipeline import Pipeline\n",
    "from neuraxle.steps.numpy import NumpyShapePrinter\n",
    "from neuraxle.steps.sklearn import RidgeModelStacking\n",
    "from neuraxle.union import AddFeatures"
   ]
  },
  {
   "cell_type": "code",
   "execution_count": 7,
   "metadata": {},
   "outputs": [],
   "source": [
    "import warnings\n",
    "\n",
    "warnings.filterwarnings(\"ignore\")"
   ]
  },
  {
   "cell_type": "code",
   "execution_count": 8,
   "metadata": {},
   "outputs": [],
   "source": [
    "def main():\n",
    "    boston = load_boston()\n",
    "    X, y = shuffle(boston.data, boston.target, random_state=13)\n",
    "    X = X.astype(np.float32)\n",
    "    X_train, X_test, y_train, y_test = train_test_split(X, y, test_size=0.25, shuffle=False)\n",
    "\n",
    "    p = Pipeline([\n",
    "        NumpyShapePrinter(),\n",
    "        AddFeatures([\n",
    "            PCA(n_components=2),\n",
    "            FastICA(n_components=2),\n",
    "        ]),\n",
    "        NumpyShapePrinter(),\n",
    "        RidgeModelStacking([\n",
    "            GradientBoostingRegressor(),\n",
    "            GradientBoostingRegressor(n_estimators=500),\n",
    "            GradientBoostingRegressor(max_depth=5),\n",
    "            KMeans(),\n",
    "        ]),\n",
    "        NumpyShapePrinter(),\n",
    "    ])\n",
    "\n",
    "    print(\"Fitting on train:\")\n",
    "    p = p.fit(X_train, y_train)\n",
    "    print(\"\")\n",
    "    print(\"Transforming train and test:\")\n",
    "    y_train_predicted = p.predict(X_train)\n",
    "    y_test_predicted = p.predict(X_test)\n",
    "    print(\"\")\n",
    "    print(\"Evaluating transformed train:\")\n",
    "    score_train = r2_score(y_train_predicted, y_train)\n",
    "    print('R2 regression score:', score_train)\n",
    "    print(\"\")\n",
    "    print(\"Evaluating transformed test:\")\n",
    "    score_test = r2_score(y_test_predicted, y_test)\n",
    "    print('R2 regression score:', score_test)\n",
    "\n",
    "    assert y_train_predicted.shape == (379,)\n",
    "    assert y_test_predicted.shape == (127,)\n",
    "    assert isinstance(score_train, float)\n",
    "    assert isinstance(score_test, float)\n",
    "\n",
    "    return y_train_predicted, y_test_predicted, score_train, score_test"
   ]
  },
  {
   "cell_type": "code",
   "execution_count": 9,
   "metadata": {},
   "outputs": [
    {
     "name": "stdout",
     "output_type": "stream",
     "text": [
      "Fitting on train:\n",
      "NumpyShapePrinter: (379, 13) \n",
      "NumpyShapePrinter: (379, 17) \n",
      "\n",
      "Transforming train and test:\n",
      "NumpyShapePrinter: (379, 13) \n",
      "NumpyShapePrinter: (379, 17) \n",
      "NumpyShapePrinter: (379,) \n",
      "NumpyShapePrinter: (127, 13) \n",
      "NumpyShapePrinter: (127, 17) \n",
      "NumpyShapePrinter: (127,) \n",
      "\n",
      "Evaluating transformed train:\n",
      "R2 regression score: 0.9997215439811846\n",
      "\n",
      "Evaluating transformed test:\n",
      "R2 regression score: 0.9247596505261734\n"
     ]
    }
   ],
   "source": [
    "y_train_predicted, y_test_predicted, score_train, score_test = main()"
   ]
  },
  {
   "cell_type": "code",
   "execution_count": null,
   "metadata": {},
   "outputs": [],
   "source": []
  }
 ],
 "metadata": {
  "kernelspec": {
   "display_name": "Python 3.9.12 ('.venv_dev_titanic-streamlit-app': venv)",
   "language": "python",
   "name": "python3"
  },
  "language_info": {
   "codemirror_mode": {
    "name": "ipython",
    "version": 3
   },
   "file_extension": ".py",
   "mimetype": "text/x-python",
   "name": "python",
   "nbconvert_exporter": "python",
   "pygments_lexer": "ipython3",
   "version": "3.9.12"
  },
  "orig_nbformat": 4,
  "vscode": {
   "interpreter": {
    "hash": "3de96be564863eb70bacda9d696b254a7026b525f8ce08839ccf359adbdf151e"
   }
  }
 },
 "nbformat": 4,
 "nbformat_minor": 2
}
