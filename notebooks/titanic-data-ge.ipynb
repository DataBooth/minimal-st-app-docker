{
 "cells": [
  {
   "cell_type": "code",
   "execution_count": 1,
   "metadata": {},
   "outputs": [],
   "source": [
    "import shutil\n",
    "from pathlib import Path\n",
    "\n",
    "import great_expectations as ge\n",
    "import pandas as pd\n",
    "import pytest\n",
    "from great_expectations.core.batch import RuntimeBatchRequest\n",
    "from great_expectations.exceptions.exceptions import CheckpointNotFoundError\n",
    "from prefect import flow\n",
    "\n",
    "from prefect_great_expectations.validation import (\n",
    "    GreatExpectationValidationError,\n",
    "    run_checkpoint_validation,\n",
    ")\n"
   ]
  },
  {
   "cell_type": "code",
   "execution_count": 2,
   "metadata": {},
   "outputs": [],
   "source": [
    "# CURRENT_DIR = Path(__file__).parent.resolve()\n",
    "CURRENT_DIR = Path.cwd().parent.resolve()\n",
    "CONTEXT_ROOT_DIR = CURRENT_DIR / \"great_expectations\"\n",
    "DATA_PATH = CURRENT_DIR / \"data\""
   ]
  },
  {
   "cell_type": "code",
   "execution_count": null,
   "metadata": {},
   "outputs": [],
   "source": [
    "#TODO: Try this example - not to get data\n",
    "\n",
    "def test_validate_dataframe(self):\n",
    "    @flow\n",
    "    def test_flow():\n",
    "        df = pd.read_csv(DATA_PATH / \"yellow_tripdata_sample_2019-02.csv\")\n",
    "        runtime_batch_request = RuntimeBatchRequest(\n",
    "            datasource_name=\"data__dir\",\n",
    "            data_connector_name=\"default_runtime_data_connector_name\",\n",
    "            data_asset_name=\"yellow_tripdata_sample_2019-02_df\",\n",
    "            runtime_parameters={\"batch_data\": df},\n",
    "            batch_identifiers={\n",
    "                \"default_identifier_name\": \"ingestion step 1\",\n",
    "            },\n",
    "        )\n",
    "        return run_checkpoint_validation(\n",
    "            checkpoint_name=\"my_checkpoint_pass\",\n",
    "            data_context_root_dir=CONTEXT_ROOT_DIR,\n",
    "            checkpoint_kwargs={\n",
    "                \"validations\": [\n",
    "                    {\n",
    "                        \"batch_request\": runtime_batch_request,\n",
    "                        \"expectation_suite_name\": \"taxi.demo_pass\",\n",
    "                    }\n",
    "                ]\n",
    "            },\n",
    "        )\n",
    "\n",
    "    result = test_flow()"
   ]
  },
  {
   "cell_type": "code",
   "execution_count": 5,
   "metadata": {},
   "outputs": [],
   "source": [
    "def validation_with_data_context():\n",
    "    @flow\n",
    "    def validation_flow():\n",
    "        data_context = ge.DataContext(context_root_dir=str(CONTEXT_ROOT_DIR))\n",
    "        return run_checkpoint_validation(\n",
    "            checkpoint_name=\"getting_started_checkpoint\", data_context=data_context\n",
    "        )\n",
    "\n",
    "    result = validation_flow(return_state=True)\n",
    "    #assert result.success, \"Checkpoint validation should pass\"\n",
    "    return result"
   ]
  },
  {
   "cell_type": "code",
   "execution_count": 6,
   "metadata": {},
   "outputs": [
    {
     "name": "stderr",
     "output_type": "stream",
     "text": [
      "16:48:17.944 | INFO    | prefect.engine - Created flow run 'ambrosial-adder' for flow 'validation-flow'\n",
      "16:48:18.254 | INFO    | Flow run 'ambrosial-adder' - Created task run 'run_checkpoint_validation-6b113863-0' for task 'run_checkpoint_validation'\n",
      "16:48:18.254 | INFO    | Flow run 'ambrosial-adder' - Executing 'run_checkpoint_validation-6b113863-0' immediately...\n",
      "16:48:18.267 | INFO    | Task run 'run_checkpoint_validation-6b113863-0' - Running Great Expectations validation...\n"
     ]
    },
    {
     "data": {
      "application/vnd.jupyter.widget-view+json": {
       "model_id": "9a0ec19406dd497ab67e84fd282e7eeb",
       "version_major": 2,
       "version_minor": 0
      },
      "text/plain": [
       "Calculating Metrics:   0%|          | 0/123 [00:00<?, ?it/s]"
      ]
     },
     "metadata": {},
     "output_type": "display_data"
    },
    {
     "data": {
      "application/vnd.jupyter.widget-view+json": {
       "model_id": "eafd2ca14213487786d13247835e7088",
       "version_major": 2,
       "version_minor": 0
      },
      "text/plain": [
       "Calculating Metrics:   0%|          | 0/110 [00:00<?, ?it/s]"
      ]
     },
     "metadata": {},
     "output_type": "display_data"
    },
    {
     "name": "stderr",
     "output_type": "stream",
     "text": [
      "/Users/mjboothaus/code/github/mjboothaus/titanic/.venv_dev_titanic-streamlit-app/lib/python3.9/site-packages/prefect_great_expectations/validation.py:132: DeprecationWarning: The 'warn' method is deprecated, use 'warning' instead\n",
      "  logger.warn(\n",
      "16:48:19.414 | WARNING | Task run 'run_checkpoint_validation-6b113863-0' - Great Expectations validation run 20220828-164818-my-run-name-template failed\n",
      "16:48:19.415 | ERROR   | Task run 'run_checkpoint_validation-6b113863-0' - Encountered exception during execution:\n",
      "Traceback (most recent call last):\n",
      "  File \"/Users/mjboothaus/code/github/mjboothaus/titanic/.venv_dev_titanic-streamlit-app/lib/python3.9/site-packages/prefect/engine.py\", line 1108, in orchestrate_task_run\n",
      "    result = await run_sync(task.fn, *args, **kwargs)\n",
      "  File \"/Users/mjboothaus/code/github/mjboothaus/titanic/.venv_dev_titanic-streamlit-app/lib/python3.9/site-packages/prefect/utilities/asyncutils.py\", line 56, in run_sync_in_worker_thread\n",
      "    return await anyio.to_thread.run_sync(call, cancellable=True)\n",
      "  File \"/Users/mjboothaus/code/github/mjboothaus/titanic/.venv_dev_titanic-streamlit-app/lib/python3.9/site-packages/anyio/to_thread.py\", line 31, in run_sync\n",
      "    return await get_asynclib().run_sync_in_worker_thread(\n",
      "  File \"/Users/mjboothaus/code/github/mjboothaus/titanic/.venv_dev_titanic-streamlit-app/lib/python3.9/site-packages/anyio/_backends/_asyncio.py\", line 937, in run_sync_in_worker_thread\n",
      "    return await future\n",
      "  File \"/Users/mjboothaus/code/github/mjboothaus/titanic/.venv_dev_titanic-streamlit-app/lib/python3.9/site-packages/anyio/_backends/_asyncio.py\", line 867, in run\n",
      "    result = context.run(func, *args)\n",
      "  File \"/Users/mjboothaus/code/github/mjboothaus/titanic/.venv_dev_titanic-streamlit-app/lib/python3.9/site-packages/prefect_great_expectations/validation.py\", line 136, in run_checkpoint_validation\n",
      "    raise GreatExpectationValidationError(result)\n",
      "prefect_great_expectations.validation.GreatExpectationValidationError: Great Expectations Validation failed. Check result on this exception for more details.\n",
      "16:48:19.457 | ERROR   | Task run 'run_checkpoint_validation-6b113863-0' - Finished in state Failed('Task run encountered an exception.')\n",
      "16:48:19.458 | ERROR   | Flow run 'ambrosial-adder' - Encountered exception during execution:\n",
      "Traceback (most recent call last):\n",
      "  File \"/Users/mjboothaus/code/github/mjboothaus/titanic/.venv_dev_titanic-streamlit-app/lib/python3.9/site-packages/prefect/engine.py\", line 587, in orchestrate_flow_run\n",
      "    result = await run_sync(flow_call)\n",
      "  File \"/Users/mjboothaus/code/github/mjboothaus/titanic/.venv_dev_titanic-streamlit-app/lib/python3.9/site-packages/prefect/utilities/asyncutils.py\", line 56, in run_sync_in_worker_thread\n",
      "    return await anyio.to_thread.run_sync(call, cancellable=True)\n",
      "  File \"/Users/mjboothaus/code/github/mjboothaus/titanic/.venv_dev_titanic-streamlit-app/lib/python3.9/site-packages/anyio/to_thread.py\", line 31, in run_sync\n",
      "    return await get_asynclib().run_sync_in_worker_thread(\n",
      "  File \"/Users/mjboothaus/code/github/mjboothaus/titanic/.venv_dev_titanic-streamlit-app/lib/python3.9/site-packages/anyio/_backends/_asyncio.py\", line 937, in run_sync_in_worker_thread\n",
      "    return await future\n",
      "  File \"/Users/mjboothaus/code/github/mjboothaus/titanic/.venv_dev_titanic-streamlit-app/lib/python3.9/site-packages/anyio/_backends/_asyncio.py\", line 867, in run\n",
      "    result = context.run(func, *args)\n",
      "  File \"/var/folders/wc/zhl433ms1fx5rvtvcrkw6dgw0000gn/T/ipykernel_13463/181281858.py\", line 5, in validation_flow\n",
      "    return run_checkpoint_validation(\n",
      "  File \"/Users/mjboothaus/code/github/mjboothaus/titanic/.venv_dev_titanic-streamlit-app/lib/python3.9/site-packages/prefect/tasks.py\", line 294, in __call__\n",
      "    return enter_task_run_engine(\n",
      "  File \"/Users/mjboothaus/code/github/mjboothaus/titanic/.venv_dev_titanic-streamlit-app/lib/python3.9/site-packages/prefect/engine.py\", line 727, in enter_task_run_engine\n",
      "    return run_async_from_worker_thread(begin_run)\n",
      "  File \"/Users/mjboothaus/code/github/mjboothaus/titanic/.venv_dev_titanic-streamlit-app/lib/python3.9/site-packages/prefect/utilities/asyncutils.py\", line 136, in run_async_from_worker_thread\n",
      "    return anyio.from_thread.run(call)\n",
      "  File \"/Users/mjboothaus/code/github/mjboothaus/titanic/.venv_dev_titanic-streamlit-app/lib/python3.9/site-packages/anyio/from_thread.py\", line 49, in run\n",
      "    return asynclib.run_async_from_thread(func, *args)\n",
      "  File \"/Users/mjboothaus/code/github/mjboothaus/titanic/.venv_dev_titanic-streamlit-app/lib/python3.9/site-packages/anyio/_backends/_asyncio.py\", line 970, in run_async_from_thread\n",
      "    return f.result()\n",
      "  File \"/Users/mjboothaus/.pyenv/versions/3.9.12/lib/python3.9/concurrent/futures/_base.py\", line 446, in result\n",
      "    return self.__get_result()\n",
      "  File \"/Users/mjboothaus/.pyenv/versions/3.9.12/lib/python3.9/concurrent/futures/_base.py\", line 391, in __get_result\n",
      "    raise self._exception\n",
      "  File \"/Users/mjboothaus/code/github/mjboothaus/titanic/.venv_dev_titanic-streamlit-app/lib/python3.9/site-packages/prefect/engine.py\", line 859, in create_task_run_then_submit\n",
      "    return await future._result()\n",
      "  File \"/Users/mjboothaus/code/github/mjboothaus/titanic/.venv_dev_titanic-streamlit-app/lib/python3.9/site-packages/prefect/futures.py\", line 227, in _result\n",
      "    return final_state.result(raise_on_failure=raise_on_failure)\n",
      "  File \"/Users/mjboothaus/code/github/mjboothaus/titanic/.venv_dev_titanic-streamlit-app/lib/python3.9/site-packages/prefect/orion/schemas/states.py\", line 145, in result\n",
      "    raise data\n",
      "  File \"/Users/mjboothaus/code/github/mjboothaus/titanic/.venv_dev_titanic-streamlit-app/lib/python3.9/site-packages/prefect/engine.py\", line 1108, in orchestrate_task_run\n",
      "    result = await run_sync(task.fn, *args, **kwargs)\n",
      "  File \"/Users/mjboothaus/code/github/mjboothaus/titanic/.venv_dev_titanic-streamlit-app/lib/python3.9/site-packages/prefect/utilities/asyncutils.py\", line 56, in run_sync_in_worker_thread\n",
      "    return await anyio.to_thread.run_sync(call, cancellable=True)\n",
      "  File \"/Users/mjboothaus/code/github/mjboothaus/titanic/.venv_dev_titanic-streamlit-app/lib/python3.9/site-packages/anyio/to_thread.py\", line 31, in run_sync\n",
      "    return await get_asynclib().run_sync_in_worker_thread(\n",
      "  File \"/Users/mjboothaus/code/github/mjboothaus/titanic/.venv_dev_titanic-streamlit-app/lib/python3.9/site-packages/anyio/_backends/_asyncio.py\", line 937, in run_sync_in_worker_thread\n",
      "    return await future\n",
      "  File \"/Users/mjboothaus/code/github/mjboothaus/titanic/.venv_dev_titanic-streamlit-app/lib/python3.9/site-packages/anyio/_backends/_asyncio.py\", line 867, in run\n",
      "    result = context.run(func, *args)\n",
      "  File \"/Users/mjboothaus/code/github/mjboothaus/titanic/.venv_dev_titanic-streamlit-app/lib/python3.9/site-packages/prefect_great_expectations/validation.py\", line 136, in run_checkpoint_validation\n",
      "    raise GreatExpectationValidationError(result)\n",
      "prefect_great_expectations.validation.GreatExpectationValidationError: Great Expectations Validation failed. Check result on this exception for more details.\n",
      "16:48:19.500 | ERROR   | Flow run 'ambrosial-adder' - Finished in state Failed('Flow run encountered an exception.')\n"
     ]
    }
   ],
   "source": [
    "result = validation_with_data_context()"
   ]
  },
  {
   "cell_type": "code",
   "execution_count": null,
   "metadata": {},
   "outputs": [],
   "source": []
  }
 ],
 "metadata": {
  "kernelspec": {
   "display_name": "Python 3.9.12 ('.venv_dev_titanic-streamlit-app': venv)",
   "language": "python",
   "name": "python3"
  },
  "language_info": {
   "codemirror_mode": {
    "name": "ipython",
    "version": 3
   },
   "file_extension": ".py",
   "mimetype": "text/x-python",
   "name": "python",
   "nbconvert_exporter": "python",
   "pygments_lexer": "ipython3",
   "version": "3.9.12"
  },
  "orig_nbformat": 4,
  "vscode": {
   "interpreter": {
    "hash": "3de96be564863eb70bacda9d696b254a7026b525f8ce08839ccf359adbdf151e"
   }
  }
 },
 "nbformat": 4,
 "nbformat_minor": 2
}
